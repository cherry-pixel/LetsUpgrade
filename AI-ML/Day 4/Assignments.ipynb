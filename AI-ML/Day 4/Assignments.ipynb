{
  "nbformat": 4,
  "nbformat_minor": 0,
  "metadata": {
    "colab": {
      "name": "Assignments.ipynb",
      "provenance": []
    },
    "kernelspec": {
      "name": "python3",
      "display_name": "Python 3"
    }
  },
  "cells": [
    {
      "cell_type": "markdown",
      "metadata": {
        "id": "elarQBHD1VM4",
        "colab_type": "text"
      },
      "source": [
        "##**Question 1 :**\n",
        "Research on whether addition, subtraction, multiplication, division, floor division and modulo\n",
        "operations be performed on complex numbers. Based on your study, implement a Python\n",
        "program to demonstrate these operations.\n"
      ]
    },
    {
      "cell_type": "code",
      "metadata": {
        "id": "wWQVMi1U0_jJ",
        "colab_type": "code",
        "colab": {
          "base_uri": "https://localhost:8080/",
          "height": 50
        },
        "outputId": "e631fb9f-5b79-49ea-e93b-33d6340fe7cf"
      },
      "source": [
        "# Getting Complex input from user\n",
        "num1,num2=input(\"Enter two Complex Numbers: \").split(',')\n",
        "# Typecasting\n",
        "num1,num2=complex (num1),complex (num2)\n",
        "\n",
        "# Complex Addition\n",
        "print(f\"Addition: {num1+num2}\") "
      ],
      "execution_count": 1,
      "outputs": [
        {
          "output_type": "stream",
          "text": [
            "Enter two Complex Numbers: 3+6j,6+9j\n",
            "Addition: (9+15j)\n"
          ],
          "name": "stdout"
        }
      ]
    },
    {
      "cell_type": "code",
      "metadata": {
        "id": "vgvGK1bj5E9v",
        "colab_type": "code",
        "colab": {
          "base_uri": "https://localhost:8080/",
          "height": 34
        },
        "outputId": "0c015ba7-2a6b-4221-b37e-d205b9b69020"
      },
      "source": [
        "# Complex Subtraction\n",
        "print(f\"Subtraction: {num1-num2}\")"
      ],
      "execution_count": 2,
      "outputs": [
        {
          "output_type": "stream",
          "text": [
            "Subtraction: (-3-3j)\n"
          ],
          "name": "stdout"
        }
      ]
    },
    {
      "cell_type": "code",
      "metadata": {
        "id": "8DyAMCJz5FID",
        "colab_type": "code",
        "colab": {
          "base_uri": "https://localhost:8080/",
          "height": 34
        },
        "outputId": "06c3ac16-d254-4ceb-f10b-2192f532ed7b"
      },
      "source": [
        "# Complex Multiplication\n",
        "print(f\"Multiplication: {num1*num2}\")"
      ],
      "execution_count": 3,
      "outputs": [
        {
          "output_type": "stream",
          "text": [
            "Multiplication: (-36+63j)\n"
          ],
          "name": "stdout"
        }
      ]
    },
    {
      "cell_type": "code",
      "metadata": {
        "id": "yN9dMaYi5Jss",
        "colab_type": "code",
        "colab": {
          "base_uri": "https://localhost:8080/",
          "height": 34
        },
        "outputId": "79ed19b5-5595-46f4-a3e4-c3e9112fd9d2"
      },
      "source": [
        "# Complex Division\n",
        "print(f\"Division: {num1/num2}\")"
      ],
      "execution_count": 4,
      "outputs": [
        {
          "output_type": "stream",
          "text": [
            "Division: (0.6153846153846154+0.07692307692307693j)\n"
          ],
          "name": "stdout"
        }
      ]
    },
    {
      "cell_type": "code",
      "metadata": {
        "id": "nhaZPm6X5Rzt",
        "colab_type": "code",
        "colab": {
          "base_uri": "https://localhost:8080/",
          "height": 178
        },
        "outputId": "11c5f4fe-4276-4c7d-feeb-6782885e6612"
      },
      "source": [
        "# Complex Floor Division--Will throw an error because Floor Division is not possible \n",
        "print(f\"Floor Division: {num1//num2}\")"
      ],
      "execution_count": 5,
      "outputs": [
        {
          "output_type": "error",
          "ename": "TypeError",
          "evalue": "ignored",
          "traceback": [
            "\u001b[0;31m---------------------------------------------------------------------------\u001b[0m",
            "\u001b[0;31mTypeError\u001b[0m                                 Traceback (most recent call last)",
            "\u001b[0;32m<ipython-input-5-862d50d87617>\u001b[0m in \u001b[0;36m<module>\u001b[0;34m()\u001b[0m\n\u001b[1;32m      1\u001b[0m \u001b[0;31m#Complex Floor Division--Will throw an error because Floor Division is not possible\u001b[0m\u001b[0;34m\u001b[0m\u001b[0;34m\u001b[0m\u001b[0;34m\u001b[0m\u001b[0m\n\u001b[0;32m----> 2\u001b[0;31m \u001b[0mprint\u001b[0m\u001b[0;34m(\u001b[0m\u001b[0;34mf\"Floor Division: {num1//num2}\"\u001b[0m\u001b[0;34m)\u001b[0m\u001b[0;34m\u001b[0m\u001b[0;34m\u001b[0m\u001b[0m\n\u001b[0m",
            "\u001b[0;31mTypeError\u001b[0m: can't take floor of complex number."
          ]
        }
      ]
    },
    {
      "cell_type": "code",
      "metadata": {
        "id": "8VlsslQ25eMg",
        "colab_type": "code",
        "colab": {
          "base_uri": "https://localhost:8080/",
          "height": 50
        },
        "outputId": "a0fbbdde-0fdb-43d9-f1f7-a64ce8be6e45"
      },
      "source": [
        "# Complex Modulo\n",
        "# print(num1%num2)--will also throw error because Modulo is not possible \n",
        "print(f\"The modulus of {num1} is\", abs(num1))# But modulo of a single complex number is possible\n",
        "print(f\"The modulus of {num2} is\", abs(num2))"
      ],
      "execution_count": 6,
      "outputs": [
        {
          "output_type": "stream",
          "text": [
            "The modulus of (3+6j) is 6.708203932499369\n",
            "The modulus of (6+9j) is 10.816653826391969\n"
          ],
          "name": "stdout"
        }
      ]
    },
    {
      "cell_type": "markdown",
      "metadata": {
        "id": "yGjr0wgH1dJC",
        "colab_type": "text"
      },
      "source": [
        "## **Question 2 :**\n",
        "Research on range() functions and its parameters. Create a markdown cell and write in your own\n",
        "words (no copy-paste from google please) what you understand about it. Implement a small\n",
        "program of your choice on the same.\n",
        "\n",
        "## Solution :\n",
        "- The range() function returns a sequence of numbers\n",
        "- Starts from 0 by default, and increments by 1 by default\n",
        "- Stops before a specified number.\n",
        "\n",
        "SYNTAX : \n",
        "```\n",
        "range(start, stop, step)\n",
        "```\n"
      ]
    },
    {
      "cell_type": "code",
      "metadata": {
        "id": "yiPxNXVL1c2R",
        "colab_type": "code",
        "colab": {
          "base_uri": "https://localhost:8080/",
          "height": 67
        },
        "outputId": "616a88d3-79a9-4074-af56-4554a42e6546"
      },
      "source": [
        "print(range(12)) # range(stop)\n",
        "print(range(1,12)) # range(start, stop)\n",
        "print(range(1,12,2)) # range(start, stop, step)"
      ],
      "execution_count": 7,
      "outputs": [
        {
          "output_type": "stream",
          "text": [
            "range(0, 12)\n",
            "range(1, 12)\n",
            "range(1, 12, 2)\n"
          ],
          "name": "stdout"
        }
      ]
    },
    {
      "cell_type": "code",
      "metadata": {
        "id": "lVGWuBgbC7sc",
        "colab_type": "code",
        "colab": {
          "base_uri": "https://localhost:8080/",
          "height": 67
        },
        "outputId": "29cb638f-cf4f-443d-d832-b80bf579dd3b"
      },
      "source": [
        "print([val for val in range(12)])\n",
        "print([val for val in range(1,12)])\n",
        "print([val for val in range(1,12,2)])"
      ],
      "execution_count": 8,
      "outputs": [
        {
          "output_type": "stream",
          "text": [
            "[0, 1, 2, 3, 4, 5, 6, 7, 8, 9, 10, 11]\n",
            "[1, 2, 3, 4, 5, 6, 7, 8, 9, 10, 11]\n",
            "[1, 3, 5, 7, 9, 11]\n"
          ],
          "name": "stdout"
        }
      ]
    },
    {
      "cell_type": "code",
      "metadata": {
        "id": "439EMTTCC71W",
        "colab_type": "code",
        "colab": {
          "base_uri": "https://localhost:8080/",
          "height": 34
        },
        "outputId": "4e52a230-a6c8-43aa-bec2-b152adc716c2"
      },
      "source": [
        "# Printing only even numbers using range() function\n",
        "even=range(0,11,2)\n",
        "for i in even:\n",
        "  print(i,end=\"\\t\")"
      ],
      "execution_count": 9,
      "outputs": [
        {
          "output_type": "stream",
          "text": [
            "0\t2\t4\t6\t8\t10\t"
          ],
          "name": "stdout"
        }
      ]
    },
    {
      "cell_type": "markdown",
      "metadata": {
        "id": "-jAj8le21dd-",
        "colab_type": "text"
      },
      "source": [
        "##**Question 3:**\n",
        " Consider two numbers. Perform their subtraction and if the result of subtraction is greater than\n",
        "25, print their multiplication result else print their division result.\n"
      ]
    },
    {
      "cell_type": "code",
      "metadata": {
        "id": "5rmf8lXi1crm",
        "colab_type": "code",
        "colab": {
          "base_uri": "https://localhost:8080/",
          "height": 50
        },
        "outputId": "b1c9a5fe-0353-4bc6-8bd9-0e369d997054"
      },
      "source": [
        "a,b=input(\"Enter the value of 'a' and 'b' : \").split(',')\n",
        "a,b=int (a), int (b)\n",
        "print(a*b if ((a-b)>25) else a/b)"
      ],
      "execution_count": 10,
      "outputs": [
        {
          "output_type": "stream",
          "text": [
            "Enter the value of 'a' and 'b' : 9,6\n",
            "1.5\n"
          ],
          "name": "stdout"
        }
      ]
    },
    {
      "cell_type": "markdown",
      "metadata": {
        "id": "tVFljHbq1gIn",
        "colab_type": "text"
      },
      "source": [
        "##**Question 4:**\n",
        "Consider a list of 10 elements of integer values. If the number in the list is divisible by 2, print the\n",
        "result as \"square of that number minus 2\"."
      ]
    },
    {
      "cell_type": "code",
      "metadata": {
        "id": "U25aV8we1cjh",
        "colab_type": "code",
        "colab": {
          "base_uri": "https://localhost:8080/",
          "height": 34
        },
        "outputId": "d83267bc-02ba-4727-99db-7c2f0971d736"
      },
      "source": [
        "lst=[ele for ele in range(11)]\n",
        "for val in lst:\n",
        "  if (val%2==0): \n",
        "    print(((val**2)-2),end=' ')"
      ],
      "execution_count": 11,
      "outputs": [
        {
          "output_type": "stream",
          "text": [
            "-2 2 14 34 62 98 "
          ],
          "name": "stdout"
        }
      ]
    },
    {
      "cell_type": "markdown",
      "metadata": {
        "id": "-9B9aWpz1g4f",
        "colab_type": "text"
      },
      "source": [
        "##**Question 5:**\n",
        "Consider a list of 10 elements. Print all the elements in the list which are greater than 7 when that\n",
        "number is divided 2."
      ]
    },
    {
      "cell_type": "code",
      "metadata": {
        "id": "-Pp13DZi1cTA",
        "colab_type": "code",
        "colab": {
          "base_uri": "https://localhost:8080/",
          "height": 34
        },
        "outputId": "5ba084f2-a6d7-4df2-e69e-094d9723d3f4"
      },
      "source": [
        "list (filter(lambda x:x>7,lst))"
      ],
      "execution_count": 14,
      "outputs": [
        {
          "output_type": "execute_result",
          "data": {
            "text/plain": [
              "[8, 9, 10]"
            ]
          },
          "metadata": {
            "tags": []
          },
          "execution_count": 14
        }
      ]
    }
  ]
}