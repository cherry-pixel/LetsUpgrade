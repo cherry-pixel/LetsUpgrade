{
  "nbformat": 4,
  "nbformat_minor": 0,
  "metadata": {
    "colab": {
      "name": "Assignment.ipynb",
      "provenance": [],
      "collapsed_sections": []
    },
    "kernelspec": {
      "name": "python3",
      "display_name": "Python 3"
    }
  },
  "cells": [
    {
      "cell_type": "markdown",
      "metadata": {
        "id": "LIWniLZOnn-z",
        "colab_type": "text"
      },
      "source": [
        "# 1. Create a 3x3x3 array with random values "
      ]
    },
    {
      "cell_type": "code",
      "metadata": {
        "id": "z4tZ9cHcoDnt",
        "colab_type": "code",
        "colab": {
          "base_uri": "https://localhost:8080/",
          "height": 204
        },
        "outputId": "fb735dfe-8f49-4dbb-b302-c33b04ccdd09"
      },
      "source": [
        "import numpy as np\n",
        "np.random.random((3,3,3))"
      ],
      "execution_count": 2,
      "outputs": [
        {
          "output_type": "execute_result",
          "data": {
            "text/plain": [
              "array([[[0.90897245, 0.52520541, 0.82943884],\n",
              "        [0.45602399, 0.68483899, 0.09510314],\n",
              "        [0.53699996, 0.63917197, 0.05991362]],\n",
              "\n",
              "       [[0.37433129, 0.94987989, 0.71443793],\n",
              "        [0.67052989, 0.72043636, 0.95147217],\n",
              "        [0.04313441, 0.02545742, 0.90095641]],\n",
              "\n",
              "       [[0.71754902, 0.11901892, 0.76966606],\n",
              "        [0.24353976, 0.91201182, 0.41774979],\n",
              "        [0.57945195, 0.42843895, 0.27987667]]])"
            ]
          },
          "metadata": {
            "tags": []
          },
          "execution_count": 2
        }
      ]
    },
    {
      "cell_type": "markdown",
      "metadata": {
        "id": "0FrOyDlynn_B",
        "colab_type": "text"
      },
      "source": [
        "# 2.Create a 5x5 matrix with values 1,2,3,4 just below the diagonal"
      ]
    },
    {
      "cell_type": "code",
      "metadata": {
        "id": "1IuNdgTwnn_D",
        "colab_type": "code",
        "colab": {
          "base_uri": "https://localhost:8080/",
          "height": 102
        },
        "outputId": "f198ded7-b18c-4c4a-9d81-af244c7e8da7"
      },
      "source": [
        "np.diag([1,2,3,4,5])"
      ],
      "execution_count": 12,
      "outputs": [
        {
          "output_type": "execute_result",
          "data": {
            "text/plain": [
              "array([[1, 0, 0, 0, 0],\n",
              "       [0, 2, 0, 0, 0],\n",
              "       [0, 0, 3, 0, 0],\n",
              "       [0, 0, 0, 4, 0],\n",
              "       [0, 0, 0, 0, 5]])"
            ]
          },
          "metadata": {
            "tags": []
          },
          "execution_count": 12
        }
      ]
    },
    {
      "cell_type": "markdown",
      "metadata": {
        "id": "5TwimLfcnn_L",
        "colab_type": "text"
      },
      "source": [
        "# 3.Create a 8x8 matrix and fill it with a checkerboard pattern\n"
      ]
    },
    {
      "cell_type": "code",
      "metadata": {
        "id": "WfktgLaDn5gc",
        "colab_type": "code",
        "colab": {
          "base_uri": "https://localhost:8080/",
          "height": 153
        },
        "outputId": "45cbd707-a799-477f-eb17-b44055687ce2"
      },
      "source": [
        "z=np.zeros((8,8),dtype=int)\n",
        "z[1::2,::2] = z[::2,1::2] = 1\n",
        "print(z)"
      ],
      "execution_count": 4,
      "outputs": [
        {
          "output_type": "stream",
          "text": [
            "[[0 1 0 1 0 1 0 1]\n",
            " [1 0 1 0 1 0 1 0]\n",
            " [0 1 0 1 0 1 0 1]\n",
            " [1 0 1 0 1 0 1 0]\n",
            " [0 1 0 1 0 1 0 1]\n",
            " [1 0 1 0 1 0 1 0]\n",
            " [0 1 0 1 0 1 0 1]\n",
            " [1 0 1 0 1 0 1 0]]\n"
          ],
          "name": "stdout"
        }
      ]
    },
    {
      "cell_type": "markdown",
      "metadata": {
        "id": "Al48nVvZnn_S",
        "colab_type": "text"
      },
      "source": [
        "# 4. Normalize a 5x5 random matrix"
      ]
    },
    {
      "cell_type": "code",
      "metadata": {
        "id": "8iB0mRcLnn_S",
        "colab_type": "code",
        "colab": {
          "base_uri": "https://localhost:8080/",
          "height": 238
        },
        "outputId": "50ef57dc-1193-41be-e764-54d30670aff7"
      },
      "source": [
        "mat=np.random.random((5,5))\n",
        "print(\"Before Normalization: \\n\",mat)\n",
        "max,min=mat.max(),mat.min()\n",
        "mat = (mat - min)/(max - min)\n",
        "print(\"\\nAfter Normalization: \\n\",mat)"
      ],
      "execution_count": 5,
      "outputs": [
        {
          "output_type": "stream",
          "text": [
            "Before Normalization: \n",
            " [[0.005454   0.86631901 0.54283766 0.41184315 0.58634487]\n",
            " [0.18862563 0.40279054 0.71346251 0.81448007 0.87975334]\n",
            " [0.64831476 0.22192456 0.2932577  0.24170932 0.65341906]\n",
            " [0.81361902 0.21237896 0.73157461 0.74684776 0.72594806]\n",
            " [0.02613614 0.33372921 0.2948538  0.26954962 0.07772307]]\n",
            "\n",
            "After Normalization: \n",
            " [[0.         0.98463417 0.61464493 0.46481695 0.6644073 ]\n",
            " [0.20950677 0.45446281 0.80980104 0.9253422  1.        ]\n",
            " [0.7352868  0.24759319 0.3291821  0.27022246 0.74112496]\n",
            " [0.92435735 0.23667519 0.83051717 0.84798618 0.82408167]\n",
            " [0.02365567 0.37547233 0.33100769 0.30206545 0.08265941]]\n"
          ],
          "name": "stdout"
        }
      ]
    },
    {
      "cell_type": "markdown",
      "metadata": {
        "id": "xn3MwGoVnn_W",
        "colab_type": "text"
      },
      "source": [
        "# 5.  How to find common values between two arrays?"
      ]
    },
    {
      "cell_type": "code",
      "metadata": {
        "id": "Ek2IhKPFnn_W",
        "colab_type": "code",
        "colab": {
          "base_uri": "https://localhost:8080/",
          "height": 68
        },
        "outputId": "87dcffe1-af78-4425-db51-324f0e0422c5"
      },
      "source": [
        "arr1=np.arange(1,11)\n",
        "arr2=[ele for ele in range(0,11,2)]\n",
        "arr2=np.array(arr2)\n",
        "print(f\"Array 1 : {arr1}\\nArray 2 : {arr2}\")\n",
        "print(f\"Common values: {np.intersect1d(arr1,arr2)}\")"
      ],
      "execution_count": 6,
      "outputs": [
        {
          "output_type": "stream",
          "text": [
            "Array 1 : [ 1  2  3  4  5  6  7  8  9 10]\n",
            "Array 2 : [ 0  2  4  6  8 10]\n",
            "Common values: [ 2  4  6  8 10]\n"
          ],
          "name": "stdout"
        }
      ]
    },
    {
      "cell_type": "markdown",
      "metadata": {
        "id": "t0zsacYpnn_a",
        "colab_type": "text"
      },
      "source": [
        "# 6.How to get the dates of yesterday, today and tomorrow?"
      ]
    },
    {
      "cell_type": "code",
      "metadata": {
        "id": "Xa7104SLnn_n",
        "colab_type": "code",
        "colab": {
          "base_uri": "https://localhost:8080/",
          "height": 68
        },
        "outputId": "d6a1ff7b-415f-4aa4-889b-28d160a5379b"
      },
      "source": [
        "today=np.datetime64('today','D')\n",
        "yesterday=np.datetime64('today','D') - np.timedelta64(1,'D')\n",
        "tmrw=np.datetime64('today','D') + np.timedelta64(1,'D')\n",
        "print(f\"Yesterday : {yesterday}\\nToday : {today}\\nTomorrow : {tmrw}\")"
      ],
      "execution_count": 7,
      "outputs": [
        {
          "output_type": "stream",
          "text": [
            "Yesterday : 2020-07-25\n",
            "Today : 2020-07-26\n",
            "Tomorrow : 2020-07-27\n"
          ],
          "name": "stdout"
        }
      ]
    },
    {
      "cell_type": "markdown",
      "metadata": {
        "id": "EH-LYE7Onn_h",
        "colab_type": "text"
      },
      "source": [
        "# 7. Consider two random array A and B, check if they are equal"
      ]
    },
    {
      "cell_type": "code",
      "metadata": {
        "id": "JfudS1Conn_b",
        "colab_type": "code",
        "colab": {
          "base_uri": "https://localhost:8080/",
          "height": 34
        },
        "outputId": "5287ee0b-5d11-4155-826a-4e7d3494e337"
      },
      "source": [
        "ar1=np.arange(np.random.randint(1),np.random.randint(10))\n",
        "ar2=np.arange(np.random.randint(1),np.random.randint(10))#,np.random.randint(1,3))\n",
        "res=np.array_equal(ar1,ar2)\n",
        "res"
      ],
      "execution_count": 8,
      "outputs": [
        {
          "output_type": "execute_result",
          "data": {
            "text/plain": [
              "False"
            ]
          },
          "metadata": {
            "tags": []
          },
          "execution_count": 8
        }
      ]
    },
    {
      "cell_type": "code",
      "metadata": {
        "id": "54YmmVqta_Eb",
        "colab_type": "code",
        "colab": {
          "base_uri": "https://localhost:8080/",
          "height": 34
        },
        "outputId": "c162c6e3-ec87-486a-b526-210bde0aa167"
      },
      "source": [
        "a=b=np.array([1,2,3])\n",
        "res=np.array_equal(a,b)\n",
        "res"
      ],
      "execution_count": 9,
      "outputs": [
        {
          "output_type": "execute_result",
          "data": {
            "text/plain": [
              "True"
            ]
          },
          "metadata": {
            "tags": []
          },
          "execution_count": 9
        }
      ]
    },
    {
      "cell_type": "markdown",
      "metadata": {
        "id": "ThkoOP6enn_m",
        "colab_type": "text"
      },
      "source": [
        "# 8.Create random vector of size 10 and replace the maximum value by 0 "
      ]
    },
    {
      "cell_type": "code",
      "metadata": {
        "id": "42sAFpn6oPEb",
        "colab_type": "code",
        "colab": {
          "base_uri": "https://localhost:8080/",
          "height": 85
        },
        "outputId": "081b4044-96d9-4d27-fff3-5f66b5919d88"
      },
      "source": [
        "vector=np.random.random(10)\n",
        "print(vector)\n",
        "vector[vector.argmax()]=0\n",
        "print(vector)"
      ],
      "execution_count": 13,
      "outputs": [
        {
          "output_type": "stream",
          "text": [
            "[0.30808901 0.29492447 0.16281074 0.99746292 0.16465783 0.64778414\n",
            " 0.98224055 0.78456949 0.82981207 0.80765092]\n",
            "[0.30808901 0.29492447 0.16281074 0.         0.16465783 0.64778414\n",
            " 0.98224055 0.78456949 0.82981207 0.80765092]\n"
          ],
          "name": "stdout"
        }
      ]
    },
    {
      "cell_type": "markdown",
      "metadata": {
        "id": "-9nbLVGqnn_r",
        "colab_type": "text"
      },
      "source": [
        "# 9. How to print all the values of an array?"
      ]
    },
    {
      "cell_type": "code",
      "metadata": {
        "id": "ljDKo32Cnn_s",
        "colab_type": "code",
        "colab": {
          "base_uri": "https://localhost:8080/",
          "height": 51
        },
        "outputId": "2b7d4f8a-4c92-4177-fd5a-949a8b3374e8"
      },
      "source": [
        "arr=np.array([2,4,5,3,0,7,8])\n",
        "print(arr)\n",
        "np.set_printoptions(threshold=np.inf)\n",
        "print(arr)"
      ],
      "execution_count": 10,
      "outputs": [
        {
          "output_type": "stream",
          "text": [
            "[2 4 5 3 0 7 8]\n",
            "[2 4 5 3 0 7 8]\n"
          ],
          "name": "stdout"
        }
      ]
    },
    {
      "cell_type": "markdown",
      "metadata": {
        "id": "ZdH1XG3Bnn_v",
        "colab_type": "text"
      },
      "source": [
        "# 10.Subtract the mean of each row of a matrix"
      ]
    },
    {
      "cell_type": "code",
      "metadata": {
        "id": "Y_ug9u8Unn_w",
        "colab_type": "code",
        "colab": {
          "base_uri": "https://localhost:8080/",
          "height": 221
        },
        "outputId": "6862fc08-94aa-417e-fb62-f7e50ae165ae"
      },
      "source": [
        "row=np.random.rand(3,9)\n",
        "print(row)\n",
        "row=row-row.mean(axis=1, keepdims=True)\n",
        "row"
      ],
      "execution_count": 19,
      "outputs": [
        {
          "output_type": "stream",
          "text": [
            "[[0.28681782 0.23856296 0.19879531 0.48727154 0.98961143 0.7419714\n",
            "  0.6984331  0.76684037 0.18937938]\n",
            " [0.43308872 0.34972679 0.41919184 0.82703026 0.49723328 0.92412959\n",
            "  0.40412969 0.57787134 0.11435273]\n",
            " [0.70844346 0.02824921 0.71069291 0.04093828 0.34459855 0.20593731\n",
            "  0.87633088 0.35839689 0.82832316]]\n"
          ],
          "name": "stdout"
        },
        {
          "output_type": "execute_result",
          "data": {
            "text/plain": [
              "array([[-0.22403588, -0.27229074, -0.31205839, -0.02358216,  0.47875773,\n",
              "         0.2311177 ,  0.18757939,  0.25598667, -0.32147432],\n",
              "       [-0.0721062 , -0.15546813, -0.08600307,  0.32183535, -0.00796164,\n",
              "         0.41893467, -0.10106523,  0.07267642, -0.39084218],\n",
              "       [ 0.25267561, -0.42751864,  0.25492506, -0.41482957, -0.1111693 ,\n",
              "        -0.24983054,  0.42056303, -0.09737096,  0.37255531]])"
            ]
          },
          "metadata": {
            "tags": []
          },
          "execution_count": 19
        }
      ]
    },
    {
      "cell_type": "markdown",
      "metadata": {
        "id": "QtEv5m3gnn_-",
        "colab_type": "text"
      },
      "source": [
        "# 11.Consider a given vector, how to add 1 to each element indexed by a second vector (be careful with repeated indices)? "
      ]
    },
    {
      "cell_type": "code",
      "metadata": {
        "id": "60qwc2v6nn_-",
        "colab_type": "code",
        "colab": {
          "base_uri": "https://localhost:8080/",
          "height": 34
        },
        "outputId": "b5b7b4d5-61e8-458c-9da1-1f22b4ddab36"
      },
      "source": [
        "Z = np.ones(10)\n",
        "I = np.random.randint(0,len(Z),20)\n",
        "Z += np.bincount(I, minlength=len(Z))\n",
        "print(Z)"
      ],
      "execution_count": 45,
      "outputs": [
        {
          "output_type": "stream",
          "text": [
            "[1. 2. 3. 5. 1. 5. 5. 2. 3. 3.]\n"
          ],
          "name": "stdout"
        }
      ]
    },
    {
      "cell_type": "markdown",
      "metadata": {
        "id": "mb5g7O3mnoAE",
        "colab_type": "text"
      },
      "source": [
        "# 12.How to get the diagonal of a dot product?"
      ]
    },
    {
      "cell_type": "code",
      "metadata": {
        "id": "2Z4BX2EwnoAE",
        "colab_type": "code",
        "colab": {
          "base_uri": "https://localhost:8080/",
          "height": 34
        },
        "outputId": "5c7c979a-4057-475f-8125-e5e929f57fa0"
      },
      "source": [
        "A = np.random.uniform(0,1,(5,5))\n",
        "B = np.random.uniform(0,1,(5,5))\n",
        "np.einsum(\"ij,ji->i\", A, B)"
      ],
      "execution_count": 46,
      "outputs": [
        {
          "output_type": "execute_result",
          "data": {
            "text/plain": [
              "array([1.57433793, 1.11741068, 1.67218342, 1.0022606 , 1.26214671])"
            ]
          },
          "metadata": {
            "tags": []
          },
          "execution_count": 46
        }
      ]
    },
    {
      "cell_type": "markdown",
      "metadata": {
        "id": "PhcknjsunoAI",
        "colab_type": "text"
      },
      "source": [
        "# 13.How to find the most frequent value in an array?"
      ]
    },
    {
      "cell_type": "code",
      "metadata": {
        "id": "iHJc9_vxnoAN",
        "colab_type": "code",
        "colab": {
          "base_uri": "https://localhost:8080/",
          "height": 34
        },
        "outputId": "df907ecc-467e-459b-bc19-5f26ac6d876e"
      },
      "source": [
        "x=np.array([1,2,5,3,9,6,4,9,5,9,8,0,9,6])\n",
        "np.bincount(x).argmax()"
      ],
      "execution_count": 25,
      "outputs": [
        {
          "output_type": "execute_result",
          "data": {
            "text/plain": [
              "9"
            ]
          },
          "metadata": {
            "tags": []
          },
          "execution_count": 25
        }
      ]
    },
    {
      "cell_type": "markdown",
      "metadata": {
        "id": "Gl9-BKZRnoAM",
        "colab_type": "text"
      },
      "source": [
        "# 14.How to get the n largest values of an array\n"
      ]
    },
    {
      "cell_type": "code",
      "metadata": {
        "id": "IqiB32TTnoAI",
        "colab_type": "code",
        "colab": {
          "base_uri": "https://localhost:8080/",
          "height": 34
        },
        "outputId": "c848bf81-8bc9-4d01-be56-cc1d4003346f"
      },
      "source": [
        "l=np.arange(10)\n",
        "print(l[np.argsort(l)[-1:]])"
      ],
      "execution_count": 41,
      "outputs": [
        {
          "output_type": "stream",
          "text": [
            "[9]\n"
          ],
          "name": "stdout"
        }
      ]
    },
    {
      "cell_type": "markdown",
      "metadata": {
        "id": "iq3t7F9PnoAR",
        "colab_type": "text"
      },
      "source": [
        "# 15.How to create a record array from a regular array?"
      ]
    },
    {
      "cell_type": "code",
      "metadata": {
        "id": "chIcDhnjnoAS",
        "colab_type": "code",
        "colab": {
          "base_uri": "https://localhost:8080/",
          "height": 34
        },
        "outputId": "075605eb-4594-4145-dcba-47f58e68609f"
      },
      "source": [
        "a1 = np.array(['A','B','c'])\n",
        "a2 = np.array([1,2,3])\n",
        "a3 = np.array(['Chocolate','Vanilla','Strawberry'])\n",
        "rec = np.core.records.fromarrays([a2,a1,a3])\n",
        "print(rec[0],rec[1],rec[2])"
      ],
      "execution_count": 44,
      "outputs": [
        {
          "output_type": "stream",
          "text": [
            "(1, 'A', 'Chocolate') (2, 'B', 'Vanilla') (3, 'c', 'Strawberry')\n"
          ],
          "name": "stdout"
        }
      ]
    }
  ]
}