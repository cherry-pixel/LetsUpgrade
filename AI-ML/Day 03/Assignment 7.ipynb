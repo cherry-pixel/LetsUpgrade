{
 "cells": [
  {
   "cell_type": "markdown",
   "metadata": {},
   "source": [
    "**7. Create a Markdown cell in Jupyter and list all steps discussed in the session by Dr.Darshan Ingle sir to create Github profile and upload Githubs Assignment link.**\n",
    "\n",
    "1. Create a __Github public repo__ and name it <font color=\"orange\">LetsUpgrade AI/ML</font><br><br>\n",
    "2. Upload the files/solution in the repo in __day wise manner.__<br><br>\n",
    "3. Copy the URL of the Folder of that day and paste in the **Assignment Submission Form** (Google Form).<br><br>\n",
    "4. Make sure you are filling **correct details** in the Assignment Submission Form.<br><br>\n",
    "5. All the drop-downs will be available till the **week end only**. i.e Previous weeks drop-down will disappear on each Sunday 11:59 PM.<br><br>\n",
    "6. You have to submit all the assignment given during the weekdays by respective **SUNDAY 11:59 PM IST.**"
   ]
  }
 ],
 "metadata": {
  "kernelspec": {
   "display_name": "Python 3",
   "language": "python",
   "name": "python3"
  },
  "language_info": {
   "codemirror_mode": {
    "name": "ipython",
    "version": 3
   },
   "file_extension": ".py",
   "mimetype": "text/x-python",
   "name": "python",
   "nbconvert_exporter": "python",
   "pygments_lexer": "ipython3",
   "version": "3.7.4"
  }
 },
 "nbformat": 4,
 "nbformat_minor": 2
}
