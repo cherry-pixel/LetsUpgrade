{
  "nbformat": 4,
  "nbformat_minor": 0,
  "metadata": {
    "colab": {
      "name": "Assignment.ipynb",
      "provenance": [],
      "collapsed_sections": []
    },
    "kernelspec": {
      "name": "python3",
      "display_name": "Python 3"
    }
  },
  "cells": [
    {
      "cell_type": "markdown",
      "metadata": {
        "id": "n94Fb3sYtOvn",
        "colab_type": "text"
      },
      "source": [
        "# Loading the Dataset"
      ]
    },
    {
      "cell_type": "code",
      "metadata": {
        "id": "obUKdDcDl7df",
        "colab_type": "code",
        "colab": {}
      },
      "source": [
        "import pandas as pd\n",
        "import matplotlib.pyplot as plt\n",
        "\n",
        "origdata=pd.read_csv('general_data.csv')"
      ],
      "execution_count": 35,
      "outputs": []
    },
    {
      "cell_type": "markdown",
      "metadata": {
        "id": "iN7cSL4ykhB8",
        "colab_type": "text"
      },
      "source": [
        "# Univarient Analysis\n",
        "\n",
        "## Measure of Central Tendency\n"
      ]
    },
    {
      "cell_type": "code",
      "metadata": {
        "id": "z1uXp61Fkpw8",
        "colab_type": "code",
        "colab": {
          "base_uri": "https://localhost:8080/",
          "height": 307
        },
        "outputId": "edf6d9f6-b544-413d-8457-c421337fdb46"
      },
      "source": [
        "anlyze_data=origdata\n",
        "anlyze_data.describe()"
      ],
      "execution_count": 36,
      "outputs": [
        {
          "output_type": "execute_result",
          "data": {
            "text/html": [
              "<div>\n",
              "<style scoped>\n",
              "    .dataframe tbody tr th:only-of-type {\n",
              "        vertical-align: middle;\n",
              "    }\n",
              "\n",
              "    .dataframe tbody tr th {\n",
              "        vertical-align: top;\n",
              "    }\n",
              "\n",
              "    .dataframe thead th {\n",
              "        text-align: right;\n",
              "    }\n",
              "</style>\n",
              "<table border=\"1\" class=\"dataframe\">\n",
              "  <thead>\n",
              "    <tr style=\"text-align: right;\">\n",
              "      <th></th>\n",
              "      <th>Age</th>\n",
              "      <th>DistanceFromHome</th>\n",
              "      <th>Education</th>\n",
              "      <th>EmployeeCount</th>\n",
              "      <th>EmployeeID</th>\n",
              "      <th>JobLevel</th>\n",
              "      <th>MonthlyIncome</th>\n",
              "      <th>NumCompaniesWorked</th>\n",
              "      <th>PercentSalaryHike</th>\n",
              "      <th>StandardHours</th>\n",
              "      <th>StockOptionLevel</th>\n",
              "      <th>TotalWorkingYears</th>\n",
              "      <th>TrainingTimesLastYear</th>\n",
              "      <th>YearsAtCompany</th>\n",
              "      <th>YearsSinceLastPromotion</th>\n",
              "      <th>YearsWithCurrManager</th>\n",
              "    </tr>\n",
              "  </thead>\n",
              "  <tbody>\n",
              "    <tr>\n",
              "      <th>count</th>\n",
              "      <td>4410.000000</td>\n",
              "      <td>4410.000000</td>\n",
              "      <td>4410.000000</td>\n",
              "      <td>4410.0</td>\n",
              "      <td>4410.000000</td>\n",
              "      <td>4410.000000</td>\n",
              "      <td>4410.000000</td>\n",
              "      <td>4391.000000</td>\n",
              "      <td>4410.000000</td>\n",
              "      <td>4410.0</td>\n",
              "      <td>4410.000000</td>\n",
              "      <td>4401.000000</td>\n",
              "      <td>4410.000000</td>\n",
              "      <td>4410.000000</td>\n",
              "      <td>4410.000000</td>\n",
              "      <td>4410.000000</td>\n",
              "    </tr>\n",
              "    <tr>\n",
              "      <th>mean</th>\n",
              "      <td>36.923810</td>\n",
              "      <td>9.192517</td>\n",
              "      <td>2.912925</td>\n",
              "      <td>1.0</td>\n",
              "      <td>2205.500000</td>\n",
              "      <td>2.063946</td>\n",
              "      <td>65029.312925</td>\n",
              "      <td>2.694830</td>\n",
              "      <td>15.209524</td>\n",
              "      <td>8.0</td>\n",
              "      <td>0.793878</td>\n",
              "      <td>11.279936</td>\n",
              "      <td>2.799320</td>\n",
              "      <td>7.008163</td>\n",
              "      <td>2.187755</td>\n",
              "      <td>4.123129</td>\n",
              "    </tr>\n",
              "    <tr>\n",
              "      <th>std</th>\n",
              "      <td>9.133301</td>\n",
              "      <td>8.105026</td>\n",
              "      <td>1.023933</td>\n",
              "      <td>0.0</td>\n",
              "      <td>1273.201673</td>\n",
              "      <td>1.106689</td>\n",
              "      <td>47068.888559</td>\n",
              "      <td>2.498887</td>\n",
              "      <td>3.659108</td>\n",
              "      <td>0.0</td>\n",
              "      <td>0.851883</td>\n",
              "      <td>7.782222</td>\n",
              "      <td>1.288978</td>\n",
              "      <td>6.125135</td>\n",
              "      <td>3.221699</td>\n",
              "      <td>3.567327</td>\n",
              "    </tr>\n",
              "    <tr>\n",
              "      <th>min</th>\n",
              "      <td>18.000000</td>\n",
              "      <td>1.000000</td>\n",
              "      <td>1.000000</td>\n",
              "      <td>1.0</td>\n",
              "      <td>1.000000</td>\n",
              "      <td>1.000000</td>\n",
              "      <td>10090.000000</td>\n",
              "      <td>0.000000</td>\n",
              "      <td>11.000000</td>\n",
              "      <td>8.0</td>\n",
              "      <td>0.000000</td>\n",
              "      <td>0.000000</td>\n",
              "      <td>0.000000</td>\n",
              "      <td>0.000000</td>\n",
              "      <td>0.000000</td>\n",
              "      <td>0.000000</td>\n",
              "    </tr>\n",
              "    <tr>\n",
              "      <th>25%</th>\n",
              "      <td>30.000000</td>\n",
              "      <td>2.000000</td>\n",
              "      <td>2.000000</td>\n",
              "      <td>1.0</td>\n",
              "      <td>1103.250000</td>\n",
              "      <td>1.000000</td>\n",
              "      <td>29110.000000</td>\n",
              "      <td>1.000000</td>\n",
              "      <td>12.000000</td>\n",
              "      <td>8.0</td>\n",
              "      <td>0.000000</td>\n",
              "      <td>6.000000</td>\n",
              "      <td>2.000000</td>\n",
              "      <td>3.000000</td>\n",
              "      <td>0.000000</td>\n",
              "      <td>2.000000</td>\n",
              "    </tr>\n",
              "    <tr>\n",
              "      <th>50%</th>\n",
              "      <td>36.000000</td>\n",
              "      <td>7.000000</td>\n",
              "      <td>3.000000</td>\n",
              "      <td>1.0</td>\n",
              "      <td>2205.500000</td>\n",
              "      <td>2.000000</td>\n",
              "      <td>49190.000000</td>\n",
              "      <td>2.000000</td>\n",
              "      <td>14.000000</td>\n",
              "      <td>8.0</td>\n",
              "      <td>1.000000</td>\n",
              "      <td>10.000000</td>\n",
              "      <td>3.000000</td>\n",
              "      <td>5.000000</td>\n",
              "      <td>1.000000</td>\n",
              "      <td>3.000000</td>\n",
              "    </tr>\n",
              "    <tr>\n",
              "      <th>75%</th>\n",
              "      <td>43.000000</td>\n",
              "      <td>14.000000</td>\n",
              "      <td>4.000000</td>\n",
              "      <td>1.0</td>\n",
              "      <td>3307.750000</td>\n",
              "      <td>3.000000</td>\n",
              "      <td>83800.000000</td>\n",
              "      <td>4.000000</td>\n",
              "      <td>18.000000</td>\n",
              "      <td>8.0</td>\n",
              "      <td>1.000000</td>\n",
              "      <td>15.000000</td>\n",
              "      <td>3.000000</td>\n",
              "      <td>9.000000</td>\n",
              "      <td>3.000000</td>\n",
              "      <td>7.000000</td>\n",
              "    </tr>\n",
              "    <tr>\n",
              "      <th>max</th>\n",
              "      <td>60.000000</td>\n",
              "      <td>29.000000</td>\n",
              "      <td>5.000000</td>\n",
              "      <td>1.0</td>\n",
              "      <td>4410.000000</td>\n",
              "      <td>5.000000</td>\n",
              "      <td>199990.000000</td>\n",
              "      <td>9.000000</td>\n",
              "      <td>25.000000</td>\n",
              "      <td>8.0</td>\n",
              "      <td>3.000000</td>\n",
              "      <td>40.000000</td>\n",
              "      <td>6.000000</td>\n",
              "      <td>40.000000</td>\n",
              "      <td>15.000000</td>\n",
              "      <td>17.000000</td>\n",
              "    </tr>\n",
              "  </tbody>\n",
              "</table>\n",
              "</div>"
            ],
            "text/plain": [
              "               Age  ...  YearsWithCurrManager\n",
              "count  4410.000000  ...           4410.000000\n",
              "mean     36.923810  ...              4.123129\n",
              "std       9.133301  ...              3.567327\n",
              "min      18.000000  ...              0.000000\n",
              "25%      30.000000  ...              2.000000\n",
              "50%      36.000000  ...              3.000000\n",
              "75%      43.000000  ...              7.000000\n",
              "max      60.000000  ...             17.000000\n",
              "\n",
              "[8 rows x 16 columns]"
            ]
          },
          "metadata": {
            "tags": []
          },
          "execution_count": 36
        }
      ]
    },
    {
      "cell_type": "code",
      "metadata": {
        "id": "8S7vxLMvk3fr",
        "colab_type": "code",
        "colab": {
          "base_uri": "https://localhost:8080/",
          "height": 318
        },
        "outputId": "b1e545d9-2545-49ff-adf8-100cb0f07d1e"
      },
      "source": [
        "# Finding Median\n",
        "anlyze_data.median()"
      ],
      "execution_count": 37,
      "outputs": [
        {
          "output_type": "execute_result",
          "data": {
            "text/plain": [
              "Age                           36.0\n",
              "DistanceFromHome               7.0\n",
              "Education                      3.0\n",
              "EmployeeCount                  1.0\n",
              "EmployeeID                  2205.5\n",
              "JobLevel                       2.0\n",
              "MonthlyIncome              49190.0\n",
              "NumCompaniesWorked             2.0\n",
              "PercentSalaryHike             14.0\n",
              "StandardHours                  8.0\n",
              "StockOptionLevel               1.0\n",
              "TotalWorkingYears             10.0\n",
              "TrainingTimesLastYear          3.0\n",
              "YearsAtCompany                 5.0\n",
              "YearsSinceLastPromotion        1.0\n",
              "YearsWithCurrManager           3.0\n",
              "dtype: float64"
            ]
          },
          "metadata": {
            "tags": []
          },
          "execution_count": 37
        }
      ]
    },
    {
      "cell_type": "code",
      "metadata": {
        "id": "QCrv7eq2lMRK",
        "colab_type": "code",
        "colab": {
          "base_uri": "https://localhost:8080/",
          "height": 443
        },
        "outputId": "b0c9b02e-d64e-45a0-a7b2-c49f14c87d8b"
      },
      "source": [
        "# Finding Mode\n",
        "anlyze_data.mode()"
      ],
      "execution_count": 38,
      "outputs": [
        {
          "output_type": "execute_result",
          "data": {
            "text/html": [
              "<div>\n",
              "<style scoped>\n",
              "    .dataframe tbody tr th:only-of-type {\n",
              "        vertical-align: middle;\n",
              "    }\n",
              "\n",
              "    .dataframe tbody tr th {\n",
              "        vertical-align: top;\n",
              "    }\n",
              "\n",
              "    .dataframe thead th {\n",
              "        text-align: right;\n",
              "    }\n",
              "</style>\n",
              "<table border=\"1\" class=\"dataframe\">\n",
              "  <thead>\n",
              "    <tr style=\"text-align: right;\">\n",
              "      <th></th>\n",
              "      <th>Age</th>\n",
              "      <th>Attrition</th>\n",
              "      <th>BusinessTravel</th>\n",
              "      <th>Department</th>\n",
              "      <th>DistanceFromHome</th>\n",
              "      <th>Education</th>\n",
              "      <th>EducationField</th>\n",
              "      <th>EmployeeCount</th>\n",
              "      <th>EmployeeID</th>\n",
              "      <th>Gender</th>\n",
              "      <th>JobLevel</th>\n",
              "      <th>JobRole</th>\n",
              "      <th>MaritalStatus</th>\n",
              "      <th>MonthlyIncome</th>\n",
              "      <th>NumCompaniesWorked</th>\n",
              "      <th>Over18</th>\n",
              "      <th>PercentSalaryHike</th>\n",
              "      <th>StandardHours</th>\n",
              "      <th>StockOptionLevel</th>\n",
              "      <th>TotalWorkingYears</th>\n",
              "      <th>TrainingTimesLastYear</th>\n",
              "      <th>YearsAtCompany</th>\n",
              "      <th>YearsSinceLastPromotion</th>\n",
              "      <th>YearsWithCurrManager</th>\n",
              "    </tr>\n",
              "  </thead>\n",
              "  <tbody>\n",
              "    <tr>\n",
              "      <th>0</th>\n",
              "      <td>35.0</td>\n",
              "      <td>No</td>\n",
              "      <td>Travel_Rarely</td>\n",
              "      <td>Research &amp; Development</td>\n",
              "      <td>2.0</td>\n",
              "      <td>3.0</td>\n",
              "      <td>Life Sciences</td>\n",
              "      <td>1.0</td>\n",
              "      <td>1</td>\n",
              "      <td>Male</td>\n",
              "      <td>1.0</td>\n",
              "      <td>Sales Executive</td>\n",
              "      <td>Married</td>\n",
              "      <td>23420.0</td>\n",
              "      <td>1.0</td>\n",
              "      <td>Y</td>\n",
              "      <td>11.0</td>\n",
              "      <td>8.0</td>\n",
              "      <td>0.0</td>\n",
              "      <td>10.0</td>\n",
              "      <td>2.0</td>\n",
              "      <td>5.0</td>\n",
              "      <td>0.0</td>\n",
              "      <td>2.0</td>\n",
              "    </tr>\n",
              "    <tr>\n",
              "      <th>1</th>\n",
              "      <td>NaN</td>\n",
              "      <td>NaN</td>\n",
              "      <td>NaN</td>\n",
              "      <td>NaN</td>\n",
              "      <td>NaN</td>\n",
              "      <td>NaN</td>\n",
              "      <td>NaN</td>\n",
              "      <td>NaN</td>\n",
              "      <td>2</td>\n",
              "      <td>NaN</td>\n",
              "      <td>NaN</td>\n",
              "      <td>NaN</td>\n",
              "      <td>NaN</td>\n",
              "      <td>NaN</td>\n",
              "      <td>NaN</td>\n",
              "      <td>NaN</td>\n",
              "      <td>NaN</td>\n",
              "      <td>NaN</td>\n",
              "      <td>NaN</td>\n",
              "      <td>NaN</td>\n",
              "      <td>NaN</td>\n",
              "      <td>NaN</td>\n",
              "      <td>NaN</td>\n",
              "      <td>NaN</td>\n",
              "    </tr>\n",
              "    <tr>\n",
              "      <th>2</th>\n",
              "      <td>NaN</td>\n",
              "      <td>NaN</td>\n",
              "      <td>NaN</td>\n",
              "      <td>NaN</td>\n",
              "      <td>NaN</td>\n",
              "      <td>NaN</td>\n",
              "      <td>NaN</td>\n",
              "      <td>NaN</td>\n",
              "      <td>3</td>\n",
              "      <td>NaN</td>\n",
              "      <td>NaN</td>\n",
              "      <td>NaN</td>\n",
              "      <td>NaN</td>\n",
              "      <td>NaN</td>\n",
              "      <td>NaN</td>\n",
              "      <td>NaN</td>\n",
              "      <td>NaN</td>\n",
              "      <td>NaN</td>\n",
              "      <td>NaN</td>\n",
              "      <td>NaN</td>\n",
              "      <td>NaN</td>\n",
              "      <td>NaN</td>\n",
              "      <td>NaN</td>\n",
              "      <td>NaN</td>\n",
              "    </tr>\n",
              "    <tr>\n",
              "      <th>3</th>\n",
              "      <td>NaN</td>\n",
              "      <td>NaN</td>\n",
              "      <td>NaN</td>\n",
              "      <td>NaN</td>\n",
              "      <td>NaN</td>\n",
              "      <td>NaN</td>\n",
              "      <td>NaN</td>\n",
              "      <td>NaN</td>\n",
              "      <td>4</td>\n",
              "      <td>NaN</td>\n",
              "      <td>NaN</td>\n",
              "      <td>NaN</td>\n",
              "      <td>NaN</td>\n",
              "      <td>NaN</td>\n",
              "      <td>NaN</td>\n",
              "      <td>NaN</td>\n",
              "      <td>NaN</td>\n",
              "      <td>NaN</td>\n",
              "      <td>NaN</td>\n",
              "      <td>NaN</td>\n",
              "      <td>NaN</td>\n",
              "      <td>NaN</td>\n",
              "      <td>NaN</td>\n",
              "      <td>NaN</td>\n",
              "    </tr>\n",
              "    <tr>\n",
              "      <th>4</th>\n",
              "      <td>NaN</td>\n",
              "      <td>NaN</td>\n",
              "      <td>NaN</td>\n",
              "      <td>NaN</td>\n",
              "      <td>NaN</td>\n",
              "      <td>NaN</td>\n",
              "      <td>NaN</td>\n",
              "      <td>NaN</td>\n",
              "      <td>5</td>\n",
              "      <td>NaN</td>\n",
              "      <td>NaN</td>\n",
              "      <td>NaN</td>\n",
              "      <td>NaN</td>\n",
              "      <td>NaN</td>\n",
              "      <td>NaN</td>\n",
              "      <td>NaN</td>\n",
              "      <td>NaN</td>\n",
              "      <td>NaN</td>\n",
              "      <td>NaN</td>\n",
              "      <td>NaN</td>\n",
              "      <td>NaN</td>\n",
              "      <td>NaN</td>\n",
              "      <td>NaN</td>\n",
              "      <td>NaN</td>\n",
              "    </tr>\n",
              "    <tr>\n",
              "      <th>...</th>\n",
              "      <td>...</td>\n",
              "      <td>...</td>\n",
              "      <td>...</td>\n",
              "      <td>...</td>\n",
              "      <td>...</td>\n",
              "      <td>...</td>\n",
              "      <td>...</td>\n",
              "      <td>...</td>\n",
              "      <td>...</td>\n",
              "      <td>...</td>\n",
              "      <td>...</td>\n",
              "      <td>...</td>\n",
              "      <td>...</td>\n",
              "      <td>...</td>\n",
              "      <td>...</td>\n",
              "      <td>...</td>\n",
              "      <td>...</td>\n",
              "      <td>...</td>\n",
              "      <td>...</td>\n",
              "      <td>...</td>\n",
              "      <td>...</td>\n",
              "      <td>...</td>\n",
              "      <td>...</td>\n",
              "      <td>...</td>\n",
              "    </tr>\n",
              "    <tr>\n",
              "      <th>4405</th>\n",
              "      <td>NaN</td>\n",
              "      <td>NaN</td>\n",
              "      <td>NaN</td>\n",
              "      <td>NaN</td>\n",
              "      <td>NaN</td>\n",
              "      <td>NaN</td>\n",
              "      <td>NaN</td>\n",
              "      <td>NaN</td>\n",
              "      <td>4406</td>\n",
              "      <td>NaN</td>\n",
              "      <td>NaN</td>\n",
              "      <td>NaN</td>\n",
              "      <td>NaN</td>\n",
              "      <td>NaN</td>\n",
              "      <td>NaN</td>\n",
              "      <td>NaN</td>\n",
              "      <td>NaN</td>\n",
              "      <td>NaN</td>\n",
              "      <td>NaN</td>\n",
              "      <td>NaN</td>\n",
              "      <td>NaN</td>\n",
              "      <td>NaN</td>\n",
              "      <td>NaN</td>\n",
              "      <td>NaN</td>\n",
              "    </tr>\n",
              "    <tr>\n",
              "      <th>4406</th>\n",
              "      <td>NaN</td>\n",
              "      <td>NaN</td>\n",
              "      <td>NaN</td>\n",
              "      <td>NaN</td>\n",
              "      <td>NaN</td>\n",
              "      <td>NaN</td>\n",
              "      <td>NaN</td>\n",
              "      <td>NaN</td>\n",
              "      <td>4407</td>\n",
              "      <td>NaN</td>\n",
              "      <td>NaN</td>\n",
              "      <td>NaN</td>\n",
              "      <td>NaN</td>\n",
              "      <td>NaN</td>\n",
              "      <td>NaN</td>\n",
              "      <td>NaN</td>\n",
              "      <td>NaN</td>\n",
              "      <td>NaN</td>\n",
              "      <td>NaN</td>\n",
              "      <td>NaN</td>\n",
              "      <td>NaN</td>\n",
              "      <td>NaN</td>\n",
              "      <td>NaN</td>\n",
              "      <td>NaN</td>\n",
              "    </tr>\n",
              "    <tr>\n",
              "      <th>4407</th>\n",
              "      <td>NaN</td>\n",
              "      <td>NaN</td>\n",
              "      <td>NaN</td>\n",
              "      <td>NaN</td>\n",
              "      <td>NaN</td>\n",
              "      <td>NaN</td>\n",
              "      <td>NaN</td>\n",
              "      <td>NaN</td>\n",
              "      <td>4408</td>\n",
              "      <td>NaN</td>\n",
              "      <td>NaN</td>\n",
              "      <td>NaN</td>\n",
              "      <td>NaN</td>\n",
              "      <td>NaN</td>\n",
              "      <td>NaN</td>\n",
              "      <td>NaN</td>\n",
              "      <td>NaN</td>\n",
              "      <td>NaN</td>\n",
              "      <td>NaN</td>\n",
              "      <td>NaN</td>\n",
              "      <td>NaN</td>\n",
              "      <td>NaN</td>\n",
              "      <td>NaN</td>\n",
              "      <td>NaN</td>\n",
              "    </tr>\n",
              "    <tr>\n",
              "      <th>4408</th>\n",
              "      <td>NaN</td>\n",
              "      <td>NaN</td>\n",
              "      <td>NaN</td>\n",
              "      <td>NaN</td>\n",
              "      <td>NaN</td>\n",
              "      <td>NaN</td>\n",
              "      <td>NaN</td>\n",
              "      <td>NaN</td>\n",
              "      <td>4409</td>\n",
              "      <td>NaN</td>\n",
              "      <td>NaN</td>\n",
              "      <td>NaN</td>\n",
              "      <td>NaN</td>\n",
              "      <td>NaN</td>\n",
              "      <td>NaN</td>\n",
              "      <td>NaN</td>\n",
              "      <td>NaN</td>\n",
              "      <td>NaN</td>\n",
              "      <td>NaN</td>\n",
              "      <td>NaN</td>\n",
              "      <td>NaN</td>\n",
              "      <td>NaN</td>\n",
              "      <td>NaN</td>\n",
              "      <td>NaN</td>\n",
              "    </tr>\n",
              "    <tr>\n",
              "      <th>4409</th>\n",
              "      <td>NaN</td>\n",
              "      <td>NaN</td>\n",
              "      <td>NaN</td>\n",
              "      <td>NaN</td>\n",
              "      <td>NaN</td>\n",
              "      <td>NaN</td>\n",
              "      <td>NaN</td>\n",
              "      <td>NaN</td>\n",
              "      <td>4410</td>\n",
              "      <td>NaN</td>\n",
              "      <td>NaN</td>\n",
              "      <td>NaN</td>\n",
              "      <td>NaN</td>\n",
              "      <td>NaN</td>\n",
              "      <td>NaN</td>\n",
              "      <td>NaN</td>\n",
              "      <td>NaN</td>\n",
              "      <td>NaN</td>\n",
              "      <td>NaN</td>\n",
              "      <td>NaN</td>\n",
              "      <td>NaN</td>\n",
              "      <td>NaN</td>\n",
              "      <td>NaN</td>\n",
              "      <td>NaN</td>\n",
              "    </tr>\n",
              "  </tbody>\n",
              "</table>\n",
              "<p>4410 rows × 24 columns</p>\n",
              "</div>"
            ],
            "text/plain": [
              "       Age Attrition  ... YearsSinceLastPromotion YearsWithCurrManager\n",
              "0     35.0        No  ...                     0.0                  2.0\n",
              "1      NaN       NaN  ...                     NaN                  NaN\n",
              "2      NaN       NaN  ...                     NaN                  NaN\n",
              "3      NaN       NaN  ...                     NaN                  NaN\n",
              "4      NaN       NaN  ...                     NaN                  NaN\n",
              "...    ...       ...  ...                     ...                  ...\n",
              "4405   NaN       NaN  ...                     NaN                  NaN\n",
              "4406   NaN       NaN  ...                     NaN                  NaN\n",
              "4407   NaN       NaN  ...                     NaN                  NaN\n",
              "4408   NaN       NaN  ...                     NaN                  NaN\n",
              "4409   NaN       NaN  ...                     NaN                  NaN\n",
              "\n",
              "[4410 rows x 24 columns]"
            ]
          },
          "metadata": {
            "tags": []
          },
          "execution_count": 38
        }
      ]
    },
    {
      "cell_type": "code",
      "metadata": {
        "id": "PFZU0iColRB6",
        "colab_type": "code",
        "colab": {
          "base_uri": "https://localhost:8080/",
          "height": 318
        },
        "outputId": "062336be-588b-43e7-bdb2-065abd041e99"
      },
      "source": [
        "# Finding Variance\n",
        "anlyze_data.var()"
      ],
      "execution_count": 39,
      "outputs": [
        {
          "output_type": "execute_result",
          "data": {
            "text/plain": [
              "Age                        8.341719e+01\n",
              "DistanceFromHome           6.569144e+01\n",
              "Education                  1.048438e+00\n",
              "EmployeeCount              0.000000e+00\n",
              "EmployeeID                 1.621042e+06\n",
              "JobLevel                   1.224760e+00\n",
              "MonthlyIncome              2.215480e+09\n",
              "NumCompaniesWorked         6.244436e+00\n",
              "PercentSalaryHike          1.338907e+01\n",
              "StandardHours              0.000000e+00\n",
              "StockOptionLevel           7.257053e-01\n",
              "TotalWorkingYears          6.056298e+01\n",
              "TrainingTimesLastYear      1.661465e+00\n",
              "YearsAtCompany             3.751728e+01\n",
              "YearsSinceLastPromotion    1.037935e+01\n",
              "YearsWithCurrManager       1.272582e+01\n",
              "dtype: float64"
            ]
          },
          "metadata": {
            "tags": []
          },
          "execution_count": 39
        }
      ]
    },
    {
      "cell_type": "markdown",
      "metadata": {
        "id": "CyYU6rK6lvnb",
        "colab_type": "text"
      },
      "source": [
        "## Finding Skewness"
      ]
    },
    {
      "cell_type": "code",
      "metadata": {
        "id": "xRYPKFzblmlS",
        "colab_type": "code",
        "colab": {
          "base_uri": "https://localhost:8080/",
          "height": 318
        },
        "outputId": "b00ee628-c97c-4967-e8a0-6e33bc392a1b"
      },
      "source": [
        "anlyze_data.skew()"
      ],
      "execution_count": 40,
      "outputs": [
        {
          "output_type": "execute_result",
          "data": {
            "text/plain": [
              "Age                        0.413005\n",
              "DistanceFromHome           0.957466\n",
              "Education                 -0.289484\n",
              "EmployeeCount              0.000000\n",
              "EmployeeID                 0.000000\n",
              "JobLevel                   1.024703\n",
              "MonthlyIncome              1.368884\n",
              "NumCompaniesWorked         1.026767\n",
              "PercentSalaryHike          0.820569\n",
              "StandardHours              0.000000\n",
              "StockOptionLevel           0.968321\n",
              "TotalWorkingYears          1.116832\n",
              "TrainingTimesLastYear      0.552748\n",
              "YearsAtCompany             1.763328\n",
              "YearsSinceLastPromotion    1.982939\n",
              "YearsWithCurrManager       0.832884\n",
              "dtype: float64"
            ]
          },
          "metadata": {
            "tags": []
          },
          "execution_count": 40
        }
      ]
    },
    {
      "cell_type": "code",
      "metadata": {
        "id": "hfnxXpEtpx2j",
        "colab_type": "code",
        "colab": {
          "base_uri": "https://localhost:8080/",
          "height": 583
        },
        "outputId": "dec16eae-d574-41ab-d16e-ba710d24ab73"
      },
      "source": [
        "anlyze_data.hist()"
      ],
      "execution_count": 61,
      "outputs": [
        {
          "output_type": "execute_result",
          "data": {
            "text/plain": [
              "array([[<matplotlib.axes._subplots.AxesSubplot object at 0x7f03bcd91748>,\n",
              "        <matplotlib.axes._subplots.AxesSubplot object at 0x7f03bcca9cc0>,\n",
              "        <matplotlib.axes._subplots.AxesSubplot object at 0x7f03bcc6c080>,\n",
              "        <matplotlib.axes._subplots.AxesSubplot object at 0x7f03bcc9b400>],\n",
              "       [<matplotlib.axes._subplots.AxesSubplot object at 0x7f03bcc4c780>,\n",
              "        <matplotlib.axes._subplots.AxesSubplot object at 0x7f03bcbfeb00>,\n",
              "        <matplotlib.axes._subplots.AxesSubplot object at 0x7f03bcbb0e80>,\n",
              "        <matplotlib.axes._subplots.AxesSubplot object at 0x7f03bcb71208>],\n",
              "       [<matplotlib.axes._subplots.AxesSubplot object at 0x7f03bcb71278>,\n",
              "        <matplotlib.axes._subplots.AxesSubplot object at 0x7f03bcb54940>,\n",
              "        <matplotlib.axes._subplots.AxesSubplot object at 0x7f03bcb06cc0>,\n",
              "        <matplotlib.axes._subplots.AxesSubplot object at 0x7f03bd2561d0>],\n",
              "       [<matplotlib.axes._subplots.AxesSubplot object at 0x7f03bd0462b0>,\n",
              "        <matplotlib.axes._subplots.AxesSubplot object at 0x7f03bcfa8860>,\n",
              "        <matplotlib.axes._subplots.AxesSubplot object at 0x7f03bce44320>,\n",
              "        <matplotlib.axes._subplots.AxesSubplot object at 0x7f03bce40860>]],\n",
              "      dtype=object)"
            ]
          },
          "metadata": {
            "tags": []
          },
          "execution_count": 61
        },
        {
          "output_type": "display_data",
          "data": {
            "image/png": "[encoded data removed]",
            "text/plain": [
              "<Figure size 432x288 with 16 Axes>"
            ]
          },
          "metadata": {
            "tags": [],
            "needs_background": "light"
          }
        }
      ]
    },
    {
      "cell_type": "markdown",
      "metadata": {
        "id": "k6FUGol7pVai",
        "colab_type": "text"
      },
      "source": [
        "## Boxplot"
      ]
    },
    {
      "cell_type": "code",
      "metadata": {
        "id": "w34GDAOLnQYV",
        "colab_type": "code",
        "colab": {
          "base_uri": "https://localhost:8080/",
          "height": 282
        },
        "outputId": "0fd12178-8fbd-449a-f4f7-c16fd55de57e"
      },
      "source": [
        "anlyze_data.boxplot()"
      ],
      "execution_count": null,
      "outputs": [
        {
          "output_type": "execute_result",
          "data": {
            "text/plain": [
              "<matplotlib.axes._subplots.AxesSubplot at 0x7f03bd476630>"
            ]
          },
          "metadata": {
            "tags": []
          },
          "execution_count": 42
        },
        {
          "output_type": "display_data",
          "data": {
            "image/png": "[encoded data removed]",
            "text/plain": [
              "<Figure size 432x288 with 1 Axes>"
            ]
          },
          "metadata": {
            "tags": [],
            "needs_background": "light"
          }
        }
      ]
    },
    {
      "cell_type": "code",
      "metadata": {
        "id": "pJvjYg4LnolQ",
        "colab_type": "code",
        "colab": {
          "base_uri": "https://localhost:8080/",
          "height": 406
        },
        "outputId": "f2d97e09-5083-4394-a5ca-ff1d6bcdeac8"
      },
      "source": [
        "plt.boxplot(anlyze_data.Age)"
      ],
      "execution_count": 48,
      "outputs": [
        {
          "output_type": "execute_result",
          "data": {
            "text/plain": [
              "{'boxes': [<matplotlib.lines.Line2D at 0x7f03bd369518>],\n",
              " 'caps': [<matplotlib.lines.Line2D at 0x7f03bd2b9080>,\n",
              "  <matplotlib.lines.Line2D at 0x7f03bd2b9710>],\n",
              " 'fliers': [<matplotlib.lines.Line2D at 0x7f03bd2c2470>],\n",
              " 'means': [],\n",
              " 'medians': [<matplotlib.lines.Line2D at 0x7f03bd2b9cf8>],\n",
              " 'whiskers': [<matplotlib.lines.Line2D at 0x7f03bd2b40f0>,\n",
              "  <matplotlib.lines.Line2D at 0x7f03bd2b4940>]}"
            ]
          },
          "metadata": {
            "tags": []
          },
          "execution_count": 48
        },
        {
          "output_type": "display_data",
          "data": {
            "image/png": "[encoded data removed]",
            "text/plain": [
              "<Figure size 432x288 with 1 Axes>"
            ]
          },
          "metadata": {
            "tags": [],
            "needs_background": "light"
          }
        }
      ]
    },
    {
      "cell_type": "code",
      "metadata": {
        "id": "zqmq-z3Woiol",
        "colab_type": "code",
        "colab": {
          "base_uri": "https://localhost:8080/",
          "height": 406
        },
        "outputId": "96efda1c-99a2-4a6e-c16d-247fde4fa482"
      },
      "source": [
        "plt.boxplot(anlyze_data.Education)"
      ],
      "execution_count": 49,
      "outputs": [
        {
          "output_type": "execute_result",
          "data": {
            "text/plain": [
              "{'boxes': [<matplotlib.lines.Line2D at 0x7f03bd3025f8>],\n",
              " 'caps': [<matplotlib.lines.Line2D at 0x7f03bd1a64a8>,\n",
              "  <matplotlib.lines.Line2D at 0x7f03bd1a1940>],\n",
              " 'fliers': [<matplotlib.lines.Line2D at 0x7f03bd2179b0>],\n",
              " 'means': [],\n",
              " 'medians': [<matplotlib.lines.Line2D at 0x7f03bd20ee48>],\n",
              " 'whiskers': [<matplotlib.lines.Line2D at 0x7f03bd302550>,\n",
              "  <matplotlib.lines.Line2D at 0x7f03bd3027b8>]}"
            ]
          },
          "metadata": {
            "tags": []
          },
          "execution_count": 49
        },
        {
          "output_type": "display_data",
          "data": {
            "image/png": "[encoded data removed]",
            "text/plain": [
              "<Figure size 432x288 with 1 Axes>"
            ]
          },
          "metadata": {
            "tags": [],
            "needs_background": "light"
          }
        }
      ]
    },
    {
      "cell_type": "code",
      "metadata": {
        "id": "l0oexkEAolUi",
        "colab_type": "code",
        "colab": {
          "base_uri": "https://localhost:8080/",
          "height": 406
        },
        "outputId": "1c679e70-68eb-439b-ce64-b7c4136928fd"
      },
      "source": [
        "plt.boxplot(anlyze_data.EmployeeCount )"
      ],
      "execution_count": 50,
      "outputs": [
        {
          "output_type": "execute_result",
          "data": {
            "text/plain": [
              "{'boxes': [<matplotlib.lines.Line2D at 0x7f03bf34dfd0>],\n",
              " 'caps': [<matplotlib.lines.Line2D at 0x7f03bf3497b8>,\n",
              "  <matplotlib.lines.Line2D at 0x7f03bf349160>],\n",
              " 'fliers': [<matplotlib.lines.Line2D at 0x7f03bf8a16a0>],\n",
              " 'means': [],\n",
              " 'medians': [<matplotlib.lines.Line2D at 0x7f03bf349a90>],\n",
              " 'whiskers': [<matplotlib.lines.Line2D at 0x7f03bf34d6a0>,\n",
              "  <matplotlib.lines.Line2D at 0x7f03bf349c18>]}"
            ]
          },
          "metadata": {
            "tags": []
          },
          "execution_count": 50
        },
        {
          "output_type": "display_data",
          "data": {
            "image/png": "[encoded data removed]",
            "text/plain": [
              "<Figure size 432x288 with 1 Axes>"
            ]
          },
          "metadata": {
            "tags": [],
            "needs_background": "light"
          }
        }
      ]
    },
    {
      "cell_type": "code",
      "metadata": {
        "id": "WIW05HvkooB3",
        "colab_type": "code",
        "colab": {
          "base_uri": "https://localhost:8080/",
          "height": 406
        },
        "outputId": "9ad19923-335a-4902-dc42-ed58a37deaec"
      },
      "source": [
        "plt.boxplot(anlyze_data.EmployeeID)"
      ],
      "execution_count": 51,
      "outputs": [
        {
          "output_type": "execute_result",
          "data": {
            "text/plain": [
              "{'boxes': [<matplotlib.lines.Line2D at 0x7f03bf2f8d68>],\n",
              " 'caps': [<matplotlib.lines.Line2D at 0x7f03bf2f8080>,\n",
              "  <matplotlib.lines.Line2D at 0x7f03bf87acf8>],\n",
              " 'fliers': [<matplotlib.lines.Line2D at 0x7f03bf87ae80>],\n",
              " 'means': [],\n",
              " 'medians': [<matplotlib.lines.Line2D at 0x7f03bf87a828>],\n",
              " 'whiskers': [<matplotlib.lines.Line2D at 0x7f03bf2f8be0>,\n",
              "  <matplotlib.lines.Line2D at 0x7f03bf2f84e0>]}"
            ]
          },
          "metadata": {
            "tags": []
          },
          "execution_count": 51
        },
        {
          "output_type": "display_data",
          "data": {
            "image/png": "[encoded data removed]",
            "text/plain": [
              "<Figure size 432x288 with 1 Axes>"
            ]
          },
          "metadata": {
            "tags": [],
            "needs_background": "light"
          }
        }
      ]
    },
    {
      "cell_type": "code",
      "metadata": {
        "id": "y0bDgL56oqfi",
        "colab_type": "code",
        "colab": {
          "base_uri": "https://localhost:8080/",
          "height": 406
        },
        "outputId": "fb2fee6f-e954-4202-a6ca-d52faeb45bcd"
      },
      "source": [
        "plt.boxplot(anlyze_data.JobLevel)"
      ],
      "execution_count": 52,
      "outputs": [
        {
          "output_type": "execute_result",
          "data": {
            "text/plain": [
              "{'boxes': [<matplotlib.lines.Line2D at 0x7f03bf239860>],\n",
              " 'caps': [<matplotlib.lines.Line2D at 0x7f03bf1db9b0>,\n",
              "  <matplotlib.lines.Line2D at 0x7f03bf1db470>],\n",
              " 'fliers': [<matplotlib.lines.Line2D at 0x7f03bf8ddc88>],\n",
              " 'means': [],\n",
              " 'medians': [<matplotlib.lines.Line2D at 0x7f03bf1dbb38>],\n",
              " 'whiskers': [<matplotlib.lines.Line2D at 0x7f03bf239da0>,\n",
              "  <matplotlib.lines.Line2D at 0x7f03bf1dbf28>]}"
            ]
          },
          "metadata": {
            "tags": []
          },
          "execution_count": 52
        },
        {
          "output_type": "display_data",
          "data": {
            "image/png": "[encoded data removed]",
            "text/plain": [
              "<Figure size 432x288 with 1 Axes>"
            ]
          },
          "metadata": {
            "tags": [],
            "needs_background": "light"
          }
        }
      ]
    },
    {
      "cell_type": "code",
      "metadata": {
        "id": "RlJqPW_motTZ",
        "colab_type": "code",
        "colab": {
          "base_uri": "https://localhost:8080/",
          "height": 548
        },
        "outputId": "d5b78fde-f83f-4737-b56c-a61bf2499ba4"
      },
      "source": [
        "plt.boxplot(anlyze_data.NumCompaniesWorked )"
      ],
      "execution_count": 53,
      "outputs": [
        {
          "output_type": "stream",
          "text": [
            "/usr/local/lib/python3.6/dist-packages/matplotlib/cbook/__init__.py:1239: RuntimeWarning: invalid value encountered in less_equal\n",
            "  wiskhi = x[x <= hival]\n",
            "/usr/local/lib/python3.6/dist-packages/matplotlib/cbook/__init__.py:1246: RuntimeWarning: invalid value encountered in greater_equal\n",
            "  wisklo = x[x >= loval]\n",
            "/usr/local/lib/python3.6/dist-packages/matplotlib/cbook/__init__.py:1254: RuntimeWarning: invalid value encountered in less\n",
            "  x[x < stats['whislo']],\n",
            "/usr/local/lib/python3.6/dist-packages/matplotlib/cbook/__init__.py:1255: RuntimeWarning: invalid value encountered in greater\n",
            "  x[x > stats['whishi']],\n"
          ],
          "name": "stderr"
        },
        {
          "output_type": "execute_result",
          "data": {
            "text/plain": [
              "{'boxes': [<matplotlib.lines.Line2D at 0x7f03bd0002e8>],\n",
              " 'caps': [<matplotlib.lines.Line2D at 0x7f03bd000d30>,\n",
              "  <matplotlib.lines.Line2D at 0x7f03bd0100f0>],\n",
              " 'fliers': [<matplotlib.lines.Line2D at 0x7f03bd0107f0>],\n",
              " 'means': [],\n",
              " 'medians': [<matplotlib.lines.Line2D at 0x7f03bd010470>],\n",
              " 'whiskers': [<matplotlib.lines.Line2D at 0x7f03bd0005f8>,\n",
              "  <matplotlib.lines.Line2D at 0x7f03bd0009b0>]}"
            ]
          },
          "metadata": {
            "tags": []
          },
          "execution_count": 53
        },
        {
          "output_type": "display_data",
          "data": {
            "image/png": "[encoded data removed]",
            "text/plain": [
              "<Figure size 432x288 with 1 Axes>"
            ]
          },
          "metadata": {
            "tags": [],
            "needs_background": "light"
          }
        }
      ]
    },
    {
      "cell_type": "code",
      "metadata": {
        "id": "q2IaXD3zowYL",
        "colab_type": "code",
        "colab": {
          "base_uri": "https://localhost:8080/",
          "height": 406
        },
        "outputId": "b0a0b34f-adc0-409a-94a3-c53da0631469"
      },
      "source": [
        "plt.boxplot(anlyze_data.PercentSalaryHike)"
      ],
      "execution_count": 54,
      "outputs": [
        {
          "output_type": "execute_result",
          "data": {
            "text/plain": [
              "{'boxes': [<matplotlib.lines.Line2D at 0x7f03bcfdd898>],\n",
              " 'caps': [<matplotlib.lines.Line2D at 0x7f03bcf692e8>,\n",
              "  <matplotlib.lines.Line2D at 0x7f03bcf69668>],\n",
              " 'fliers': [<matplotlib.lines.Line2D at 0x7f03bcf69d68>],\n",
              " 'means': [],\n",
              " 'medians': [<matplotlib.lines.Line2D at 0x7f03bcf699e8>],\n",
              " 'whiskers': [<matplotlib.lines.Line2D at 0x7f03bcfddba8>,\n",
              "  <matplotlib.lines.Line2D at 0x7f03bcfddf28>]}"
            ]
          },
          "metadata": {
            "tags": []
          },
          "execution_count": 54
        },
        {
          "output_type": "display_data",
          "data": {
            "image/png": "[encoded data removed]",
            "text/plain": [
              "<Figure size 432x288 with 1 Axes>"
            ]
          },
          "metadata": {
            "tags": [],
            "needs_background": "light"
          }
        }
      ]
    },
    {
      "cell_type": "code",
      "metadata": {
        "id": "_ahu3s53oyJh",
        "colab_type": "code",
        "colab": {
          "base_uri": "https://localhost:8080/",
          "height": 406
        },
        "outputId": "b6aa669f-8acf-4304-eaad-e4e2720f757a"
      },
      "source": [
        "plt.boxplot(anlyze_data.StandardHours)"
      ],
      "execution_count": 55,
      "outputs": [
        {
          "output_type": "execute_result",
          "data": {
            "text/plain": [
              "{'boxes': [<matplotlib.lines.Line2D at 0x7f03bcf3eb38>],\n",
              " 'caps': [<matplotlib.lines.Line2D at 0x7f03bcf4d588>,\n",
              "  <matplotlib.lines.Line2D at 0x7f03bcf4d908>],\n",
              " 'fliers': [<matplotlib.lines.Line2D at 0x7f03bcf57048>],\n",
              " 'means': [],\n",
              " 'medians': [<matplotlib.lines.Line2D at 0x7f03bcf4dc88>],\n",
              " 'whiskers': [<matplotlib.lines.Line2D at 0x7f03bcf3ee48>,\n",
              "  <matplotlib.lines.Line2D at 0x7f03bcf4d208>]}"
            ]
          },
          "metadata": {
            "tags": []
          },
          "execution_count": 55
        },
        {
          "output_type": "display_data",
          "data": {
            "image/png": "[encoded data removed]",
            "text/plain": [
              "<Figure size 432x288 with 1 Axes>"
            ]
          },
          "metadata": {
            "tags": [],
            "needs_background": "light"
          }
        }
      ]
    },
    {
      "cell_type": "code",
      "metadata": {
        "id": "N6Vr-dU3o0bm",
        "colab_type": "code",
        "colab": {
          "base_uri": "https://localhost:8080/",
          "height": 406
        },
        "outputId": "3b875ef0-7e62-46e8-c658-91eb5923bf07"
      },
      "source": [
        "plt.boxplot(anlyze_data.StockOptionLevel)"
      ],
      "execution_count": 56,
      "outputs": [
        {
          "output_type": "execute_result",
          "data": {
            "text/plain": [
              "{'boxes': [<matplotlib.lines.Line2D at 0x7f03bcea8a90>],\n",
              " 'caps': [<matplotlib.lines.Line2D at 0x7f03bceb64e0>,\n",
              "  <matplotlib.lines.Line2D at 0x7f03bceb6860>],\n",
              " 'fliers': [<matplotlib.lines.Line2D at 0x7f03bceb6f60>],\n",
              " 'means': [],\n",
              " 'medians': [<matplotlib.lines.Line2D at 0x7f03bceb6be0>],\n",
              " 'whiskers': [<matplotlib.lines.Line2D at 0x7f03bcea8da0>,\n",
              "  <matplotlib.lines.Line2D at 0x7f03bceb6160>]}"
            ]
          },
          "metadata": {
            "tags": []
          },
          "execution_count": 56
        },
        {
          "output_type": "display_data",
          "data": {
            "image/png": "[encoded data removed]",
            "text/plain": [
              "<Figure size 432x288 with 1 Axes>"
            ]
          },
          "metadata": {
            "tags": [],
            "needs_background": "light"
          }
        }
      ]
    },
    {
      "cell_type": "code",
      "metadata": {
        "id": "dCO0ne8fo4ox",
        "colab_type": "code",
        "colab": {
          "base_uri": "https://localhost:8080/",
          "height": 548
        },
        "outputId": "d4efff3b-699c-40de-ca2f-d79a9d46af46"
      },
      "source": [
        "plt.boxplot(anlyze_data.TotalWorkingYears)"
      ],
      "execution_count": 57,
      "outputs": [
        {
          "output_type": "stream",
          "text": [
            "/usr/local/lib/python3.6/dist-packages/matplotlib/cbook/__init__.py:1239: RuntimeWarning: invalid value encountered in less_equal\n",
            "  wiskhi = x[x <= hival]\n",
            "/usr/local/lib/python3.6/dist-packages/matplotlib/cbook/__init__.py:1246: RuntimeWarning: invalid value encountered in greater_equal\n",
            "  wisklo = x[x >= loval]\n",
            "/usr/local/lib/python3.6/dist-packages/matplotlib/cbook/__init__.py:1254: RuntimeWarning: invalid value encountered in less\n",
            "  x[x < stats['whislo']],\n",
            "/usr/local/lib/python3.6/dist-packages/matplotlib/cbook/__init__.py:1255: RuntimeWarning: invalid value encountered in greater\n",
            "  x[x > stats['whishi']],\n"
          ],
          "name": "stderr"
        },
        {
          "output_type": "execute_result",
          "data": {
            "text/plain": [
              "{'boxes': [<matplotlib.lines.Line2D at 0x7f03bce8cd30>],\n",
              " 'caps': [<matplotlib.lines.Line2D at 0x7f03bce9c7b8>,\n",
              "  <matplotlib.lines.Line2D at 0x7f03bce9cb38>],\n",
              " 'fliers': [<matplotlib.lines.Line2D at 0x7f03bce27278>],\n",
              " 'means': [],\n",
              " 'medians': [<matplotlib.lines.Line2D at 0x7f03bce9ceb8>],\n",
              " 'whiskers': [<matplotlib.lines.Line2D at 0x7f03bce9c080>,\n",
              "  <matplotlib.lines.Line2D at 0x7f03bce9c400>]}"
            ]
          },
          "metadata": {
            "tags": []
          },
          "execution_count": 57
        },
        {
          "output_type": "display_data",
          "data": {
            "image/png": "[encoded data removed]",
            "text/plain": [
              "<Figure size 432x288 with 1 Axes>"
            ]
          },
          "metadata": {
            "tags": [],
            "needs_background": "light"
          }
        }
      ]
    },
    {
      "cell_type": "code",
      "metadata": {
        "id": "TJWDEWR0o7eO",
        "colab_type": "code",
        "colab": {
          "base_uri": "https://localhost:8080/",
          "height": 406
        },
        "outputId": "c3f72a8b-fa64-43ff-ec39-3051a50bb2db"
      },
      "source": [
        "plt.boxplot(anlyze_data.TrainingTimesLastYear)"
      ],
      "execution_count": 58,
      "outputs": [
        {
          "output_type": "execute_result",
          "data": {
            "text/plain": [
              "{'boxes': [<matplotlib.lines.Line2D at 0x7f03bcdf6320>],\n",
              " 'caps': [<matplotlib.lines.Line2D at 0x7f03bcdf6d68>,\n",
              "  <matplotlib.lines.Line2D at 0x7f03bce03128>],\n",
              " 'fliers': [<matplotlib.lines.Line2D at 0x7f03bce03828>],\n",
              " 'means': [],\n",
              " 'medians': [<matplotlib.lines.Line2D at 0x7f03bce034a8>],\n",
              " 'whiskers': [<matplotlib.lines.Line2D at 0x7f03bcdf6630>,\n",
              "  <matplotlib.lines.Line2D at 0x7f03bcdf69e8>]}"
            ]
          },
          "metadata": {
            "tags": []
          },
          "execution_count": 58
        },
        {
          "output_type": "display_data",
          "data": {
            "image/png": "[encoded data removed]",
            "text/plain": [
              "<Figure size 432x288 with 1 Axes>"
            ]
          },
          "metadata": {
            "tags": [],
            "needs_background": "light"
          }
        }
      ]
    },
    {
      "cell_type": "code",
      "metadata": {
        "id": "rYLzx1f_o9JR",
        "colab_type": "code",
        "colab": {
          "base_uri": "https://localhost:8080/",
          "height": 406
        },
        "outputId": "7740e36c-199f-4e9a-9d92-7063154bb0b8"
      },
      "source": [
        "plt.boxplot(anlyze_data.YearsSinceLastPromotion)"
      ],
      "execution_count": 59,
      "outputs": [
        {
          "output_type": "execute_result",
          "data": {
            "text/plain": [
              "{'boxes': [<matplotlib.lines.Line2D at 0x7f03bcddc438>],\n",
              " 'caps': [<matplotlib.lines.Line2D at 0x7f03bcddce48>,\n",
              "  <matplotlib.lines.Line2D at 0x7f03bcd67208>],\n",
              " 'fliers': [<matplotlib.lines.Line2D at 0x7f03bcd67908>],\n",
              " 'means': [],\n",
              " 'medians': [<matplotlib.lines.Line2D at 0x7f03bcd67588>],\n",
              " 'whiskers': [<matplotlib.lines.Line2D at 0x7f03bcddc748>,\n",
              "  <matplotlib.lines.Line2D at 0x7f03bcddcac8>]}"
            ]
          },
          "metadata": {
            "tags": []
          },
          "execution_count": 59
        },
        {
          "output_type": "display_data",
          "data": {
            "image/png": "[encoded data removed]",
            "text/plain": [
              "<Figure size 432x288 with 1 Axes>"
            ]
          },
          "metadata": {
            "tags": [],
            "needs_background": "light"
          }
        }
      ]
    },
    {
      "cell_type": "code",
      "metadata": {
        "id": "cC23yqa8pDRy",
        "colab_type": "code",
        "colab": {
          "base_uri": "https://localhost:8080/",
          "height": 406
        },
        "outputId": "1536c133-6592-4965-8e13-e3924986b8c7"
      },
      "source": [
        "plt.boxplot(anlyze_data.YearsWithCurrManager)"
      ],
      "execution_count": 60,
      "outputs": [
        {
          "output_type": "execute_result",
          "data": {
            "text/plain": [
              "{'boxes': [<matplotlib.lines.Line2D at 0x7f03bcd42400>],\n",
              " 'caps': [<matplotlib.lines.Line2D at 0x7f03bcd42e10>,\n",
              "  <matplotlib.lines.Line2D at 0x7f03bcd4f1d0>],\n",
              " 'fliers': [<matplotlib.lines.Line2D at 0x7f03bcd4f8d0>],\n",
              " 'means': [],\n",
              " 'medians': [<matplotlib.lines.Line2D at 0x7f03bcd4f550>],\n",
              " 'whiskers': [<matplotlib.lines.Line2D at 0x7f03bcd42710>,\n",
              "  <matplotlib.lines.Line2D at 0x7f03bcd42a90>]}"
            ]
          },
          "metadata": {
            "tags": []
          },
          "execution_count": 60
        },
        {
          "output_type": "display_data",
          "data": {
            "image/png": "[encoded data removed]",
            "text/plain": [
              "<Figure size 432x288 with 1 Axes>"
            ]
          },
          "metadata": {
            "tags": [],
            "needs_background": "light"
          }
        }
      ]
    },
    {
      "cell_type": "markdown",
      "metadata": {
        "id": "JFbIucQApL3T",
        "colab_type": "text"
      },
      "source": [
        "## Kurtosis\n"
      ]
    },
    {
      "cell_type": "code",
      "metadata": {
        "id": "BcorDEicl0Aj",
        "colab_type": "code",
        "colab": {
          "base_uri": "https://localhost:8080/",
          "height": 318
        },
        "outputId": "61f6327d-3350-4375-bb16-811f8cc04fd5"
      },
      "source": [
        "anlyze_data.kurt()"
      ],
      "execution_count": 41,
      "outputs": [
        {
          "output_type": "execute_result",
          "data": {
            "text/plain": [
              "Age                       -0.405951\n",
              "DistanceFromHome          -0.227045\n",
              "Education                 -0.560569\n",
              "EmployeeCount              0.000000\n",
              "EmployeeID                -1.200000\n",
              "JobLevel                   0.395525\n",
              "MonthlyIncome              1.000232\n",
              "NumCompaniesWorked         0.007287\n",
              "PercentSalaryHike         -0.302638\n",
              "StandardHours              0.000000\n",
              "StockOptionLevel           0.361086\n",
              "TotalWorkingYears          0.912936\n",
              "TrainingTimesLastYear      0.491149\n",
              "YearsAtCompany             3.923864\n",
              "YearsSinceLastPromotion    3.601761\n",
              "YearsWithCurrManager       0.167949\n",
              "dtype: float64"
            ]
          },
          "metadata": {
            "tags": []
          },
          "execution_count": 41
        }
      ]
    },
    {
      "cell_type": "markdown",
      "metadata": {
        "id": "eq4CVwO_rK3Z",
        "colab_type": "text"
      },
      "source": [
        "# Inference from analysis\n"
      ]
    },
    {
      "cell_type": "markdown",
      "metadata": {
        "id": "HZyMw5vTuPGY",
        "colab_type": "text"
      },
      "source": [
        "**Most of the features in the dataset is :**\n",
        "<br>\n",
        "- Positively Skewed (i.e) Mean > Median\n",
        "\n",
        "    ![alt text](data:image/png;base64,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)\n",
        "\n",
        "- Mesokurtic (Curves with a Medium peaked heigh)\n",
        "\n",
        "  ![alt text](https://www.bogleheads.org/w/images/thumb/c/c0/Kurtosis1.jpg/250px-Kurtosis1.jpg)\n",
        "\n",
        "- Have no Outliers expect two features\n",
        "\n",
        "![alt text](https://www.researchgate.net/profile/Mollie_Gilchrist/publication/229052405/figure/fig1/AS:669534780420102@1536640939394/A-simple-diagram-of-a-boxplot-A-boxplot-is-a-pictorial-representation-of-a-dataset.png)"
      ]
    }
  ]
}