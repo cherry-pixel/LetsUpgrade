{
  "nbformat": 4,
  "nbformat_minor": 0,
  "metadata": {
    "colab": {
      "name": "Assignments.ipynb",
      "provenance": [],
      "collapsed_sections": [
        "zSNDas0cbhew",
        "uyoTDf7BdZKh",
        "1aA8ek5PdwmF",
        "WObUCl28MX-m",
        "B4hJpOYAOG_9",
        "56SwI5i1OUQ1",
        "Uw9Oi8j-OdXb",
        "9wJT44VTPD5S",
        "9C9N1d_2P5Mk",
        "vjPiUKyjQDOr",
        "HONwAKB2eMGq",
        "AMDgbVHnefpJ"
      ]
    },
    "kernelspec": {
      "name": "python3",
      "display_name": "Python 3"
    }
  },
  "cells": [
    {
      "cell_type": "markdown",
      "metadata": {
        "id": "zSNDas0cbhew",
        "colab_type": "text"
      },
      "source": [
        "##Question 1:\n",
        "Assuming that we have some email addresses in the `\"username@companyname.com\"` format, please write program\n",
        "to print the company name of a given email address. Both user names and company names are composed of letters\n",
        "only.\n",
        ">**Input Format:**\n",
        "The first line of the input contains an email address.\n",
        "\n",
        ">**Output Format:**\n",
        "Print the company name in single line.\n",
        "\n",
        "**Example:**\n",
        ">Input:\n",
        "`john@google.com`\n",
        "\n",
        ">Output:\n",
        "`google`\n"
      ]
    },
    {
      "cell_type": "code",
      "metadata": {
        "id": "PzQgFRb-dvn7",
        "colab_type": "code",
        "colab": {
          "base_uri": "https://localhost:8080/",
          "height": 52
        },
        "outputId": "eef96ad3-f282-4c5b-ea13-953d79db8ca3"
      },
      "source": [
        "name,company=input(\"Enter your company mail: \").split('@')\n",
        "company[:-4] "
      ],
      "execution_count": 1,
      "outputs": [
        {
          "output_type": "stream",
          "text": [
            "Enter your company mail: Cherry@Google.com\n"
          ],
          "name": "stdout"
        },
        {
          "output_type": "execute_result",
          "data": {
            "application/vnd.google.colaboratory.intrinsic": {
              "type": "string"
            },
            "text/plain": [
              "'Google'"
            ]
          },
          "metadata": {
            "tags": []
          },
          "execution_count": 1
        }
      ]
    },
    {
      "cell_type": "markdown",
      "metadata": {
        "id": "uyoTDf7BdZKh",
        "colab_type": "text"
      },
      "source": [
        "##Question 2:\n",
        "Write a program that accepts a comma-separated sequence of words as input and prints the words in a comma\n",
        "separated sequence after sorting them alphabetically.\n",
        ">**Input Format:**\n",
        "The first line of input contains words separated by the comma.\n",
        "\n",
        ">**Output Format:**\n",
        "Print the sorted words separated by the comma.\n",
        "\n",
        "**Example:**\n",
        ">Input:\n",
        "`without,hello,bag,world`\n",
        "\n",
        ">Output:\n",
        "`bag,hello,without,world`"
      ]
    },
    {
      "cell_type": "code",
      "metadata": {
        "id": "Jy0pToXodYTr",
        "colab_type": "code",
        "colab": {
          "base_uri": "https://localhost:8080/",
          "height": 50
        },
        "outputId": "f8a732a3-cf21-44de-db39-8e8d0a0248c1"
      },
      "source": [
        "words=list (input('Enter the list of words: ').split(','))\n",
        "sorted(words)"
      ],
      "execution_count": 38,
      "outputs": [
        {
          "output_type": "stream",
          "text": [
            "Enter the list of words: without,hello,bag,world\n"
          ],
          "name": "stdout"
        },
        {
          "output_type": "execute_result",
          "data": {
            "text/plain": [
              "['bag', 'hello', 'without', 'world']"
            ]
          },
          "metadata": {
            "tags": []
          },
          "execution_count": 38
        }
      ]
    },
    {
      "cell_type": "markdown",
      "metadata": {
        "id": "1aA8ek5PdwmF",
        "colab_type": "text"
      },
      "source": [
        "##Question 3:\n",
        "Create your own Jupyter Notebook for Sets.\n",
        "\n",
        "Reference link: https://www.w3schools.com/python/python_sets.asp\n",
        "\n"
      ]
    },
    {
      "cell_type": "markdown",
      "metadata": {
        "id": "WObUCl28MX-m",
        "colab_type": "text"
      },
      "source": [
        "### Solution\n",
        ">A set is a collection which is unordered and unindexed.\n",
        "\n",
        ">In Python sets are written with curly brackets.\n",
        "\n",
        "#### **Access Items**\n",
        "You cannot access items in a set by referring to an index, since sets are unordered the items has no index.\n",
        "\n",
        "But you can loop through the set items using a for loop, or ask if a specified value is present in a set, by using the in keyword."
      ]
    },
    {
      "cell_type": "code",
      "metadata": {
        "id": "p3iUwJ1Md3yJ",
        "colab_type": "code",
        "colab": {
          "base_uri": "https://localhost:8080/",
          "height": 34
        },
        "outputId": "05abc199-47df-4c61-ca6b-45b13978f694"
      },
      "source": [
        "sets={'A','B','C','D','E'}\n",
        "\n",
        "[ele for ele in sets]"
      ],
      "execution_count": 3,
      "outputs": [
        {
          "output_type": "execute_result",
          "data": {
            "text/plain": [
              "['A', 'C', 'D', 'B', 'E']"
            ]
          },
          "metadata": {
            "tags": []
          },
          "execution_count": 3
        }
      ]
    },
    {
      "cell_type": "markdown",
      "metadata": {
        "id": "yJ8WYPxvNB7j",
        "colab_type": "text"
      },
      "source": [
        "### **Change Items** \n",
        "Once a set is created, you cannot change its items, but you can add new items.\n",
        "\n"
      ]
    },
    {
      "cell_type": "markdown",
      "metadata": {
        "id": "B4hJpOYAOG_9",
        "colab_type": "text"
      },
      "source": [
        "###**Add Items**\n",
        "To add one item to a set use the `add()` method.\n",
        "\n",
        "To add more than one item to a set use the `update()` method."
      ]
    },
    {
      "cell_type": "code",
      "metadata": {
        "id": "LGtAj8BWOO0T",
        "colab_type": "code",
        "colab": {
          "base_uri": "https://localhost:8080/",
          "height": 34
        },
        "outputId": "3ca03d3b-e73e-4687-bc43-29b7269c2b94"
      },
      "source": [
        "sets.add('F')\n",
        "sets"
      ],
      "execution_count": 4,
      "outputs": [
        {
          "output_type": "execute_result",
          "data": {
            "text/plain": [
              "{'A', 'B', 'C', 'D', 'E', 'F'}"
            ]
          },
          "metadata": {
            "tags": []
          },
          "execution_count": 4
        }
      ]
    },
    {
      "cell_type": "code",
      "metadata": {
        "id": "o9gSrdc5_sfr",
        "colab_type": "code",
        "colab": {
          "base_uri": "https://localhost:8080/",
          "height": 34
        },
        "outputId": "ab65003a-6c42-4955-bd09-d0b4fc149bdd"
      },
      "source": [
        "sets.update(['G','H','J'])\n",
        "sets"
      ],
      "execution_count": 5,
      "outputs": [
        {
          "output_type": "execute_result",
          "data": {
            "text/plain": [
              "{'A', 'B', 'C', 'D', 'E', 'F', 'G', 'H', 'J'}"
            ]
          },
          "metadata": {
            "tags": []
          },
          "execution_count": 5
        }
      ]
    },
    {
      "cell_type": "markdown",
      "metadata": {
        "id": "56SwI5i1OUQ1",
        "colab_type": "text"
      },
      "source": [
        "### **Get the Length of a Set**\n",
        "To determine how many items a set has, use the `len()` method."
      ]
    },
    {
      "cell_type": "code",
      "metadata": {
        "id": "3W28aOdyOZeN",
        "colab_type": "code",
        "colab": {
          "base_uri": "https://localhost:8080/",
          "height": 34
        },
        "outputId": "8b7d4ce2-b334-4596-dd8c-0b30d6489e97"
      },
      "source": [
        "len(sets)"
      ],
      "execution_count": 6,
      "outputs": [
        {
          "output_type": "execute_result",
          "data": {
            "text/plain": [
              "9"
            ]
          },
          "metadata": {
            "tags": []
          },
          "execution_count": 6
        }
      ]
    },
    {
      "cell_type": "markdown",
      "metadata": {
        "id": "Uw9Oi8j-OdXb",
        "colab_type": "text"
      },
      "source": [
        "### **Remove Item**\n",
        "To remove an item in a set, use the `remove()`, or the `discard()` method."
      ]
    },
    {
      "cell_type": "code",
      "metadata": {
        "id": "sNjxptujOyJj",
        "colab_type": "code",
        "colab": {
          "base_uri": "https://localhost:8080/",
          "height": 34
        },
        "outputId": "6fbd8e2b-2c1b-4f04-ace6-8b1fd10f2d8e"
      },
      "source": [
        "sets.remove('B')\n",
        "sets"
      ],
      "execution_count": 7,
      "outputs": [
        {
          "output_type": "execute_result",
          "data": {
            "text/plain": [
              "{'A', 'C', 'D', 'E', 'F', 'G', 'H', 'J'}"
            ]
          },
          "metadata": {
            "tags": []
          },
          "execution_count": 7
        }
      ]
    },
    {
      "cell_type": "code",
      "metadata": {
        "id": "Et79B_L_APpP",
        "colab_type": "code",
        "colab": {
          "base_uri": "https://localhost:8080/",
          "height": 178
        },
        "outputId": "e0df6d99-6957-444e-a9c1-5a9c73947225"
      },
      "source": [
        "# removing a non-existant item using remove() from set will throw error \n",
        "sets.remove('K')"
      ],
      "execution_count": 8,
      "outputs": [
        {
          "output_type": "error",
          "ename": "KeyError",
          "evalue": "ignored",
          "traceback": [
            "\u001b[0;31m---------------------------------------------------------------------------\u001b[0m",
            "\u001b[0;31mKeyError\u001b[0m                                  Traceback (most recent call last)",
            "\u001b[0;32m<ipython-input-8-62e919b4666d>\u001b[0m in \u001b[0;36m<module>\u001b[0;34m()\u001b[0m\n\u001b[1;32m      1\u001b[0m \u001b[0;31m# removing a non-existant item using remove() from set will throw error\u001b[0m\u001b[0;34m\u001b[0m\u001b[0;34m\u001b[0m\u001b[0;34m\u001b[0m\u001b[0m\n\u001b[0;32m----> 2\u001b[0;31m \u001b[0msets\u001b[0m\u001b[0;34m.\u001b[0m\u001b[0mremove\u001b[0m\u001b[0;34m(\u001b[0m\u001b[0;34m'K'\u001b[0m\u001b[0;34m)\u001b[0m\u001b[0;34m\u001b[0m\u001b[0;34m\u001b[0m\u001b[0m\n\u001b[0m",
            "\u001b[0;31mKeyError\u001b[0m: 'K'"
          ]
        }
      ]
    },
    {
      "cell_type": "code",
      "metadata": {
        "id": "F6eblgd_BDZ4",
        "colab_type": "code",
        "colab": {
          "base_uri": "https://localhost:8080/",
          "height": 34
        },
        "outputId": "e9647f66-582a-48c1-aca2-8a35f94808b4"
      },
      "source": [
        "sets.discard('G')\n",
        "sets"
      ],
      "execution_count": 9,
      "outputs": [
        {
          "output_type": "execute_result",
          "data": {
            "text/plain": [
              "{'A', 'C', 'D', 'E', 'F', 'H', 'J'}"
            ]
          },
          "metadata": {
            "tags": []
          },
          "execution_count": 9
        }
      ]
    },
    {
      "cell_type": "code",
      "metadata": {
        "id": "NG_DX6G7BDh8",
        "colab_type": "code",
        "colab": {}
      },
      "source": [
        "# removing a non-existant item using discard() from set will throw error \n",
        "sets.discard('B')"
      ],
      "execution_count": 10,
      "outputs": []
    },
    {
      "cell_type": "markdown",
      "metadata": {
        "id": "kNlhUloGOyiX",
        "colab_type": "text"
      },
      "source": [
        ">You can also use the `pop()`, method to remove an item, but this method will remove the last item.\n",
        "\n",
        ">Remember that sets are unordered, so you will not know what item that gets removed.\n",
        "\n",
        "The return value of the `pop()` method is the removed item."
      ]
    },
    {
      "cell_type": "code",
      "metadata": {
        "id": "MAQaHyzwPDtt",
        "colab_type": "code",
        "colab": {
          "base_uri": "https://localhost:8080/",
          "height": 50
        },
        "outputId": "1f8cc3c8-b711-4070-e3d4-740f4e096ae5"
      },
      "source": [
        "var=sets.pop()\n",
        "print(var,\"\\n\",sets)"
      ],
      "execution_count": 11,
      "outputs": [
        {
          "output_type": "stream",
          "text": [
            "A \n",
            " {'C', 'D', 'J', 'H', 'F', 'E'}\n"
          ],
          "name": "stdout"
        }
      ]
    },
    {
      "cell_type": "markdown",
      "metadata": {
        "id": "9wJT44VTPD5S",
        "colab_type": "text"
      },
      "source": [
        "### **Join Two Sets**\n",
        ">There are several ways to join two or more sets in Python.\n",
        "\n",
        ">You can use the `union()` method that returns a new set containing all items from both sets, or the `update()` method that inserts all the items from one set into another.\n",
        "\n",
        ">Both `union()` and `update()` will exclude any duplicate items.\n",
        "\n",
        ">There are other methods that joins two sets and keeps ONLY the duplicates, or NEVER the duplicates, check the full list of set methods in the bottom of this page.\n",
        "\n",
        "\n"
      ]
    },
    {
      "cell_type": "code",
      "metadata": {
        "id": "LquJ4kvEP3vF",
        "colab_type": "code",
        "colab": {
          "base_uri": "https://localhost:8080/",
          "height": 34
        },
        "outputId": "3a76d0ee-b9e8-4b6c-fdad-243be84de13e"
      },
      "source": [
        "#using union() method\n",
        "sets1={1,2,3,4,5}\n",
        "sets2=sets.union(sets1)\n",
        "sets2"
      ],
      "execution_count": 12,
      "outputs": [
        {
          "output_type": "execute_result",
          "data": {
            "text/plain": [
              "{1, 2, 3, 4, 5, 'C', 'D', 'E', 'F', 'H', 'J'}"
            ]
          },
          "metadata": {
            "tags": []
          },
          "execution_count": 12
        }
      ]
    },
    {
      "cell_type": "code",
      "metadata": {
        "id": "f2zfFQGjCCsn",
        "colab_type": "code",
        "colab": {}
      },
      "source": [
        "#using update() method\n",
        "sets3=sets1.update(sets2)\n",
        "sets3"
      ],
      "execution_count": 15,
      "outputs": []
    },
    {
      "cell_type": "markdown",
      "metadata": {
        "id": "9C9N1d_2P5Mk",
        "colab_type": "text"
      },
      "source": [
        "\n",
        "###**The set() Constructor**\n",
        "It is also possible to use the `set()` constructor to make a set.\n"
      ]
    },
    {
      "cell_type": "code",
      "metadata": {
        "id": "RGIgxaNzP4k0",
        "colab_type": "code",
        "colab": {
          "base_uri": "https://localhost:8080/",
          "height": 34
        },
        "outputId": "920fb899-f70c-4ebe-d6fd-c48df50cbad5"
      },
      "source": [
        "newset=set(('N','M','G'))\n",
        "newset"
      ],
      "execution_count": 16,
      "outputs": [
        {
          "output_type": "execute_result",
          "data": {
            "text/plain": [
              "{'G', 'M', 'N'}"
            ]
          },
          "metadata": {
            "tags": []
          },
          "execution_count": 16
        }
      ]
    },
    {
      "cell_type": "markdown",
      "metadata": {
        "id": "vjPiUKyjQDOr",
        "colab_type": "text"
      },
      "source": [
        "###**Set Methods**\n"
      ]
    },
    {
      "cell_type": "code",
      "metadata": {
        "id": "t-AQiLcsP4Sb",
        "colab_type": "code",
        "colab": {
          "base_uri": "https://localhost:8080/",
          "height": 34
        },
        "outputId": "19aca61e-1cb8-4811-869f-a6963057d660"
      },
      "source": [
        "#creating set\n",
        "RollNo={10,20,30,50,60,70}\n",
        "print(RollNo)"
      ],
      "execution_count": 17,
      "outputs": [
        {
          "output_type": "stream",
          "text": [
            "{70, 10, 50, 20, 60, 30}\n"
          ],
          "name": "stdout"
        }
      ]
    },
    {
      "cell_type": "code",
      "metadata": {
        "id": "0AnlrDciQ-2L",
        "colab_type": "code",
        "colab": {
          "base_uri": "https://localhost:8080/",
          "height": 34
        },
        "outputId": "a1781c83-b1c2-432e-a06a-65f458828fbd"
      },
      "source": [
        "#add method - Adds an element to the set\n",
        "RollNo.add(90)\n",
        "print(RollNo)"
      ],
      "execution_count": 18,
      "outputs": [
        {
          "output_type": "stream",
          "text": [
            "{70, 10, 50, 20, 90, 60, 30}\n"
          ],
          "name": "stdout"
        }
      ]
    },
    {
      "cell_type": "code",
      "metadata": {
        "id": "1jUbrO2KRBVz",
        "colab_type": "code",
        "colab": {
          "base_uri": "https://localhost:8080/",
          "height": 34
        },
        "outputId": "49598644-123b-456d-8bcf-7b8b548019e8"
      },
      "source": [
        "#copy method - Returns a copy of the set\n",
        "RegNum=RollNo.copy()\n",
        "print(RegNum)"
      ],
      "execution_count": 19,
      "outputs": [
        {
          "output_type": "stream",
          "text": [
            "{50, 20, 90, 70, 10, 60, 30}\n"
          ],
          "name": "stdout"
        }
      ]
    },
    {
      "cell_type": "code",
      "metadata": {
        "id": "GXW2sjzaREz7",
        "colab_type": "code",
        "colab": {
          "base_uri": "https://localhost:8080/",
          "height": 34
        },
        "outputId": "5c72920e-be6b-4932-f795-9c7712899e02"
      },
      "source": [
        "#discard method - Remove the specified item\n",
        "RegNum.discard(70)\n",
        "print(RegNum)"
      ],
      "execution_count": 20,
      "outputs": [
        {
          "output_type": "stream",
          "text": [
            "{50, 20, 90, 10, 60, 30}\n"
          ],
          "name": "stdout"
        }
      ]
    },
    {
      "cell_type": "code",
      "metadata": {
        "id": "-0g0e7aLRIfq",
        "colab_type": "code",
        "colab": {
          "base_uri": "https://localhost:8080/",
          "height": 34
        },
        "outputId": "9dcb6423-7da2-4437-b143-2a2f075df827"
      },
      "source": [
        "#clear method - Removes all the elements from the set\n",
        "RollNo.clear()\n",
        "print(*RollNo)"
      ],
      "execution_count": 21,
      "outputs": [
        {
          "output_type": "stream",
          "text": [
            "\n"
          ],
          "name": "stdout"
        }
      ]
    },
    {
      "cell_type": "code",
      "metadata": {
        "id": "hBLUDrkJRLjD",
        "colab_type": "code",
        "colab": {
          "base_uri": "https://localhost:8080/",
          "height": 34
        },
        "outputId": "c4a09d1a-9425-4942-b285-38a1aab604d0"
      },
      "source": [
        "#difference method - Returns a set containing the difference between two or more sets\n",
        "Nums=set({1,2,3,4,6,7,8})\n",
        "Nums2=set({2,4,6,8,0})\n",
        "Diff=Nums.difference(Nums2)\n",
        "print(Diff)"
      ],
      "execution_count": 22,
      "outputs": [
        {
          "output_type": "stream",
          "text": [
            "{1, 3, 7}\n"
          ],
          "name": "stdout"
        }
      ]
    },
    {
      "cell_type": "code",
      "metadata": {
        "id": "ruEYxKV0RQbq",
        "colab_type": "code",
        "colab": {
          "base_uri": "https://localhost:8080/",
          "height": 50
        },
        "outputId": "e36ca8f3-9fcd-4394-8032-059ecfb4016a"
      },
      "source": [
        "#pop method - Removes an element from the set\n",
        "print(Nums2.pop())\n",
        "print(Nums2)"
      ],
      "execution_count": 23,
      "outputs": [
        {
          "output_type": "stream",
          "text": [
            "0\n",
            "{2, 4, 6, 8}\n"
          ],
          "name": "stdout"
        }
      ]
    },
    {
      "cell_type": "code",
      "metadata": {
        "id": "8pnYrsrRRTEM",
        "colab_type": "code",
        "colab": {
          "base_uri": "https://localhost:8080/",
          "height": 50
        },
        "outputId": "45074a87-9e04-4841-b305-7562585ddfa6"
      },
      "source": [
        "#remove method - Removes the specified element\n",
        "print(Nums2.remove(8))\n",
        "print(Nums2)"
      ],
      "execution_count": 24,
      "outputs": [
        {
          "output_type": "stream",
          "text": [
            "None\n",
            "{2, 4, 6}\n"
          ],
          "name": "stdout"
        }
      ]
    },
    {
      "cell_type": "code",
      "metadata": {
        "id": "lNvQErsIRVWc",
        "colab_type": "code",
        "colab": {
          "base_uri": "https://localhost:8080/",
          "height": 34
        },
        "outputId": "05e19288-b1fe-467d-c03a-668695c9eb2b"
      },
      "source": [
        "#difference_update method - Removes the items in this set that are also included in another, specified set\n",
        "A={'abc','xyz','ghi'}\n",
        "B={'ghi','mno','rst'}\n",
        "A.difference_update(B)\n",
        "print(A)"
      ],
      "execution_count": 25,
      "outputs": [
        {
          "output_type": "stream",
          "text": [
            "{'abc', 'xyz'}\n"
          ],
          "name": "stdout"
        }
      ]
    },
    {
      "cell_type": "code",
      "metadata": {
        "id": "KyrcU77oRYYy",
        "colab_type": "code",
        "colab": {
          "base_uri": "https://localhost:8080/",
          "height": 34
        },
        "outputId": "aba491fe-ce0e-4db9-b070-5dd934feff30"
      },
      "source": [
        "#intersection method - Returns a set, that is the intersection of two other sets\n",
        "A={'abc','xyz','ghi'}\n",
        "B={'ghi','mno','rst'}\n",
        "X=A.intersection(B)\n",
        "print(X)"
      ],
      "execution_count": 26,
      "outputs": [
        {
          "output_type": "stream",
          "text": [
            "{'ghi'}\n"
          ],
          "name": "stdout"
        }
      ]
    },
    {
      "cell_type": "code",
      "metadata": {
        "id": "D1hTqdFMRbba",
        "colab_type": "code",
        "colab": {
          "base_uri": "https://localhost:8080/",
          "height": 34
        },
        "outputId": "1ee73906-08d3-4d41-d3f9-cf5e373f432a"
      },
      "source": [
        "#intersection_update method - Removes the items in this set that are not present in other, specified set(s)\n",
        "A.intersection_update(B)\n",
        "print(A)"
      ],
      "execution_count": 27,
      "outputs": [
        {
          "output_type": "stream",
          "text": [
            "{'ghi'}\n"
          ],
          "name": "stdout"
        }
      ]
    },
    {
      "cell_type": "code",
      "metadata": {
        "id": "8kr1ZWAsRdog",
        "colab_type": "code",
        "colab": {
          "base_uri": "https://localhost:8080/",
          "height": 34
        },
        "outputId": "7df5c970-0e96-4ed7-c63c-31b91d4fd299"
      },
      "source": [
        "#isdisjoint method - Returns whether two sets have a intersection or not\n",
        "A={'abc','xyz','ghi'}\n",
        "B={'ghi','mno','rst'}\n",
        "A.isdisjoint(B)"
      ],
      "execution_count": 28,
      "outputs": [
        {
          "output_type": "execute_result",
          "data": {
            "text/plain": [
              "False"
            ]
          },
          "metadata": {
            "tags": []
          },
          "execution_count": 28
        }
      ]
    },
    {
      "cell_type": "code",
      "metadata": {
        "id": "Pd1_0mI9Rg1t",
        "colab_type": "code",
        "colab": {
          "base_uri": "https://localhost:8080/",
          "height": 34
        },
        "outputId": "be113228-2afc-4223-c085-b423a428ecb7"
      },
      "source": [
        "#union method - Return a set containing the union of sets\n",
        "Y=A.union(B)\n",
        "print(Y)"
      ],
      "execution_count": 29,
      "outputs": [
        {
          "output_type": "stream",
          "text": [
            "{'xyz', 'mno', 'ghi', 'abc', 'rst'}\n"
          ],
          "name": "stdout"
        }
      ]
    },
    {
      "cell_type": "code",
      "metadata": {
        "id": "jw4FrOR1RjzU",
        "colab_type": "code",
        "colab": {
          "base_uri": "https://localhost:8080/",
          "height": 34
        },
        "outputId": "dbdbe60d-dd4b-416e-e707-2248b3f82dfb"
      },
      "source": [
        "#issubset method - Returns whether another set contains this set or not\n",
        "A.issubset(B)"
      ],
      "execution_count": 30,
      "outputs": [
        {
          "output_type": "execute_result",
          "data": {
            "text/plain": [
              "False"
            ]
          },
          "metadata": {
            "tags": []
          },
          "execution_count": 30
        }
      ]
    },
    {
      "cell_type": "code",
      "metadata": {
        "id": "lpg9SguZRl6i",
        "colab_type": "code",
        "colab": {
          "base_uri": "https://localhost:8080/",
          "height": 34
        },
        "outputId": "96bb3f17-f7bb-47a8-bdbc-1b4c5f0c4094"
      },
      "source": [
        "#issuperset method - Returns whether this set contains another set or not\n",
        "A.issuperset(B)"
      ],
      "execution_count": 31,
      "outputs": [
        {
          "output_type": "execute_result",
          "data": {
            "text/plain": [
              "False"
            ]
          },
          "metadata": {
            "tags": []
          },
          "execution_count": 31
        }
      ]
    },
    {
      "cell_type": "code",
      "metadata": {
        "id": "fj99_6yaRngM",
        "colab_type": "code",
        "colab": {
          "base_uri": "https://localhost:8080/",
          "height": 34
        },
        "outputId": "4c97ea08-4bcc-48cc-a6f7-616a16099d84"
      },
      "source": [
        "#update method - Update the set with the union of this set and others\n",
        "A.update(Y)\n",
        "print(A)"
      ],
      "execution_count": 32,
      "outputs": [
        {
          "output_type": "stream",
          "text": [
            "{'mno', 'ghi', 'abc', 'rst', 'xyz'}\n"
          ],
          "name": "stdout"
        }
      ]
    },
    {
      "cell_type": "code",
      "metadata": {
        "id": "8Wp_NxujR4bi",
        "colab_type": "code",
        "colab": {
          "base_uri": "https://localhost:8080/",
          "height": 34
        },
        "outputId": "dd8ff611-0dd8-468d-cddc-4d35ab2aa4b8"
      },
      "source": [
        "#symmetric_differeence method - Return a set that contains all items from both sets, except items that are present in both sets\n",
        "A={'abc','xyz','ghi'}\n",
        "B={'ghi','mno','rst'}\n",
        "Z=A.symmetric_difference(B)\n",
        "print(Z)"
      ],
      "execution_count": 33,
      "outputs": [
        {
          "output_type": "stream",
          "text": [
            "{'xyz', 'abc', 'rst', 'mno'}\n"
          ],
          "name": "stdout"
        }
      ]
    },
    {
      "cell_type": "code",
      "metadata": {
        "id": "nB1vP5FNR8oG",
        "colab_type": "code",
        "colab": {
          "base_uri": "https://localhost:8080/",
          "height": 34
        },
        "outputId": "201dbdb0-c3e8-4c84-858c-aa615a06815a"
      },
      "source": [
        "#symmetric_differeence_update method - Remove the items that are present in both sets, AND insert the items that is not present in both sets\n",
        "A={'a','b','c','d','e'}\n",
        "B={'d','e','f','g','h'}\n",
        "A.symmetric_difference_update(B)\n",
        "print(A)"
      ],
      "execution_count": 34,
      "outputs": [
        {
          "output_type": "stream",
          "text": [
            "{'b', 'c', 'a', 'h', 'g', 'f'}\n"
          ],
          "name": "stdout"
        }
      ]
    },
    {
      "cell_type": "markdown",
      "metadata": {
        "id": "HONwAKB2eMGq",
        "colab_type": "text"
      },
      "source": [
        "##Question 4:\n",
        "Given a list of n-1 numbers ranging from 1 to n, your task is to find the missing number. There are no duplicates.\n",
        "\n",
        ">**Input Format:**\n",
        "The first line contains n-1 numbers with each number separated by a space.\n",
        "\n",
        ">**Output Format:**\n",
        "Print the missing number\n",
        "\n",
        "**Example:**\n",
        ">Input:`1 2 4 6 3 7 8`\n",
        "\n",
        ">Output:`5`\n",
        "\n",
        "**Explanation:**\n",
        "In the above list of numbers 5 is missing and hence 5 is the input"
      ]
    },
    {
      "cell_type": "code",
      "metadata": {
        "id": "a9Vt41dA341M",
        "colab_type": "code",
        "colab": {
          "base_uri": "https://localhost:8080/",
          "height": 50
        },
        "outputId": "5c41f07a-f17c-4a06-e115-9563becf4d8e"
      },
      "source": [
        "test_list = [1,2,4,6,3,7,8] \n",
        "  \n",
        "# printing original list \n",
        "print(\"The original list : \" + str(test_list)) \n",
        "  \n",
        "# Using set() \n",
        "# Finding missing elements in List \n",
        "res = list(set(range(1,max(test_list) + 1)) - set(test_list)) \n",
        "  \n",
        "# print result \n",
        "print(\"The list of missing elements : \" + str(res)) "
      ],
      "execution_count": 36,
      "outputs": [
        {
          "output_type": "stream",
          "text": [
            "The original list : [1, 2, 4, 6, 3, 7, 8]\n",
            "The list of missing elements : [5]\n"
          ],
          "name": "stdout"
        }
      ]
    },
    {
      "cell_type": "markdown",
      "metadata": {
        "id": "AMDgbVHnefpJ",
        "colab_type": "text"
      },
      "source": [
        "##Question 5:\n",
        "With a given list L, write a program to print this list L after removing all duplicate values with original order reserved.\n",
        "\n",
        "**Example:**\n",
        ">If the input list is *12 24 35 24 88 120 155 88 120 155*\n",
        "\n",
        ">Then the output should be *12 24 35 88 120 155*\n",
        "\n",
        "**Explanation:**\n",
        "Third, seventh and ninth element of the list L has been removed because it was already present.\n",
        ">**Input Format:**\n",
        "In one line take the elements of the list L with each element separated by a space.\n",
        "\n",
        ">**Output Format:**\n",
        "Print the elements of the modified list in one line with each element separated by a space.\n",
        "\n",
        "**Example:**\n",
        ">Input: `12 24 35 24`\n",
        "\n",
        ">Output:\n",
        "`12 24 35`"
      ]
    },
    {
      "cell_type": "code",
      "metadata": {
        "id": "C3T6tFdDfqu0",
        "colab_type": "code",
        "colab": {
          "base_uri": "https://localhost:8080/",
          "height": 50
        },
        "outputId": "6690a45e-95ab-4463-c193-e2577f5b697f"
      },
      "source": [
        "mylist = input(\"Enter the number sequence: \").split()\n",
        "mylist = list (dict.fromkeys(mylist))\n",
        "print(*mylist)"
      ],
      "execution_count": 35,
      "outputs": [
        {
          "output_type": "stream",
          "text": [
            "Enter the number sequence: 12 24 35 24\n",
            "12 24 35\n"
          ],
          "name": "stdout"
        }
      ]
    }
  ]
}