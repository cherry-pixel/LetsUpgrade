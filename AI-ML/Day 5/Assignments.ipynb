{
  "nbformat": 4,
  "nbformat_minor": 0,
  "metadata": {
    "colab": {
      "name": "Assignments.ipynb",
      "provenance": [],
      "collapsed_sections": []
    },
    "kernelspec": {
      "name": "python3",
      "display_name": "Python 3"
    }
  },
  "cells": [
    {
      "cell_type": "markdown",
      "metadata": {
        "id": "9tTwWu3cEUfR",
        "colab_type": "text"
      },
      "source": [
        "1. Write a Python program to find the first 20 non-even prime natural numbers.\n",
        "\n"
      ]
    },
    {
      "cell_type": "code",
      "metadata": {
        "id": "wR9eb8KYEYwk",
        "colab_type": "code",
        "colab": {
          "base_uri": "https://localhost:8080/",
          "height": 34
        },
        "outputId": "0756cc2c-dff9-4c71-c6a0-06d127786774"
      },
      "source": [
        "import sympy as sp\n",
        "list(sp.primerange(1,21))"
      ],
      "execution_count": 1,
      "outputs": [
        {
          "output_type": "execute_result",
          "data": {
            "text/plain": [
              "[2, 3, 5, 7, 11, 13, 17, 19]"
            ]
          },
          "metadata": {
            "tags": []
          },
          "execution_count": 1
        }
      ]
    },
    {
      "cell_type": "markdown",
      "metadata": {
        "id": "x66ij33XHqnx",
        "colab_type": "text"
      },
      "source": [
        "2. Write a Python program to implement 15 functions of string."
      ]
    },
    {
      "cell_type": "code",
      "metadata": {
        "id": "id3682fkHs4b",
        "colab_type": "code",
        "colab": {
          "base_uri": "https://localhost:8080/",
          "height": 35
        },
        "outputId": "1e163afc-bc85-4231-cb16-70c9c07cfbdb"
      },
      "source": [
        "words='hello, this is Cherry'\n",
        "# Converts the first character to upper case\n",
        "words.capitalize()"
      ],
      "execution_count": 2,
      "outputs": [
        {
          "output_type": "execute_result",
          "data": {
            "application/vnd.google.colaboratory.intrinsic": {
              "type": "string"
            },
            "text/plain": [
              "'Hello, this is cherry'"
            ]
          },
          "metadata": {
            "tags": []
          },
          "execution_count": 2
        }
      ]
    },
    {
      "cell_type": "code",
      "metadata": {
        "id": "OfNaaBaBJdqa",
        "colab_type": "code",
        "colab": {
          "base_uri": "https://localhost:8080/",
          "height": 35
        },
        "outputId": "734075bd-ec8d-40bd-b7b3-728917eb6461"
      },
      "source": [
        "# Converts string into lower case\n",
        "words.casefold()"
      ],
      "execution_count": 3,
      "outputs": [
        {
          "output_type": "execute_result",
          "data": {
            "application/vnd.google.colaboratory.intrinsic": {
              "type": "string"
            },
            "text/plain": [
              "'hello, this is cherry'"
            ]
          },
          "metadata": {
            "tags": []
          },
          "execution_count": 3
        }
      ]
    },
    {
      "cell_type": "code",
      "metadata": {
        "id": "gbm488yBJdx0",
        "colab_type": "code",
        "colab": {
          "base_uri": "https://localhost:8080/",
          "height": 35
        },
        "outputId": "6d875d83-f0ea-484f-a006-e289ea9b279a"
      },
      "source": [
        "# Returns a centered string\n",
        "words.center(33)"
      ],
      "execution_count": 4,
      "outputs": [
        {
          "output_type": "execute_result",
          "data": {
            "application/vnd.google.colaboratory.intrinsic": {
              "type": "string"
            },
            "text/plain": [
              "'      hello, this is Cherry      '"
            ]
          },
          "metadata": {
            "tags": []
          },
          "execution_count": 4
        }
      ]
    },
    {
      "cell_type": "code",
      "metadata": {
        "id": "DT2em4Z4Jd2t",
        "colab_type": "code",
        "colab": {
          "base_uri": "https://localhost:8080/",
          "height": 34
        },
        "outputId": "207dca8e-a667-4320-a34c-d0d9ed922c0b"
      },
      "source": [
        "# Returns the number of times a specified value occurs in a string\n",
        "words.count('h')"
      ],
      "execution_count": 5,
      "outputs": [
        {
          "output_type": "execute_result",
          "data": {
            "text/plain": [
              "3"
            ]
          },
          "metadata": {
            "tags": []
          },
          "execution_count": 5
        }
      ]
    },
    {
      "cell_type": "code",
      "metadata": {
        "id": "rLza3m-LJd64",
        "colab_type": "code",
        "colab": {
          "base_uri": "https://localhost:8080/",
          "height": 34
        },
        "outputId": "c9cfb5d1-3aa3-4709-a371-332c76b88170"
      },
      "source": [
        "# Returns an encoded version of the string\n",
        "words.encode()"
      ],
      "execution_count": 6,
      "outputs": [
        {
          "output_type": "execute_result",
          "data": {
            "text/plain": [
              "b'hello, this is Cherry'"
            ]
          },
          "metadata": {
            "tags": []
          },
          "execution_count": 6
        }
      ]
    },
    {
      "cell_type": "code",
      "metadata": {
        "id": "BLBRsKMhJd-D",
        "colab_type": "code",
        "colab": {
          "base_uri": "https://localhost:8080/",
          "height": 34
        },
        "outputId": "9d7c3d10-7a33-4a5c-83ab-10217d032b4c"
      },
      "source": [
        "# Returns true if the string ends with the specified value\n",
        "words.endswith('y')"
      ],
      "execution_count": 7,
      "outputs": [
        {
          "output_type": "execute_result",
          "data": {
            "text/plain": [
              "True"
            ]
          },
          "metadata": {
            "tags": []
          },
          "execution_count": 7
        }
      ]
    },
    {
      "cell_type": "code",
      "metadata": {
        "id": "hvYCxLZzJeBY",
        "colab_type": "code",
        "colab": {
          "base_uri": "https://localhost:8080/",
          "height": 35
        },
        "outputId": "5da2c467-2a4c-450b-e657-93bbdd14e529"
      },
      "source": [
        "# Sets the tab size of the string\n",
        "tabs=\"Good\\tMorning\"\n",
        "tabs.expandtabs(9)"
      ],
      "execution_count": 8,
      "outputs": [
        {
          "output_type": "execute_result",
          "data": {
            "application/vnd.google.colaboratory.intrinsic": {
              "type": "string"
            },
            "text/plain": [
              "'Good     Morning'"
            ]
          },
          "metadata": {
            "tags": []
          },
          "execution_count": 8
        }
      ]
    },
    {
      "cell_type": "code",
      "metadata": {
        "id": "GkerLbS6K32U",
        "colab_type": "code",
        "colab": {
          "base_uri": "https://localhost:8080/",
          "height": 34
        },
        "outputId": "1a6e5bfd-34b3-476a-be19-51096328350f"
      },
      "source": [
        "# Searches the string for a specified value and returns the position of where it was found\n",
        "words.find('this')"
      ],
      "execution_count": 9,
      "outputs": [
        {
          "output_type": "execute_result",
          "data": {
            "text/plain": [
              "7"
            ]
          },
          "metadata": {
            "tags": []
          },
          "execution_count": 9
        }
      ]
    },
    {
      "cell_type": "code",
      "metadata": {
        "id": "TuVfKz-AK39n",
        "colab_type": "code",
        "colab": {
          "base_uri": "https://localhost:8080/",
          "height": 35
        },
        "outputId": "16d927d9-8fcc-4771-d6ee-e7f1440e0d95"
      },
      "source": [
        "# Formats specified values in a string\n",
        "price='{val} : {pr}'\n",
        "price.format(val='Chocolate',pr=99.9)"
      ],
      "execution_count": 10,
      "outputs": [
        {
          "output_type": "execute_result",
          "data": {
            "application/vnd.google.colaboratory.intrinsic": {
              "type": "string"
            },
            "text/plain": [
              "'Chocolate : 99.9'"
            ]
          },
          "metadata": {
            "tags": []
          },
          "execution_count": 10
        }
      ]
    },
    {
      "cell_type": "code",
      "metadata": {
        "id": "A8zHpFqnK4CN",
        "colab_type": "code",
        "colab": {
          "base_uri": "https://localhost:8080/",
          "height": 34
        },
        "outputId": "2a9e4540-9886-49d4-de16-4535403d32ea"
      },
      "source": [
        "# Formats specified values in a string\n",
        "sent={'x':\"I'm Cherry\",'y':'Good Morning'}\n",
        "print(\"{x},{y}\".format_map(sent))"
      ],
      "execution_count": 11,
      "outputs": [
        {
          "output_type": "stream",
          "text": [
            "I'm Cherry,Good Morning\n"
          ],
          "name": "stdout"
        }
      ]
    },
    {
      "cell_type": "code",
      "metadata": {
        "id": "-Bskkq9EK4HJ",
        "colab_type": "code",
        "colab": {
          "base_uri": "https://localhost:8080/",
          "height": 34
        },
        "outputId": "a1b42632-6a32-481b-e541-de7df836d3f1"
      },
      "source": [
        "# Searches the string for a specified value and returns the position of where it was found\n",
        "words.index('C')"
      ],
      "execution_count": 12,
      "outputs": [
        {
          "output_type": "execute_result",
          "data": {
            "text/plain": [
              "15"
            ]
          },
          "metadata": {
            "tags": []
          },
          "execution_count": 12
        }
      ]
    },
    {
      "cell_type": "code",
      "metadata": {
        "id": "Yv8mowMtK4FA",
        "colab_type": "code",
        "colab": {
          "base_uri": "https://localhost:8080/",
          "height": 34
        },
        "outputId": "ecd2b401-9f82-4a83-83d4-13d974c2578a"
      },
      "source": [
        "# Returns True if all characters in the string are alphanumeric\n",
        "words.isalnum()"
      ],
      "execution_count": 13,
      "outputs": [
        {
          "output_type": "execute_result",
          "data": {
            "text/plain": [
              "False"
            ]
          },
          "metadata": {
            "tags": []
          },
          "execution_count": 13
        }
      ]
    },
    {
      "cell_type": "code",
      "metadata": {
        "id": "yhxrJIt0K4Ap",
        "colab_type": "code",
        "colab": {
          "base_uri": "https://localhost:8080/",
          "height": 34
        },
        "outputId": "82e753b3-fa90-41bd-917a-5d75b6955bef"
      },
      "source": [
        "# Returns True if all characters in the string are in the alphabet\n",
        "words.isalpha()"
      ],
      "execution_count": 14,
      "outputs": [
        {
          "output_type": "execute_result",
          "data": {
            "text/plain": [
              "False"
            ]
          },
          "metadata": {
            "tags": []
          },
          "execution_count": 14
        }
      ]
    },
    {
      "cell_type": "code",
      "metadata": {
        "id": "_NsGoharNxHt",
        "colab_type": "code",
        "colab": {
          "base_uri": "https://localhost:8080/",
          "height": 34
        },
        "outputId": "5eb52cfc-51c6-491c-a2ee-e26d7d66a539"
      },
      "source": [
        "# Returns True if the string is an identifier\n",
        "words.isidentifier()"
      ],
      "execution_count": 15,
      "outputs": [
        {
          "output_type": "execute_result",
          "data": {
            "text/plain": [
              "False"
            ]
          },
          "metadata": {
            "tags": []
          },
          "execution_count": 15
        }
      ]
    },
    {
      "cell_type": "code",
      "metadata": {
        "id": "lMBYYatYNxR4",
        "colab_type": "code",
        "colab": {
          "base_uri": "https://localhost:8080/",
          "height": 50
        },
        "outputId": "076edb70-e2bd-4933-d796-0f813adfcd20"
      },
      "source": [
        "# Joins the elements of an iterable to the end of the string\n",
        "print('-'.join(words))\n",
        "greet=('Good','Morning')\n",
        "print('--'.join(greet))"
      ],
      "execution_count": 16,
      "outputs": [
        {
          "output_type": "stream",
          "text": [
            "h-e-l-l-o-,- -t-h-i-s- -i-s- -C-h-e-r-r-y\n",
            "Good--Morning\n"
          ],
          "name": "stdout"
        }
      ]
    },
    {
      "cell_type": "code",
      "metadata": {
        "id": "BxTi1AodNxPU",
        "colab_type": "code",
        "colab": {
          "base_uri": "https://localhost:8080/",
          "height": 35
        },
        "outputId": "396d70f3-c575-4f89-e9af-e04bf195f04e"
      },
      "source": [
        "# Returns a right justified version of the string\n",
        "words.ljust(33)"
      ],
      "execution_count": 17,
      "outputs": [
        {
          "output_type": "execute_result",
          "data": {
            "application/vnd.google.colaboratory.intrinsic": {
              "type": "string"
            },
            "text/plain": [
              "'hello, this is Cherry            '"
            ]
          },
          "metadata": {
            "tags": []
          },
          "execution_count": 17
        }
      ]
    },
    {
      "cell_type": "code",
      "metadata": {
        "id": "tqCrrwzJNxL8",
        "colab_type": "code",
        "colab": {
          "base_uri": "https://localhost:8080/",
          "height": 35
        },
        "outputId": "2a3f1710-bde6-4acd-82b7-03cd4952cd58"
      },
      "source": [
        "# Returns a string where a specified value is replaced with a specified value\n",
        "words.replace('Cherry','Jamuna')"
      ],
      "execution_count": 18,
      "outputs": [
        {
          "output_type": "execute_result",
          "data": {
            "application/vnd.google.colaboratory.intrinsic": {
              "type": "string"
            },
            "text/plain": [
              "'hello, this is Jamuna'"
            ]
          },
          "metadata": {
            "tags": []
          },
          "execution_count": 18
        }
      ]
    },
    {
      "cell_type": "code",
      "metadata": {
        "id": "LBH8X0OxNxFo",
        "colab_type": "code",
        "colab": {
          "base_uri": "https://localhost:8080/",
          "height": 35
        },
        "outputId": "76de42ef-698c-4730-98fd-650de0a4859d"
      },
      "source": [
        "# Swaps cases, lower case becomes upper case and vice versa\n",
        "words.swapcase()"
      ],
      "execution_count": 19,
      "outputs": [
        {
          "output_type": "execute_result",
          "data": {
            "application/vnd.google.colaboratory.intrinsic": {
              "type": "string"
            },
            "text/plain": [
              "'HELLO, THIS IS cHERRY'"
            ]
          },
          "metadata": {
            "tags": []
          },
          "execution_count": 19
        }
      ]
    },
    {
      "cell_type": "code",
      "metadata": {
        "id": "TrTI7WUeNxDi",
        "colab_type": "code",
        "colab": {
          "base_uri": "https://localhost:8080/",
          "height": 35
        },
        "outputId": "2d3e82d0-7dd7-48a8-ac1c-b44fcddc4fd7"
      },
      "source": [
        "# Returns a trimmed version of the string\n",
        "text='    CHERRY    '\n",
        "text.strip()"
      ],
      "execution_count": 23,
      "outputs": [
        {
          "output_type": "execute_result",
          "data": {
            "application/vnd.google.colaboratory.intrinsic": {
              "type": "string"
            },
            "text/plain": [
              "'CHERRY'"
            ]
          },
          "metadata": {
            "tags": []
          },
          "execution_count": 23
        }
      ]
    },
    {
      "cell_type": "markdown",
      "metadata": {
        "id": "sFcDTHwbIAAk",
        "colab_type": "text"
      },
      "source": [
        "3. Write a Python program to check if the given string is a Palindrome or Anagram or None of them.\n",
        "Display the message accordingly to the user."
      ]
    },
    {
      "cell_type": "code",
      "metadata": {
        "id": "g3jYB9P_IDP8",
        "colab_type": "code",
        "colab": {
          "base_uri": "https://localhost:8080/",
          "height": 67
        },
        "outputId": "0a0df6c7-5f67-4f96-f424-7c09f0a72cc9"
      },
      "source": [
        "user1=input(\"Enter your first string: \")\n",
        "user2=input(\"Enter your second string: \")\n",
        "\n",
        "print(f\"{user1} is a Palindrome\" if (user1[::-1]==user1) else f\"{user2} is a Palindrome\" if (user2[::-1]==user2) else \"They are Anagram\" if (sorted(user1)==sorted(user2)) else \"None of them\")\n"
      ],
      "execution_count": 20,
      "outputs": [
        {
          "output_type": "stream",
          "text": [
            "Enter your first string: silent\n",
            "Enter your second string: listen\n",
            "They are Anagram\n"
          ],
          "name": "stdout"
        }
      ]
    },
    {
      "cell_type": "markdown",
      "metadata": {
        "id": "gzWyY3MDIAJO",
        "colab_type": "text"
      },
      "source": [
        "4. Write a Python's user defined function that removes all the additional characters from the string\n",
        "and converts it finally to lower case using built-in lower(). eg: If the string is \"Dr. Darshan Ingle\n",
        "@AI-ML Trainer\", then the output be \"drdarshaningleaimltrainer\"."
      ]
    },
    {
      "cell_type": "code",
      "metadata": {
        "id": "4EcMUXtwIDkT",
        "colab_type": "code",
        "colab": {
          "base_uri": "https://localhost:8080/",
          "height": 52
        },
        "outputId": "d3ce0250-edc3-4c1e-ca16-8421aa6a254f"
      },
      "source": [
        "wrd=input(\"Enter the String: \")\n",
        "def word(wrd):\n",
        "  inp=['@','-',' ','.']\n",
        "  for i in inp:\n",
        "    wrd=wrd.replace(i,'')\n",
        "  wrd=wrd.lower()\n",
        "  return wrd\n",
        "word(wrd)"
      ],
      "execution_count": 29,
      "outputs": [
        {
          "output_type": "stream",
          "text": [
            "Enter the String: Dr. Darshan Ingle @AI-ML Trainer\n"
          ],
          "name": "stdout"
        },
        {
          "output_type": "execute_result",
          "data": {
            "application/vnd.google.colaboratory.intrinsic": {
              "type": "string"
            },
            "text/plain": [
              "'drdarshaningleaimltrainer'"
            ]
          },
          "metadata": {
            "tags": []
          },
          "execution_count": 29
        }
      ]
    }
  ]
}