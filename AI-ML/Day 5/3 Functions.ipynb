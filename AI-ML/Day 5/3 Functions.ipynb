{
 "cells": [
  {
   "cell_type": "markdown",
   "metadata": {},
   "source": [
    "Functions:\n",
    "--\n",
    "Function is a named sequence of statements that performs a computation."
   ]
  },
  {
   "cell_type": "code",
   "execution_count": 1,
   "metadata": {},
   "outputs": [
    {
     "data": {
      "text/plain": [
       "32"
      ]
     },
     "execution_count": 1,
     "metadata": {},
     "output_type": "execute_result"
    }
   ],
   "source": [
    "# Type Conversion Functions\n",
    "int('32') # convert str to int"
   ]
  },
  {
   "cell_type": "code",
   "execution_count": 2,
   "metadata": {},
   "outputs": [
    {
     "data": {
      "text/plain": [
       "3"
      ]
     },
     "execution_count": 2,
     "metadata": {},
     "output_type": "execute_result"
    }
   ],
   "source": [
    "int(3.88888)"
   ]
  },
  {
   "cell_type": "code",
   "execution_count": 3,
   "metadata": {},
   "outputs": [
    {
     "data": {
      "text/plain": [
       "-2"
      ]
     },
     "execution_count": 3,
     "metadata": {},
     "output_type": "execute_result"
    }
   ],
   "source": [
    "int(-2.33)"
   ]
  },
  {
   "cell_type": "code",
   "execution_count": 4,
   "metadata": {},
   "outputs": [
    {
     "ename": "ValueError",
     "evalue": "invalid literal for int() with base 10: 'Hello'",
     "output_type": "error",
     "traceback": [
      "\u001b[1;31m---------------------------------------------------------------------------\u001b[0m",
      "\u001b[1;31mValueError\u001b[0m                                Traceback (most recent call last)",
      "\u001b[1;32m<ipython-input-4-6765ce49acfe>\u001b[0m in \u001b[0;36m<module>\u001b[1;34m\u001b[0m\n\u001b[1;32m----> 1\u001b[1;33m \u001b[0mint\u001b[0m\u001b[1;33m(\u001b[0m\u001b[1;34m'Hello'\u001b[0m\u001b[1;33m)\u001b[0m\u001b[1;33m\u001b[0m\u001b[1;33m\u001b[0m\u001b[0m\n\u001b[0m",
      "\u001b[1;31mValueError\u001b[0m: invalid literal for int() with base 10: 'Hello'"
     ]
    }
   ],
   "source": [
    "int('Hello')"
   ]
  },
  {
   "cell_type": "code",
   "execution_count": 5,
   "metadata": {},
   "outputs": [
    {
     "data": {
      "text/plain": [
       "32.0"
      ]
     },
     "execution_count": 5,
     "metadata": {},
     "output_type": "execute_result"
    }
   ],
   "source": [
    "float(32)"
   ]
  },
  {
   "cell_type": "code",
   "execution_count": 6,
   "metadata": {},
   "outputs": [
    {
     "data": {
      "text/plain": [
       "12.7576"
      ]
     },
     "execution_count": 6,
     "metadata": {},
     "output_type": "execute_result"
    }
   ],
   "source": [
    "float(12.7576)"
   ]
  },
  {
   "cell_type": "code",
   "execution_count": 7,
   "metadata": {},
   "outputs": [
    {
     "data": {
      "text/plain": [
       "'32'"
      ]
     },
     "execution_count": 7,
     "metadata": {},
     "output_type": "execute_result"
    }
   ],
   "source": [
    "str(32)"
   ]
  },
  {
   "cell_type": "code",
   "execution_count": 11,
   "metadata": {},
   "outputs": [
    {
     "ename": "NameError",
     "evalue": "name 'sqrt' is not defined",
     "output_type": "error",
     "traceback": [
      "\u001b[1;31m---------------------------------------------------------------------------\u001b[0m",
      "\u001b[1;31mNameError\u001b[0m                                 Traceback (most recent call last)",
      "\u001b[1;32m<ipython-input-11-f1604fe136c2>\u001b[0m in \u001b[0;36m<module>\u001b[1;34m\u001b[0m\n\u001b[1;32m----> 1\u001b[1;33m \u001b[0msqrt\u001b[0m\u001b[1;33m(\u001b[0m\u001b[1;36m64\u001b[0m\u001b[1;33m)\u001b[0m\u001b[1;33m\u001b[0m\u001b[1;33m\u001b[0m\u001b[0m\n\u001b[0m",
      "\u001b[1;31mNameError\u001b[0m: name 'sqrt' is not defined"
     ]
    }
   ],
   "source": [
    "sqrt(64)"
   ]
  },
  {
   "cell_type": "markdown",
   "metadata": {},
   "source": [
    "Math Functions:\n",
    "--\n",
    " Import module 'math' for this"
   ]
  },
  {
   "cell_type": "code",
   "execution_count": 17,
   "metadata": {},
   "outputs": [
    {
     "name": "stdout",
     "output_type": "stream",
     "text": [
      "8.0\n",
      "0.8939966636005579\n",
      "3\n",
      "2\n"
     ]
    }
   ],
   "source": [
    "# type your code here13\n",
    "import math\n",
    "print(math.sqrt(64))\n",
    "print(math.sin(90))\n",
    "print(math.ceil(2.0111))\n",
    "print(math.floor(2.0111))"
   ]
  },
  {
   "cell_type": "code",
   "execution_count": 19,
   "metadata": {},
   "outputs": [],
   "source": [
    "# help(\"math\")"
   ]
  },
  {
   "cell_type": "code",
   "execution_count": 20,
   "metadata": {},
   "outputs": [
    {
     "name": "stdout",
     "output_type": "stream",
     "text": [
      "11.740100754686434\n"
     ]
    }
   ],
   "source": [
    "# It is used with dot notations\n",
    "# type your code here1+5\n",
    "a = 2 * math.tan(45)-math.sin(65)+math.sqrt(87)\n",
    "print(a)"
   ]
  },
  {
   "cell_type": "code",
   "execution_count": 21,
   "metadata": {},
   "outputs": [
    {
     "name": "stdout",
     "output_type": "stream",
     "text": [
      "11.740100754686434\n"
     ]
    }
   ],
   "source": [
    "import math as m\n",
    "a = 2 * m.tan(45)-m.sin(65)+m.sqrt(87)\n",
    "print(a)"
   ]
  },
  {
   "cell_type": "code",
   "execution_count": null,
   "metadata": {},
   "outputs": [],
   "source": [
    "# type your code here\n",
    "# type your code here1-7\n",
    "\n",
    "\n",
    "\n"
   ]
  },
  {
   "cell_type": "code",
   "execution_count": 22,
   "metadata": {},
   "outputs": [
    {
     "name": "stdout",
     "output_type": "stream",
     "text": [
      "2.0\n",
      "6\n",
      "20.085536923187668\n",
      "1.0986122886681098\n",
      "0.6989700043360189\n",
      "8.0\n"
     ]
    }
   ],
   "source": [
    "print(m.sqrt(4))\n",
    "print(m.ceil(5.1))\n",
    "# type your code here1*8\n",
    "print(m.exp(3.0))\n",
    "print(m.log(3))\n",
    "print(m.log10(5))\n",
    "print(m.pow(2,3))"
   ]
  },
  {
   "cell_type": "code",
   "execution_count": 23,
   "metadata": {},
   "outputs": [
    {
     "data": {
      "text/plain": [
       "12.0"
      ]
     },
     "execution_count": 23,
     "metadata": {},
     "output_type": "execute_result"
    }
   ],
   "source": [
    "m.sqrt(144)"
   ]
  },
  {
   "cell_type": "code",
   "execution_count": 24,
   "metadata": {},
   "outputs": [
    {
     "name": "stdout",
     "output_type": "stream",
     "text": [
      "<class 'int'>\n"
     ]
    }
   ],
   "source": [
    "# type your code here\n",
    "a=22\n",
    "print(type(a))"
   ]
  },
  {
   "cell_type": "markdown",
   "metadata": {},
   "source": [
    "Composition\n",
    "--\n",
    "\n",
    ">It is the ability to take small building blocks and compose them. "
   ]
  },
  {
   "cell_type": "code",
   "execution_count": 25,
   "metadata": {},
   "outputs": [
    {
     "name": "stdout",
     "output_type": "stream",
     "text": [
      "0.6593040763085178\n"
     ]
    }
   ],
   "source": [
    "import math as m\n",
    "# type your code here2.1\n",
    "\n",
    "print(m.cos(m.sin(45)))\n"
   ]
  },
  {
   "cell_type": "code",
   "execution_count": null,
   "metadata": {},
   "outputs": [],
   "source": [
    "# type your code here2.2\n",
    "\n",
    "\n"
   ]
  },
  {
   "cell_type": "markdown",
   "metadata": {},
   "source": [
    "User Defined Functions:\n",
    "--\n",
    "\n",
    "'def' keyword is used for this"
   ]
  },
  {
   "cell_type": "code",
   "execution_count": 30,
   "metadata": {
    "scrolled": true
   },
   "outputs": [
    {
     "name": "stdout",
     "output_type": "stream",
     "text": [
      "Hi from abc\n",
      "Hi from abc\n",
      "Hi from abc\n",
      "Hi from abc\n",
      "Hi from abc\n",
      "EOP\n"
     ]
    }
   ],
   "source": [
    "# type your code here2->8\n",
    "\n",
    "def abc():\n",
    "    print(\"Hi from abc\")\n",
    "\n",
    "for i in range(5):\n",
    "    abc()\n",
    "\n",
    "print(\"EOP\")"
   ]
  },
  {
   "cell_type": "code",
   "execution_count": 31,
   "metadata": {},
   "outputs": [
    {
     "name": "stdout",
     "output_type": "stream",
     "text": [
      "Hi from abc\n",
      "Hi from xyz\n",
      "EOP\n"
     ]
    }
   ],
   "source": [
    "# type your code here3.2+\n",
    "\n",
    "def abc():\n",
    "    print(\"Hi from abc\")\n",
    "\n",
    "def xyz():\n",
    "    print(\"Hi from xyz\")\n",
    "\n",
    "abc()\n",
    "xyz()\n",
    "\n",
    "print(\"EOP\")"
   ]
  },
  {
   "cell_type": "code",
   "execution_count": 32,
   "metadata": {},
   "outputs": [
    {
     "name": "stdout",
     "output_type": "stream",
     "text": [
      "Hi from abc\n",
      "Hi from xyz\n",
      "Hi from abc\n",
      "Leaving xyz\n",
      "EOP\n"
     ]
    }
   ],
   "source": [
    "# type your code here3.2+\n",
    "\n",
    "def abc():\n",
    "    print(\"Hi from abc\")\n",
    "\n",
    "def xyz():\n",
    "    print(\"Hi from xyz\")\n",
    "    abc()\n",
    "    print(\"Leaving xyz\")\n",
    "\n",
    "abc()\n",
    "xyz()\n",
    "\n",
    "print(\"EOP\")"
   ]
  },
  {
   "cell_type": "markdown",
   "metadata": {},
   "source": [
    "Parameter passing and Arguments:\n",
    "--\n"
   ]
  },
  {
   "cell_type": "code",
   "execution_count": 34,
   "metadata": {},
   "outputs": [
    {
     "name": "stdout",
     "output_type": "stream",
     "text": [
      "233\n",
      "33.122\n",
      "Dr. Darshan Ingle\n"
     ]
    }
   ],
   "source": [
    "def mno(a):\n",
    "    print(a)\n",
    "\n",
    "mno(233)\n",
    "mno(33.122)\n",
    "# type your code here3+1\n",
    "mno(\"Dr. Darshan Ingle\")\n"
   ]
  },
  {
   "cell_type": "code",
   "execution_count": 37,
   "metadata": {},
   "outputs": [
    {
     "name": "stdout",
     "output_type": "stream",
     "text": [
      "25\n"
     ]
    }
   ],
   "source": [
    "def mno(a):\n",
    "    a = a**2\n",
    "    return a\n",
    "    print(\"Hello AI-ML batch\")\n",
    "    print(\"I am tired\")\n",
    "    \n",
    "\n",
    "x = mno(5)\n",
    "# type your code here33\n",
    "print(x)"
   ]
  },
  {
   "cell_type": "code",
   "execution_count": null,
   "metadata": {},
   "outputs": [],
   "source": [
    "# Modulus Operator\n",
    "print(7/3)\n",
    "print(7%3)"
   ]
  },
  {
   "cell_type": "code",
   "execution_count": null,
   "metadata": {},
   "outputs": [],
   "source": [
    "# Boolean Operator\n",
    "# type your code here3*4\n",
    "\n",
    "\n",
    "\n"
   ]
  },
  {
   "cell_type": "code",
   "execution_count": null,
   "metadata": {},
   "outputs": [],
   "source": [
    "# Relational Operators\n",
    "# > < >= <= == !=\n",
    "a = 5>6\n",
    "# type your code here\n",
    "\n"
   ]
  },
  {
   "cell_type": "code",
   "execution_count": null,
   "metadata": {},
   "outputs": [],
   "source": [
    "# Logical Operators\n",
    "# and, or\n",
    "\n",
    "2>5 or 6>3\n"
   ]
  },
  {
   "cell_type": "markdown",
   "metadata": {},
   "source": [
    "Variables and parameters are local.\n",
    "--"
   ]
  },
  {
   "cell_type": "code",
   "execution_count": 40,
   "metadata": {},
   "outputs": [
    {
     "name": "stdout",
     "output_type": "stream",
     "text": [
      "DarshanIngle\n"
     ]
    },
    {
     "ename": "NameError",
     "evalue": "name 'new_var' is not defined",
     "output_type": "error",
     "traceback": [
      "\u001b[1;31m---------------------------------------------------------------------------\u001b[0m",
      "\u001b[1;31mNameError\u001b[0m                                 Traceback (most recent call last)",
      "\u001b[1;32m<ipython-input-40-f00c6e795942>\u001b[0m in \u001b[0;36m<module>\u001b[1;34m\u001b[0m\n\u001b[0;32m      7\u001b[0m \u001b[0mloc_var_ex\u001b[0m\u001b[1;33m(\u001b[0m\u001b[0ma\u001b[0m\u001b[1;33m,\u001b[0m\u001b[0mb\u001b[0m\u001b[1;33m)\u001b[0m\u001b[1;33m\u001b[0m\u001b[1;33m\u001b[0m\u001b[0m\n\u001b[0;32m      8\u001b[0m \u001b[1;31m# type your code here3..6\u001b[0m\u001b[1;33m\u001b[0m\u001b[1;33m\u001b[0m\u001b[1;33m\u001b[0m\u001b[0m\n\u001b[1;32m----> 9\u001b[1;33m \u001b[0mprint\u001b[0m\u001b[1;33m(\u001b[0m\u001b[0mnew_var\u001b[0m\u001b[1;33m)\u001b[0m\u001b[1;33m\u001b[0m\u001b[1;33m\u001b[0m\u001b[0m\n\u001b[0m",
      "\u001b[1;31mNameError\u001b[0m: name 'new_var' is not defined"
     ]
    }
   ],
   "source": [
    "def loc_var_ex(parta,partartb):\n",
    "    new_var=parta+partartb\n",
    "    print(new_var)\n",
    "\n",
    "a=\"Darshan\"\n",
    "b=\"Ingle\"\n",
    "loc_var_ex(a,b)\n",
    "# type your code here3..6\n",
    "print(new_var)\n"
   ]
  },
  {
   "cell_type": "markdown",
   "metadata": {},
   "source": [
    "Taking input from the user\n",
    "--"
   ]
  },
  {
   "cell_type": "code",
   "execution_count": 48,
   "metadata": {},
   "outputs": [
    {
     "name": "stdout",
     "output_type": "stream",
     "text": [
      "darshan\n",
      "Entered value is: darshan\n"
     ]
    }
   ],
   "source": [
    "a = input()\n",
    "print(\"Entered value is:\",a)"
   ]
  },
  {
   "cell_type": "code",
   "execution_count": 49,
   "metadata": {},
   "outputs": [
    {
     "name": "stdout",
     "output_type": "stream",
     "text": [
      "5\n",
      "45\n",
      "Sum =  545\n"
     ]
    }
   ],
   "source": [
    "a = input()\n",
    "b = input()\n",
    "c = a + b\n",
    "print(\"Sum = \",c)"
   ]
  },
  {
   "cell_type": "code",
   "execution_count": 50,
   "metadata": {},
   "outputs": [
    {
     "name": "stdout",
     "output_type": "stream",
     "text": [
      "5\n",
      "45\n",
      "Sum =  50\n"
     ]
    }
   ],
   "source": [
    "# type your code here3\n",
    "a = int(input())\n",
    "b = int(input())\n",
    "c = a + b\n",
    "print(\"Sum = \",c)"
   ]
  },
  {
   "cell_type": "code",
   "execution_count": 53,
   "metadata": {},
   "outputs": [
    {
     "name": "stdout",
     "output_type": "stream",
     "text": [
      "Enter the first number:34\n",
      "Enter the second number:54\n",
      "Sum =  88\n"
     ]
    }
   ],
   "source": [
    "a = int(input(\"Enter the first number:\"))\n",
    "b = int(input(\"Enter the second number:\"))\n",
    "c = a + b\n",
    "print(\"Sum = \",c)"
   ]
  },
  {
   "cell_type": "code",
   "execution_count": null,
   "metadata": {},
   "outputs": [],
   "source": [
    "type(c)"
   ]
  },
  {
   "cell_type": "code",
   "execution_count": null,
   "metadata": {},
   "outputs": [],
   "source": [
    "print(\"Enter two nos: \")\n",
    "# type your code here\n",
    "\n",
    "\n",
    "\n",
    "c=a+b\n",
    "print(\"Add is: \",c)"
   ]
  },
  {
   "cell_type": "code",
   "execution_count": null,
   "metadata": {},
   "outputs": [],
   "source": [
    "type(c)"
   ]
  },
  {
   "cell_type": "code",
   "execution_count": null,
   "metadata": {},
   "outputs": [],
   "source": [
    "print(\"Enter 1st nos: \")\n",
    "a=int(input())\n",
    "print(\"Enter 2nd nos: \")\n",
    "b=int(input())\n",
    "# type your code here\n",
    "\n",
    "\n",
    "print(\"Add is: \",c)"
   ]
  },
  {
   "cell_type": "code",
   "execution_count": null,
   "metadata": {},
   "outputs": [],
   "source": [
    "# type your code here\n",
    "\n",
    "\n",
    "\n",
    "c=a+b\n",
    "print(\"Add is: \",c)"
   ]
  },
  {
   "cell_type": "code",
   "execution_count": 57,
   "metadata": {},
   "outputs": [
    {
     "name": "stdout",
     "output_type": "stream",
     "text": [
      "3.0\n",
      "252.33333333333334\n"
     ]
    }
   ],
   "source": [
    "# Program to fing average of 3 numbers\n",
    "# type your code here1.9\n",
    "\n",
    "def avg(n1,n2,n3):\n",
    "    sum = n1+n2+n3\n",
    "    print(sum/3)\n",
    "\n",
    "avg(2,3,4)\n",
    "avg(22,311,424)"
   ]
  },
  {
   "cell_type": "code",
   "execution_count": 63,
   "metadata": {},
   "outputs": [
    {
     "name": "stdout",
     "output_type": "stream",
     "text": [
      "1.0\n",
      "396.0\n",
      "252.33333333333334\n",
      "Enter n1:245\n",
      "Enter n3:567\n",
      "271.0\n"
     ]
    }
   ],
   "source": [
    "def avg(n1=2, n2=1, n3=0):\n",
    "    sum = n1+n2+n3\n",
    "    print(sum/3)\n",
    "\n",
    "# type your code here5\n",
    "avg()\n",
    "avg(n1=200,n3=987)\n",
    "avg(22,311,424)\n",
    "avg(n1=int(input(\"Enter n1:\")),n3=int(input(\"Enter n3:\")))"
   ]
  }
 ],
 "metadata": {
  "kernelspec": {
   "display_name": "Python 3",
   "language": "python",
   "name": "python3"
  },
  "language_info": {
   "codemirror_mode": {
    "name": "ipython",
    "version": 3
   },
   "file_extension": ".py",
   "mimetype": "text/x-python",
   "name": "python",
   "nbconvert_exporter": "python",
   "pygments_lexer": "ipython3",
   "version": "3.7.4"
  },
  "toc": {
   "base_numbering": 1,
   "nav_menu": {},
   "number_sections": true,
   "sideBar": true,
   "skip_h1_title": false,
   "title_cell": "Table of Contents",
   "title_sidebar": "Contents",
   "toc_cell": false,
   "toc_position": {},
   "toc_section_display": true,
   "toc_window_display": false
  }
 },
 "nbformat": 4,
 "nbformat_minor": 2
}
