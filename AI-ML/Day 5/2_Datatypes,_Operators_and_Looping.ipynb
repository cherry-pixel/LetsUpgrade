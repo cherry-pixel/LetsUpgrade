{
  "nbformat": 4,
  "nbformat_minor": 0,
  "metadata": {
    "kernelspec": {
      "display_name": "Python 3",
      "language": "python",
      "name": "python3"
    },
    "language_info": {
      "codemirror_mode": {
        "name": "ipython",
        "version": 3
      },
      "file_extension": ".py",
      "mimetype": "text/x-python",
      "name": "python",
      "nbconvert_exporter": "python",
      "pygments_lexer": "ipython3",
      "version": "3.7.4"
    },
    "toc": {
      "base_numbering": 1,
      "nav_menu": {},
      "number_sections": true,
      "sideBar": true,
      "skip_h1_title": false,
      "title_cell": "Table of Contents",
      "title_sidebar": "Contents",
      "toc_cell": false,
      "toc_position": {},
      "toc_section_display": true,
      "toc_window_display": false
    },
    "colab": {
      "name": "2 Datatypes, Operators and Looping.ipynb",
      "provenance": []
    }
  },
  "cells": [
    {
      "cell_type": "markdown",
      "metadata": {
        "id": "CywUnk7gYsUS",
        "colab_type": "text"
      },
      "source": [
        "Datatypes\n",
        "--\n",
        ">int - Plain integer\n",
        "\n",
        ">long - long integer, with 'L' suffix. It is deprecated.\n",
        "\n",
        ">float - Floating point number\n",
        "\n",
        ">complex - Complex no, Real and Imaginary part\n",
        "\n",
        ">boolean - True and False\n",
        "\n",
        ">sequence - string, list, tuple\n",
        "\n",
        ">mapping - Dictionary\n",
        "\n",
        ">set - unordered collection of distinct objects\n",
        "\n",
        ">file - used to make file system objects"
      ]
    },
    {
      "cell_type": "markdown",
      "metadata": {
        "id": "EYc-CH2gYsUT",
        "colab_type": "text"
      },
      "source": [
        "Typecasting\n",
        "--"
      ]
    },
    {
      "cell_type": "code",
      "metadata": {
        "id": "Td9tJ9f1YsUU",
        "colab_type": "code",
        "colab": {},
        "outputId": "9cc7ab49-8f1b-4603-8fd8-1a5e45ed6024"
      },
      "source": [
        "# String/float to int\n",
        "# type your code here2\n",
        "int(3.56789)"
      ],
      "execution_count": null,
      "outputs": [
        {
          "output_type": "execute_result",
          "data": {
            "text/plain": [
              "3"
            ]
          },
          "metadata": {
            "tags": []
          },
          "execution_count": 1
        }
      ]
    },
    {
      "cell_type": "code",
      "metadata": {
        "id": "PTXBrz4lYsUY",
        "colab_type": "code",
        "colab": {},
        "outputId": "57af2688-da09-4db4-a902-c638080a13f2"
      },
      "source": [
        "type(2020)"
      ],
      "execution_count": null,
      "outputs": [
        {
          "output_type": "execute_result",
          "data": {
            "text/plain": [
              "int"
            ]
          },
          "metadata": {
            "tags": []
          },
          "execution_count": 3
        }
      ]
    },
    {
      "cell_type": "code",
      "metadata": {
        "id": "lAJExx6WYsUf",
        "colab_type": "code",
        "colab": {},
        "outputId": "57dc5a59-31c4-44c2-ce36-44876fc693df"
      },
      "source": [
        "type('2020')"
      ],
      "execution_count": null,
      "outputs": [
        {
          "output_type": "execute_result",
          "data": {
            "text/plain": [
              "str"
            ]
          },
          "metadata": {
            "tags": []
          },
          "execution_count": 4
        }
      ]
    },
    {
      "cell_type": "code",
      "metadata": {
        "scrolled": true,
        "id": "TSKaFNkuYsUj",
        "colab_type": "code",
        "colab": {},
        "outputId": "1b68e131-0ce7-4233-8731-9b43d81a34b8"
      },
      "source": [
        "int('2020')"
      ],
      "execution_count": null,
      "outputs": [
        {
          "output_type": "execute_result",
          "data": {
            "text/plain": [
              "2020"
            ]
          },
          "metadata": {
            "tags": []
          },
          "execution_count": 5
        }
      ]
    },
    {
      "cell_type": "code",
      "metadata": {
        "id": "3fHObCj3YsUn",
        "colab_type": "code",
        "colab": {},
        "outputId": "10c6a3a9-145d-42d5-bc88-b0febfd89eba"
      },
      "source": [
        "float('2020.1245')"
      ],
      "execution_count": null,
      "outputs": [
        {
          "output_type": "execute_result",
          "data": {
            "text/plain": [
              "2020.1245"
            ]
          },
          "metadata": {
            "tags": []
          },
          "execution_count": 9
        }
      ]
    },
    {
      "cell_type": "code",
      "metadata": {
        "id": "f20e3qloYsUq",
        "colab_type": "code",
        "colab": {},
        "outputId": "4ac7eb18-0671-4df2-dc59-99abb2fe6027"
      },
      "source": [
        "int('C')"
      ],
      "execution_count": null,
      "outputs": [
        {
          "output_type": "error",
          "ename": "ValueError",
          "evalue": "invalid literal for int() with base 10: 'C'",
          "traceback": [
            "\u001b[1;31m---------------------------------------------------------------------------\u001b[0m",
            "\u001b[1;31mValueError\u001b[0m                                Traceback (most recent call last)",
            "\u001b[1;32m<ipython-input-11-973e9c1c232d>\u001b[0m in \u001b[0;36m<module>\u001b[1;34m\u001b[0m\n\u001b[1;32m----> 1\u001b[1;33m \u001b[0mint\u001b[0m\u001b[1;33m(\u001b[0m\u001b[1;34m'C'\u001b[0m\u001b[1;33m)\u001b[0m\u001b[1;33m\u001b[0m\u001b[1;33m\u001b[0m\u001b[0m\n\u001b[0m",
            "\u001b[1;31mValueError\u001b[0m: invalid literal for int() with base 10: 'C'"
          ]
        }
      ]
    },
    {
      "cell_type": "code",
      "metadata": {
        "id": "rW-agv2wYsUv",
        "colab_type": "code",
        "colab": {},
        "outputId": "43a03668-b43c-4b01-c8d8-ada4bece3695"
      },
      "source": [
        "int(float('2020.1245'))"
      ],
      "execution_count": null,
      "outputs": [
        {
          "output_type": "execute_result",
          "data": {
            "text/plain": [
              "2020"
            ]
          },
          "metadata": {
            "tags": []
          },
          "execution_count": 10
        }
      ]
    },
    {
      "cell_type": "code",
      "metadata": {
        "id": "-XQS5IjrYsU3",
        "colab_type": "code",
        "colab": {},
        "outputId": "c4edee27-597a-4c6a-c927-5c9677c69d98"
      },
      "source": [
        "int('Darshan')"
      ],
      "execution_count": null,
      "outputs": [
        {
          "output_type": "error",
          "ename": "ValueError",
          "evalue": "invalid literal for int() with base 10: 'Darshan'",
          "traceback": [
            "\u001b[1;31m---------------------------------------------------------------------------\u001b[0m",
            "\u001b[1;31mValueError\u001b[0m                                Traceback (most recent call last)",
            "\u001b[1;32m<ipython-input-6-7ddd474aaa7b>\u001b[0m in \u001b[0;36m<module>\u001b[1;34m\u001b[0m\n\u001b[1;32m----> 1\u001b[1;33m \u001b[0mint\u001b[0m\u001b[1;33m(\u001b[0m\u001b[1;34m'Darshan'\u001b[0m\u001b[1;33m)\u001b[0m\u001b[1;33m\u001b[0m\u001b[1;33m\u001b[0m\u001b[0m\n\u001b[0m",
            "\u001b[1;31mValueError\u001b[0m: invalid literal for int() with base 10: 'Darshan'"
          ]
        }
      ]
    },
    {
      "cell_type": "code",
      "metadata": {
        "id": "x9lZ1rvnYsU6",
        "colab_type": "code",
        "colab": {},
        "outputId": "5f9ea5d8-1480-41c0-a444-8825c193e71b"
      },
      "source": [
        "float(30)"
      ],
      "execution_count": null,
      "outputs": [
        {
          "output_type": "execute_result",
          "data": {
            "text/plain": [
              "30.0"
            ]
          },
          "metadata": {
            "tags": []
          },
          "execution_count": 2
        }
      ]
    },
    {
      "cell_type": "code",
      "metadata": {
        "id": "NxeC2WcXYsU_",
        "colab_type": "code",
        "colab": {}
      },
      "source": [
        "# type your code here2\n"
      ],
      "execution_count": null,
      "outputs": []
    },
    {
      "cell_type": "code",
      "metadata": {
        "id": "7J1EjTFVYsVB",
        "colab_type": "code",
        "colab": {}
      },
      "source": [
        "# type your code here1\n"
      ],
      "execution_count": null,
      "outputs": []
    },
    {
      "cell_type": "code",
      "metadata": {
        "id": "lKqT5pwEYsVE",
        "colab_type": "code",
        "colab": {},
        "outputId": "4cbcf9df-938c-47ac-dd25-b60b51779f41"
      },
      "source": [
        "# String/int to float\n",
        "# type your code here3\n",
        "float('12.868')"
      ],
      "execution_count": null,
      "outputs": [
        {
          "output_type": "execute_result",
          "data": {
            "text/plain": [
              "12.868"
            ]
          },
          "metadata": {
            "tags": []
          },
          "execution_count": 12
        }
      ]
    },
    {
      "cell_type": "markdown",
      "metadata": {
        "id": "ZWVvLn-7YsVH",
        "colab_type": "text"
      },
      "source": [
        "__Homework:__\n",
        "\n",
        "As you can see I have Autocomplete feature in my NB. The NB suggests code for me.\n",
        "Implement the same in your Jupyter NB.\n",
        "\n",
        "__Hint: Use \"Hinterland\", use NBExtensions__"
      ]
    },
    {
      "cell_type": "code",
      "metadata": {
        "id": "NSezI15DYsVI",
        "colab_type": "code",
        "colab": {}
      },
      "source": [
        "# type your code here2\n"
      ],
      "execution_count": null,
      "outputs": []
    },
    {
      "cell_type": "markdown",
      "metadata": {
        "id": "cJNTmDz8YsVL",
        "colab_type": "raw"
      },
      "source": [
        "# int, float, list, tuple, dictionary to string\n",
        "Note: [] is for list\n",
        "() is for tuple\n",
        "str(3.122)"
      ]
    },
    {
      "cell_type": "code",
      "metadata": {
        "id": "Cl_FBSxFYsVL",
        "colab_type": "code",
        "colab": {},
        "outputId": "524d014b-3a7a-4fe1-f6f0-edcbcd8c5cf3"
      },
      "source": [
        "# type your code here6\n",
        "l= [1,33,43.21,\"Darshan\", 3+4j]\n",
        "print(l)\n",
        "print(type(l))"
      ],
      "execution_count": null,
      "outputs": [
        {
          "output_type": "stream",
          "text": [
            "[1, 33, 43.21, 'Darshan', (3+4j)]\n",
            "<class 'list'>\n"
          ],
          "name": "stdout"
        }
      ]
    },
    {
      "cell_type": "code",
      "metadata": {
        "id": "FgCPPx2rYsVP",
        "colab_type": "code",
        "colab": {},
        "outputId": "c8568bd1-71a4-46e0-f2de-ac639066c174"
      },
      "source": [
        "l= (1,33,43.21,\"Darshan\", 3+4j)\n",
        "print(l)\n",
        "print(type(l))"
      ],
      "execution_count": null,
      "outputs": [
        {
          "output_type": "stream",
          "text": [
            "(1, 33, 43.21, 'Darshan', (3+4j))\n",
            "<class 'tuple'>\n"
          ],
          "name": "stdout"
        }
      ]
    },
    {
      "cell_type": "code",
      "metadata": {
        "id": "zGlFFe50YsVS",
        "colab_type": "code",
        "colab": {},
        "outputId": "04d8dbad-cece-43fd-c993-a3e267639991"
      },
      "source": [
        "# string, tuple, dict to list\n",
        "# type your code here7\n",
        "str(12.674)"
      ],
      "execution_count": null,
      "outputs": [
        {
          "output_type": "execute_result",
          "data": {
            "text/plain": [
              "'12.674'"
            ]
          },
          "metadata": {
            "tags": []
          },
          "execution_count": 17
        }
      ]
    },
    {
      "cell_type": "code",
      "metadata": {
        "id": "6XTGve5aYsVV",
        "colab_type": "code",
        "colab": {},
        "outputId": "791f2330-2362-4b59-e75e-66fdd139f093"
      },
      "source": [
        "str(122)"
      ],
      "execution_count": null,
      "outputs": [
        {
          "output_type": "execute_result",
          "data": {
            "text/plain": [
              "'122'"
            ]
          },
          "metadata": {
            "tags": []
          },
          "execution_count": 18
        }
      ]
    },
    {
      "cell_type": "code",
      "metadata": {
        "id": "GkBIWKHZYsVX",
        "colab_type": "code",
        "colab": {},
        "outputId": "7b9d3a67-5c1f-474d-d6ca-7ea627f04ad9"
      },
      "source": [
        "str([1,33,43.21,\"Darshan\", 3+4j])"
      ],
      "execution_count": null,
      "outputs": [
        {
          "output_type": "execute_result",
          "data": {
            "text/plain": [
              "\"[1, 33, 43.21, 'Darshan', (3+4j)]\""
            ]
          },
          "metadata": {
            "tags": []
          },
          "execution_count": 19
        }
      ]
    },
    {
      "cell_type": "code",
      "metadata": {
        "id": "6WJ8krNXYsVb",
        "colab_type": "code",
        "colab": {},
        "outputId": "7e808ea6-9d44-4f42-c000-34901b742fc4"
      },
      "source": [
        "str((1,33,43.21,\"Darshan\", 3+4j))"
      ],
      "execution_count": null,
      "outputs": [
        {
          "output_type": "execute_result",
          "data": {
            "text/plain": [
              "\"(1, 33, 43.21, 'Darshan', (3+4j))\""
            ]
          },
          "metadata": {
            "tags": []
          },
          "execution_count": 20
        }
      ]
    },
    {
      "cell_type": "code",
      "metadata": {
        "id": "v7d5NfgbYsVg",
        "colab_type": "code",
        "colab": {},
        "outputId": "27818a3a-4981-47b4-fee2-fe297ef9aea8"
      },
      "source": [
        "# type your code here8\n",
        "list(\"Darshan\")"
      ],
      "execution_count": null,
      "outputs": [
        {
          "output_type": "execute_result",
          "data": {
            "text/plain": [
              "['D', 'a', 'r', 's', 'h', 'a', 'n']"
            ]
          },
          "metadata": {
            "tags": []
          },
          "execution_count": 21
        }
      ]
    },
    {
      "cell_type": "code",
      "metadata": {
        "id": "bT8A1GVmYsVj",
        "colab_type": "code",
        "colab": {},
        "outputId": "dca0dc58-b966-410a-e3da-70420bcbae1a"
      },
      "source": [
        "tuple(\"Darshan\")"
      ],
      "execution_count": null,
      "outputs": [
        {
          "output_type": "execute_result",
          "data": {
            "text/plain": [
              "('D', 'a', 'r', 's', 'h', 'a', 'n')"
            ]
          },
          "metadata": {
            "tags": []
          },
          "execution_count": 22
        }
      ]
    },
    {
      "cell_type": "code",
      "metadata": {
        "id": "Z-YnnPU4YsVm",
        "colab_type": "code",
        "colab": {},
        "outputId": "5694d7ce-4a41-4665-cf0e-9a3e6bd25424"
      },
      "source": [
        "# type your code here1-5\n",
        "# tuple in list\n",
        "list((1,33,43.21,\"Darshan\", 3+4j))"
      ],
      "execution_count": null,
      "outputs": [
        {
          "output_type": "execute_result",
          "data": {
            "text/plain": [
              "[1, 33, 43.21, 'Darshan', (3+4j)]"
            ]
          },
          "metadata": {
            "tags": []
          },
          "execution_count": 23
        }
      ]
    },
    {
      "cell_type": "code",
      "metadata": {
        "id": "JR-TdOt_YsVo",
        "colab_type": "code",
        "colab": {},
        "outputId": "e703bff9-3825-4d89-ddfe-96f59ac24ed1"
      },
      "source": [
        "# type your code here11\n",
        "tup = (10,12,15,20)\n",
        "list(tup)"
      ],
      "execution_count": null,
      "outputs": [
        {
          "output_type": "execute_result",
          "data": {
            "text/plain": [
              "[10, 12, 15, 20]"
            ]
          },
          "metadata": {
            "tags": []
          },
          "execution_count": 24
        }
      ]
    },
    {
      "cell_type": "markdown",
      "metadata": {
        "id": "jfmDQoB0YsVs",
        "colab_type": "text"
      },
      "source": [
        "Operators\n",
        "--\n",
        "\n",
        ">Arithmetic: + - * / %\n",
        ">// Floor Division\n",
        ">** exponentiation\n",
        "\n",
        ">Relational: < <= > >= != ==\n",
        "\n",
        ">Logical: and or not\n",
        "\n",
        ">Bitwise: & | ^ ~ << >>\n",
        "\n",
        ">Membership: in, not in\n",
        "\n",
        ">Identity: is,is not"
      ]
    },
    {
      "cell_type": "code",
      "metadata": {
        "id": "ohtoRvMnYsVs",
        "colab_type": "code",
        "colab": {},
        "outputId": "222659a4-3e9c-44d7-ec38-221cffb8fa82"
      },
      "source": [
        "# type your code here3\n",
        "5%2"
      ],
      "execution_count": null,
      "outputs": [
        {
          "output_type": "execute_result",
          "data": {
            "text/plain": [
              "1"
            ]
          },
          "metadata": {
            "tags": []
          },
          "execution_count": 25
        }
      ]
    },
    {
      "cell_type": "code",
      "metadata": {
        "id": "-2Fv24-NYsVx",
        "colab_type": "code",
        "colab": {},
        "outputId": "64a23fee-7658-4c30-c8ac-cf11bcc94ea2"
      },
      "source": [
        "5//2"
      ],
      "execution_count": null,
      "outputs": [
        {
          "output_type": "execute_result",
          "data": {
            "text/plain": [
              "2"
            ]
          },
          "metadata": {
            "tags": []
          },
          "execution_count": 27
        }
      ]
    },
    {
      "cell_type": "code",
      "metadata": {
        "id": "F3SjkyosYsVz",
        "colab_type": "code",
        "colab": {},
        "outputId": "e69e8762-d3ed-4bda-b3c8-b8477c6bd43b"
      },
      "source": [
        "5/2"
      ],
      "execution_count": null,
      "outputs": [
        {
          "output_type": "execute_result",
          "data": {
            "text/plain": [
              "2.5"
            ]
          },
          "metadata": {
            "tags": []
          },
          "execution_count": 26
        }
      ]
    },
    {
      "cell_type": "code",
      "metadata": {
        "id": "vZsJngAlYsV2",
        "colab_type": "code",
        "colab": {},
        "outputId": "57a9ffaa-7e15-42d7-e96e-5292004c9225"
      },
      "source": [
        "# type your code here9\n",
        "# 5>2\n",
        "# 2>89\n",
        "# 3>=3\n",
        "# 3==3\n",
        "# 3!=3\n",
        "4!=98"
      ],
      "execution_count": null,
      "outputs": [
        {
          "output_type": "execute_result",
          "data": {
            "text/plain": [
              "True"
            ]
          },
          "metadata": {
            "tags": []
          },
          "execution_count": 37
        }
      ]
    },
    {
      "cell_type": "code",
      "metadata": {
        "id": "fDHdpDFEYsV5",
        "colab_type": "code",
        "colab": {},
        "outputId": "72117e68-7b04-42a4-f98c-6d2aa2e5c290"
      },
      "source": [
        "# type your code here3\n",
        "\n",
        "3>1 and 5>2"
      ],
      "execution_count": null,
      "outputs": [
        {
          "output_type": "execute_result",
          "data": {
            "text/plain": [
              "True"
            ]
          },
          "metadata": {
            "tags": []
          },
          "execution_count": 39
        }
      ]
    },
    {
      "cell_type": "code",
      "metadata": {
        "id": "N8jvfkp3YsV8",
        "colab_type": "code",
        "colab": {},
        "outputId": "b1913e97-da91-46b1-889a-171f4c499dfd"
      },
      "source": [
        "3>1 and 5<2"
      ],
      "execution_count": null,
      "outputs": [
        {
          "output_type": "execute_result",
          "data": {
            "text/plain": [
              "False"
            ]
          },
          "metadata": {
            "tags": []
          },
          "execution_count": 40
        }
      ]
    },
    {
      "cell_type": "code",
      "metadata": {
        "scrolled": true,
        "id": "pkp_9jRpYsV_",
        "colab_type": "code",
        "colab": {},
        "outputId": "b1dc2afb-f794-41da-a149-85039fab8146"
      },
      "source": [
        "3<1 or 5>2"
      ],
      "execution_count": null,
      "outputs": [
        {
          "output_type": "execute_result",
          "data": {
            "text/plain": [
              "True"
            ]
          },
          "metadata": {
            "tags": []
          },
          "execution_count": 41
        }
      ]
    },
    {
      "cell_type": "code",
      "metadata": {
        "id": "n41QamB_YsWE",
        "colab_type": "code",
        "colab": {},
        "outputId": "1bdea148-0a6c-414e-9849-d81105bc55f1"
      },
      "source": [
        "# not(True)\n",
        "not(False)"
      ],
      "execution_count": null,
      "outputs": [
        {
          "output_type": "execute_result",
          "data": {
            "text/plain": [
              "True"
            ]
          },
          "metadata": {
            "tags": []
          },
          "execution_count": 44
        }
      ]
    },
    {
      "cell_type": "code",
      "metadata": {
        "id": "C1tQR7krYsWG",
        "colab_type": "code",
        "colab": {},
        "outputId": "78a7379e-9a96-4d5d-abb7-52854bb327ea"
      },
      "source": [
        "not(3<1 or 5>2)"
      ],
      "execution_count": null,
      "outputs": [
        {
          "output_type": "execute_result",
          "data": {
            "text/plain": [
              "False"
            ]
          },
          "metadata": {
            "tags": []
          },
          "execution_count": 42
        }
      ]
    },
    {
      "cell_type": "code",
      "metadata": {
        "id": "EcM2j-UmYsWJ",
        "colab_type": "code",
        "colab": {},
        "outputId": "91a0bade-36ee-412f-abd5-ef62d5f32cb4"
      },
      "source": [
        "# type your code here19\n",
        "s = 2\n",
        "t = 4\n",
        "print(s&t)"
      ],
      "execution_count": null,
      "outputs": [
        {
          "output_type": "stream",
          "text": [
            "0\n"
          ],
          "name": "stdout"
        }
      ]
    },
    {
      "cell_type": "code",
      "metadata": {
        "id": "R5UsFUiCYsWL",
        "colab_type": "code",
        "colab": {},
        "outputId": "d4c01b91-9db8-42a8-830e-5b6b6bf5036e"
      },
      "source": [
        "s = 2\n",
        "t = 4\n",
        "print(s|t)"
      ],
      "execution_count": null,
      "outputs": [
        {
          "output_type": "stream",
          "text": [
            "6\n"
          ],
          "name": "stdout"
        }
      ]
    },
    {
      "cell_type": "code",
      "metadata": {
        "id": "eKWQ-fYZYsWN",
        "colab_type": "code",
        "colab": {},
        "outputId": "1753edf6-57c8-44a0-8d51-6c68366fbdad"
      },
      "source": [
        "x=2\n",
        "print(x<<1)\n",
        "print(x<<1)\n",
        "print(x<<4)"
      ],
      "execution_count": null,
      "outputs": [
        {
          "output_type": "stream",
          "text": [
            "4\n",
            "4\n",
            "32\n"
          ],
          "name": "stdout"
        }
      ]
    },
    {
      "cell_type": "code",
      "metadata": {
        "id": "SThGmjZtYsWR",
        "colab_type": "code",
        "colab": {},
        "outputId": "6ac3d8da-6ca8-4b0f-9311-aef62211b43d"
      },
      "source": [
        "# type your code here2.0\n",
        "\n",
        "# Membership: in, not in\n",
        "l = [1,2,3,4,6,5,\"Darshan\"]\n",
        "6 in l"
      ],
      "execution_count": null,
      "outputs": [
        {
          "output_type": "execute_result",
          "data": {
            "text/plain": [
              "True"
            ]
          },
          "metadata": {
            "tags": []
          },
          "execution_count": 50
        }
      ]
    },
    {
      "cell_type": "code",
      "metadata": {
        "id": "v1ysWaddYsWW",
        "colab_type": "code",
        "colab": {},
        "outputId": "be9f6fbb-fcd4-4b4c-c6d5-3efec99b4fff"
      },
      "source": [
        "100 in l"
      ],
      "execution_count": null,
      "outputs": [
        {
          "output_type": "execute_result",
          "data": {
            "text/plain": [
              "False"
            ]
          },
          "metadata": {
            "tags": []
          },
          "execution_count": 51
        }
      ]
    },
    {
      "cell_type": "code",
      "metadata": {
        "id": "Z29D0ZLUYsWZ",
        "colab_type": "code",
        "colab": {},
        "outputId": "e0b629b5-9412-4ee4-dd8f-e7993039a924"
      },
      "source": [
        "# \"darshan\" in l\n",
        "\"Darshan\" in l"
      ],
      "execution_count": null,
      "outputs": [
        {
          "output_type": "execute_result",
          "data": {
            "text/plain": [
              "True"
            ]
          },
          "metadata": {
            "tags": []
          },
          "execution_count": 53
        }
      ]
    },
    {
      "cell_type": "code",
      "metadata": {
        "id": "ucHW6tcmYsWd",
        "colab_type": "code",
        "colab": {},
        "outputId": "84dff55d-e2a4-4bba-816b-2cfa09aa4188"
      },
      "source": [
        "577 not in l"
      ],
      "execution_count": null,
      "outputs": [
        {
          "output_type": "execute_result",
          "data": {
            "text/plain": [
              "True"
            ]
          },
          "metadata": {
            "tags": []
          },
          "execution_count": 55
        }
      ]
    },
    {
      "cell_type": "code",
      "metadata": {
        "id": "bHdzIc7MYsWi",
        "colab_type": "code",
        "colab": {},
        "outputId": "11af04ed-8a11-48e9-a39a-bec76a596a3a"
      },
      "source": [
        "\"darshan\" not in l"
      ],
      "execution_count": null,
      "outputs": [
        {
          "output_type": "execute_result",
          "data": {
            "text/plain": [
              "True"
            ]
          },
          "metadata": {
            "tags": []
          },
          "execution_count": 54
        }
      ]
    },
    {
      "cell_type": "code",
      "metadata": {
        "id": "1lzNMtzWYsWo",
        "colab_type": "code",
        "colab": {},
        "outputId": "fe9db292-9f29-4038-9cbe-8ca313251376"
      },
      "source": [
        "\"r\" in \"Darshan\""
      ],
      "execution_count": null,
      "outputs": [
        {
          "output_type": "execute_result",
          "data": {
            "text/plain": [
              "True"
            ]
          },
          "metadata": {
            "tags": []
          },
          "execution_count": 56
        }
      ]
    },
    {
      "cell_type": "code",
      "metadata": {
        "id": "Zhba6_cfYsWt",
        "colab_type": "code",
        "colab": {},
        "outputId": "07bf363e-04e4-4842-844f-ba6146e72b3e"
      },
      "source": [
        "\"x\" in \"Darshan\""
      ],
      "execution_count": null,
      "outputs": [
        {
          "output_type": "execute_result",
          "data": {
            "text/plain": [
              "False"
            ]
          },
          "metadata": {
            "tags": []
          },
          "execution_count": 57
        }
      ]
    },
    {
      "cell_type": "code",
      "metadata": {
        "id": "jAhKgBGsYsWy",
        "colab_type": "code",
        "colab": {}
      },
      "source": [
        "# type your code here21\n"
      ],
      "execution_count": null,
      "outputs": []
    },
    {
      "cell_type": "code",
      "metadata": {
        "id": "ngLifqP5YsW2",
        "colab_type": "code",
        "colab": {}
      },
      "source": [
        "# type your code here22\n"
      ],
      "execution_count": null,
      "outputs": []
    },
    {
      "cell_type": "code",
      "metadata": {
        "id": "58qEyJ-zYsW6",
        "colab_type": "code",
        "colab": {},
        "outputId": "0c9a3f52-7ddc-4c22-8e33-5d443fb58d1d"
      },
      "source": [
        "# type your code here2/3\n",
        "x = 4\n",
        "y = 4\n",
        "# x is y\n",
        "\n",
        "x is not y"
      ],
      "execution_count": null,
      "outputs": [
        {
          "output_type": "execute_result",
          "data": {
            "text/plain": [
              "False"
            ]
          },
          "metadata": {
            "tags": []
          },
          "execution_count": 60
        }
      ]
    },
    {
      "cell_type": "code",
      "metadata": {
        "id": "QwrOAh4GYsXA",
        "colab_type": "code",
        "colab": {}
      },
      "source": [
        "2.4\n"
      ],
      "execution_count": null,
      "outputs": []
    },
    {
      "cell_type": "code",
      "metadata": {
        "id": "cypY7yUKYsXF",
        "colab_type": "code",
        "colab": {}
      },
      "source": [
        "# type your code here2.5\n"
      ],
      "execution_count": null,
      "outputs": []
    },
    {
      "cell_type": "code",
      "metadata": {
        "id": "7aTBxBRbYsXH",
        "colab_type": "code",
        "colab": {},
        "outputId": "08f56ce7-8e0e-432e-b411-9d96f6b9edac"
      },
      "source": [
        "l = [10,20,30,40,50,60]\n",
        "print(l)\n",
        "print(l[0])\n",
        "print(l[5])\n",
        "# print(l[55]) "
      ],
      "execution_count": null,
      "outputs": [
        {
          "output_type": "stream",
          "text": [
            "[10, 20, 30, 40, 50, 60]\n",
            "10\n",
            "60\n"
          ],
          "name": "stdout"
        }
      ]
    },
    {
      "cell_type": "markdown",
      "metadata": {
        "id": "eav4LFyrYsXJ",
        "colab_type": "text"
      },
      "source": [
        "Looping Statements:\n",
        "    --"
      ]
    },
    {
      "cell_type": "code",
      "metadata": {
        "id": "gH3xgdyXYsXK",
        "colab_type": "code",
        "colab": {},
        "outputId": "4827e86f-c4b6-4620-ecdd-87905334c2ea"
      },
      "source": [
        "# type your code here4-4\n",
        "l = [10,20,30,40,50,60]\n",
        "for i in l:\n",
        "    print(i)"
      ],
      "execution_count": null,
      "outputs": [
        {
          "output_type": "stream",
          "text": [
            "10\n",
            "20\n",
            "30\n",
            "40\n",
            "50\n",
            "60\n"
          ],
          "name": "stdout"
        }
      ]
    },
    {
      "cell_type": "code",
      "metadata": {
        "id": "bD3ijxINYsXM",
        "colab_type": "code",
        "colab": {},
        "outputId": "81475df3-cf7b-4864-da40-1582f3822e7b"
      },
      "source": [
        "l = [10,11,12,13,14,15,16,17,18,19,20]\n",
        "for i in l:\n",
        "    if i%2==0:\n",
        "        print(i,\" is even number\")\n",
        "    else:\n",
        "        print(i,\" is odd number\")"
      ],
      "execution_count": null,
      "outputs": [
        {
          "output_type": "stream",
          "text": [
            "10  is even number\n",
            "11  is odd number\n",
            "12  is even number\n",
            "13  is odd number\n",
            "14  is even number\n",
            "15  is odd number\n",
            "16  is even number\n",
            "17  is odd number\n",
            "18  is even number\n",
            "19  is odd number\n",
            "20  is even number\n"
          ],
          "name": "stdout"
        }
      ]
    },
    {
      "cell_type": "code",
      "metadata": {
        "id": "qVrLtbwhYsXO",
        "colab_type": "code",
        "colab": {},
        "outputId": "69b8b0e6-b597-4a96-8f4a-9c50340afbfe"
      },
      "source": [
        "# type your code here4-5\n",
        "name = [\"Darshan\", \"Lets Upgrade\", \"Smart Students\", \"Learners\", 1999, 2020]\n",
        "for dell in name:\n",
        "    print(dell)"
      ],
      "execution_count": null,
      "outputs": [
        {
          "output_type": "stream",
          "text": [
            "Darshan\n",
            "Lets Upgrade\n",
            "Smart Students\n",
            "Learners\n",
            "1999\n",
            "2020\n"
          ],
          "name": "stdout"
        }
      ]
    },
    {
      "cell_type": "code",
      "metadata": {
        "id": "FfX8pROCYsXV",
        "colab_type": "code",
        "colab": {}
      },
      "source": [
        "# type your code here4-6\n",
        "\n",
        "\n"
      ],
      "execution_count": null,
      "outputs": []
    },
    {
      "cell_type": "markdown",
      "metadata": {
        "id": "723DbN-RYsXd",
        "colab_type": "text"
      },
      "source": [
        "range function:\n",
        "--\n",
        "\n",
        ">range(5): It goes from 0 to 4 to generate a sequence of numbers\n",
        "\n",
        ">range(start, stop, stepsize): Default stepsize is 1"
      ]
    },
    {
      "cell_type": "code",
      "metadata": {
        "id": "Ha29mWhfYsXe",
        "colab_type": "code",
        "colab": {},
        "outputId": "69c5b2b1-2245-48a2-b7c7-d660ebe990e8"
      },
      "source": [
        "range(5)"
      ],
      "execution_count": null,
      "outputs": [
        {
          "output_type": "execute_result",
          "data": {
            "text/plain": [
              "range(0, 5)"
            ]
          },
          "metadata": {
            "tags": []
          },
          "execution_count": 1
        }
      ]
    },
    {
      "cell_type": "code",
      "metadata": {
        "id": "SBzmvORVYsXj",
        "colab_type": "code",
        "colab": {},
        "outputId": "8e754ff4-1fb2-456d-af51-3f3d57ac0e07"
      },
      "source": [
        "# type your code here1*3\n",
        "for i in range(5):\n",
        "    print(i)"
      ],
      "execution_count": null,
      "outputs": [
        {
          "output_type": "stream",
          "text": [
            "0\n",
            "1\n",
            "2\n",
            "3\n",
            "4\n"
          ],
          "name": "stdout"
        }
      ]
    },
    {
      "cell_type": "code",
      "metadata": {
        "id": "nfLSu0zEYsXp",
        "colab_type": "code",
        "colab": {},
        "outputId": "4944ea70-d493-4281-b950-9343f2401d4b"
      },
      "source": [
        "for i in range(2,5):\n",
        "    print(i)"
      ],
      "execution_count": null,
      "outputs": [
        {
          "output_type": "stream",
          "text": [
            "2\n",
            "3\n",
            "4\n"
          ],
          "name": "stdout"
        }
      ]
    },
    {
      "cell_type": "code",
      "metadata": {
        "id": "xRLVEjhaYsXw",
        "colab_type": "code",
        "colab": {},
        "outputId": "75e97fcc-753d-4e5a-d749-5353c1f5c544"
      },
      "source": [
        "for i in range(2,10,2):\n",
        "    print(i)"
      ],
      "execution_count": null,
      "outputs": [
        {
          "output_type": "stream",
          "text": [
            "2\n",
            "4\n",
            "6\n",
            "8\n"
          ],
          "name": "stdout"
        }
      ]
    },
    {
      "cell_type": "code",
      "metadata": {
        "id": "olRGwfr8YsX_",
        "colab_type": "code",
        "colab": {}
      },
      "source": [
        "for i in range(2,10,3):\n",
        "    print(i)"
      ],
      "execution_count": null,
      "outputs": []
    },
    {
      "cell_type": "code",
      "metadata": {
        "id": "U0HGu576YsYD",
        "colab_type": "code",
        "colab": {},
        "outputId": "a0e42f3b-b18e-43dd-b8ca-7d27f9d8b83f"
      },
      "source": [
        "# Program to display sum of numbers\n",
        "# type your code here1.9\n",
        "\n",
        "sum = 0\n",
        "for i in range(5):\n",
        "    sum = sum + i\n",
        "print(\"Sum=\",sum)"
      ],
      "execution_count": null,
      "outputs": [
        {
          "output_type": "stream",
          "text": [
            "Sum= 10\n"
          ],
          "name": "stdout"
        }
      ]
    },
    {
      "cell_type": "code",
      "metadata": {
        "id": "cTMX2h86YsYH",
        "colab_type": "code",
        "colab": {}
      },
      "source": [
        "# Program to display even numbers in given range\n",
        "# type your code here\n",
        "\n",
        "\n"
      ],
      "execution_count": null,
      "outputs": []
    },
    {
      "cell_type": "code",
      "metadata": {
        "scrolled": false,
        "id": "dlElMhEDYsYM",
        "colab_type": "code",
        "colab": {},
        "outputId": "7fd6290c-4ff9-45ba-a267-e8de868dcce0"
      },
      "source": [
        "# while\n",
        "# type your code here4-7\n",
        "i = 1\n",
        "while i<=5:\n",
        "    print(i)\n",
        "    i = i+1 # i++ is not supported in Python\n"
      ],
      "execution_count": null,
      "outputs": [
        {
          "output_type": "stream",
          "text": [
            "1\n",
            "3\n",
            "5\n"
          ],
          "name": "stdout"
        }
      ]
    },
    {
      "cell_type": "code",
      "metadata": {
        "id": "UIXOY3CQYsYO",
        "colab_type": "code",
        "colab": {},
        "outputId": "208ebf17-215f-4b23-e860-4e88c8bf78a3"
      },
      "source": [
        "i = 10\n",
        "while i>=0:\n",
        "    print(i,end=\"\\t\")\n",
        "    i = i-2 # i++ is not supported in Python"
      ],
      "execution_count": null,
      "outputs": [
        {
          "output_type": "stream",
          "text": [
            "10\t8\t6\t4\t2\t0\t"
          ],
          "name": "stdout"
        }
      ]
    },
    {
      "cell_type": "code",
      "metadata": {
        "id": "QFpqomdOYsYQ",
        "colab_type": "code",
        "colab": {},
        "outputId": "d3e6c156-1069-4ec0-eca3-4c58a96154b5"
      },
      "source": [
        "# type your code here5--/2\n",
        "name = \" Darshan\"\n",
        "i = 0\n",
        "while i<=7:\n",
        "    d = name[i]\n",
        "    print(d)\n",
        "    i = i+1"
      ],
      "execution_count": null,
      "outputs": [
        {
          "output_type": "stream",
          "text": [
            " \n",
            "D\n",
            "a\n",
            "r\n",
            "s\n",
            "h\n",
            "a\n",
            "n\n"
          ],
          "name": "stdout"
        }
      ]
    },
    {
      "cell_type": "code",
      "metadata": {
        "id": "VZ9tXjdOYsYS",
        "colab_type": "code",
        "colab": {},
        "outputId": "8ea093fc-50cc-4ccc-cb4e-425abef182cd"
      },
      "source": [
        "# type your code here2+0\n",
        "for i in range(5):\n",
        "    for j in range(i):\n",
        "        print(\"*\", end=\" \")\n",
        "    print(\"\\n\")"
      ],
      "execution_count": null,
      "outputs": [
        {
          "output_type": "stream",
          "text": [
            "\n",
            "\n",
            "* \n",
            "\n",
            "* * \n",
            "\n",
            "* * * \n",
            "\n",
            "* * * * \n",
            "\n"
          ],
          "name": "stdout"
        }
      ]
    },
    {
      "cell_type": "markdown",
      "metadata": {
        "id": "e-c9czToYsYU",
        "colab_type": "text"
      },
      "source": [
        "Conditional execution\n",
        "--"
      ]
    },
    {
      "cell_type": "code",
      "metadata": {
        "id": "G95sxCYeYsYV",
        "colab_type": "code",
        "colab": {},
        "outputId": "47382b9f-7d89-40c7-eaac-759d9f70bf68"
      },
      "source": [
        "# type your code here 31\n",
        "x = 3\n",
        "if x==3:\n",
        "    print(\"Hi. Condition met\")\n",
        "    print(\"Lets upgrade\")\n",
        "    print(\"I am happy\")"
      ],
      "execution_count": null,
      "outputs": [
        {
          "output_type": "stream",
          "text": [
            "Hi. Condition met\n",
            "Lets upgrade\n",
            "I am happy\n"
          ],
          "name": "stdout"
        }
      ]
    },
    {
      "cell_type": "code",
      "metadata": {
        "id": "mPayrYKhYsYZ",
        "colab_type": "code",
        "colab": {},
        "outputId": "9628e3a8-3bc4-4b57-caca-e36be9a78918"
      },
      "source": [
        "# type your code here 31\n",
        "x = 3\n",
        "if x==3:\n",
        "    print(\"Hi. Condition met\")\n",
        "    print(\"Lets upgrade\")\n",
        "print(\"I am happy\")"
      ],
      "execution_count": null,
      "outputs": [
        {
          "output_type": "stream",
          "text": [
            "Hi. Condition met\n",
            "Lets upgrade\n",
            "I am happy\n"
          ],
          "name": "stdout"
        }
      ]
    },
    {
      "cell_type": "code",
      "metadata": {
        "id": "RkAiUp6fYsYd",
        "colab_type": "code",
        "colab": {}
      },
      "source": [
        "x = 99\n",
        "if x==3:\n",
        "    print(\"Hi. Condition met\")\n",
        "    print(\"Lets upgrade\")\n",
        "    print(\"I am happy\")"
      ],
      "execution_count": null,
      "outputs": []
    },
    {
      "cell_type": "code",
      "metadata": {
        "id": "MUEjr9L5YsYf",
        "colab_type": "code",
        "colab": {},
        "outputId": "c20dd0ed-a7ad-4a2e-9bd0-f0a24792f7c3"
      },
      "source": [
        "x = 99\n",
        "if x==3:\n",
        "    print(\"Hi. Condition met\")\n",
        "    print(\"Lets upgrade\")\n",
        "print(\"I am happy\")"
      ],
      "execution_count": null,
      "outputs": [
        {
          "output_type": "stream",
          "text": [
            "I am happy\n"
          ],
          "name": "stdout"
        }
      ]
    },
    {
      "cell_type": "code",
      "metadata": {
        "id": "7lmYThuVYsYh",
        "colab_type": "code",
        "colab": {},
        "outputId": "54383b5a-91ed-4445-a07e-c18e9b4c9600"
      },
      "source": [
        "x = 99\n",
        "if x > 3:\n",
        "    print(\"Hi. Condition met\")\n",
        "    print(\"Lets upgrade\")\n",
        "print(\"I am happy\")"
      ],
      "execution_count": null,
      "outputs": [
        {
          "output_type": "stream",
          "text": [
            "Hi. Condition met\n",
            "Lets upgrade\n",
            "I am happy\n"
          ],
          "name": "stdout"
        }
      ]
    },
    {
      "cell_type": "code",
      "metadata": {
        "id": "PjN5aDjmYsYj",
        "colab_type": "code",
        "colab": {},
        "outputId": "a971f1be-e801-43be-c406-b791babaff0c"
      },
      "source": [
        "x = 0\n",
        "if x == 50:\n",
        "    print(\"Party\")\n",
        "elif x>50:\n",
        "    print(\"Movie\")\n",
        "    print(\"Hi\")\n",
        "elif x<50:\n",
        "    print(\"Sit Chup chap at home\")"
      ],
      "execution_count": null,
      "outputs": [
        {
          "output_type": "stream",
          "text": [
            "Sit Chup chap at home\n"
          ],
          "name": "stdout"
        }
      ]
    },
    {
      "cell_type": "code",
      "metadata": {
        "id": "5mC_hQsDYsYn",
        "colab_type": "code",
        "colab": {},
        "outputId": "a15254af-3a94-4c9f-cfac-84fb99eacda3"
      },
      "source": [
        "# WAP to check if the input no is even or odd\n",
        "# type your code here3/3\n",
        "no = 33\n",
        "if no%2==0:\n",
        "    print(no, \" is Even\")\n",
        "else:\n",
        "    print(no, \" is Odd\")\n",
        "\n"
      ],
      "execution_count": null,
      "outputs": [
        {
          "output_type": "stream",
          "text": [
            "33  is Odd\n"
          ],
          "name": "stdout"
        }
      ]
    },
    {
      "cell_type": "code",
      "metadata": {
        "id": "V0BxgOFXYsYq",
        "colab_type": "code",
        "colab": {}
      },
      "source": [
        "# type your code here34\n",
        "\n",
        "\n"
      ],
      "execution_count": null,
      "outputs": []
    },
    {
      "cell_type": "code",
      "metadata": {
        "id": "HUsHIUgDYsYt",
        "colab_type": "code",
        "colab": {}
      },
      "source": [
        "# if statement\n",
        "# type your code here3.5\n",
        "\n",
        "\n"
      ],
      "execution_count": null,
      "outputs": []
    },
    {
      "cell_type": "code",
      "metadata": {
        "id": "5OTDX9DHYsYw",
        "colab_type": "code",
        "colab": {},
        "outputId": "eab97a3d-90f6-4ea5-9244-d16e26e50c67"
      },
      "source": [
        "# type your code here3+9\n",
        "a = 10\n",
        "if a==10:\n",
        "    print(\"a is 10\")\n",
        "elif a==15:\n",
        "    print(\"a is 15\")\n",
        "elif a==17:\n",
        "    print(\"a is 17\")\n",
        "elif a==20:\n",
        "    print(\"a is 20\")\n",
        "else:\n",
        "    print(\"a is unknown\")"
      ],
      "execution_count": null,
      "outputs": [
        {
          "output_type": "stream",
          "text": [
            "a is 10\n"
          ],
          "name": "stdout"
        }
      ]
    },
    {
      "cell_type": "code",
      "metadata": {
        "id": "nGZLzW-EYsY0",
        "colab_type": "code",
        "colab": {}
      },
      "source": [
        "# Chained Conditionals\n",
        "# type your code here4.0\n",
        "\n",
        "\n"
      ],
      "execution_count": null,
      "outputs": []
    },
    {
      "cell_type": "code",
      "metadata": {
        "id": "lbBQjGZXYsY3",
        "colab_type": "code",
        "colab": {},
        "outputId": "7fee8c94-0b73-42d1-d951-9397dd6eb0b7"
      },
      "source": [
        "# Nested Conditionals\n",
        "# type your code here4*1\n",
        "x = 35\n",
        "if x > 35:\n",
        "    print(x,\" is greater than 35\")\n",
        "else:\n",
        "    if x<35:\n",
        "        print(x,\" is less than 35\")\n",
        "    else:\n",
        "        print(x,\" is equal than 35\")\n",
        "\n"
      ],
      "execution_count": null,
      "outputs": [
        {
          "output_type": "stream",
          "text": [
            "35  is equal than 35\n"
          ],
          "name": "stdout"
        }
      ]
    },
    {
      "cell_type": "code",
      "metadata": {
        "id": "uinT__KCYsY7",
        "colab_type": "code",
        "colab": {}
      },
      "source": [
        "# Nested Conditionals\n",
        "# type your code here42\n",
        "\n",
        "\n",
        "\n",
        "\n"
      ],
      "execution_count": null,
      "outputs": []
    },
    {
      "cell_type": "markdown",
      "metadata": {
        "id": "H_zZM71gYsY9",
        "colab_type": "raw"
      },
      "source": [
        "If there is an else clause, it has to be at the end, but there doesnt have to be one."
      ]
    },
    {
      "cell_type": "code",
      "metadata": {
        "id": "dSR3L69jYsY-",
        "colab_type": "code",
        "colab": {},
        "outputId": "749f20e7-5270-49bf-ca83-521feb966b72"
      },
      "source": [
        "# break\n",
        "# type your code here2+7\n",
        "n = [10,20,30,40,50,60]\n",
        "for i in n:\n",
        "    if i == 30:\n",
        "        break\n",
        "    else:\n",
        "        print(i)\n",
        "\n",
        "print(\"Hi students\")\n",
        "print(\"Happy learning\")"
      ],
      "execution_count": null,
      "outputs": [
        {
          "output_type": "stream",
          "text": [
            "10\n",
            "20\n",
            "Hi students\n",
            "Happy learning\n"
          ],
          "name": "stdout"
        }
      ]
    },
    {
      "cell_type": "code",
      "metadata": {
        "id": "xBdUFecjYsZA",
        "colab_type": "code",
        "colab": {},
        "outputId": "467d805b-03ab-49aa-f9f5-2be44cf7ba2f"
      },
      "source": [
        "# continue\n",
        "# n = (1,2,3,4,5)\n",
        "# type your code here2.-9\n",
        "n = [10,20,30,40,30,50,60]\n",
        "for i in n:\n",
        "    if i == 30:\n",
        "        continue\n",
        "    else:\n",
        "        print(i)"
      ],
      "execution_count": null,
      "outputs": [
        {
          "output_type": "stream",
          "text": [
            "10\n",
            "20\n",
            "40\n",
            "50\n",
            "60\n"
          ],
          "name": "stdout"
        }
      ]
    }
  ]
}