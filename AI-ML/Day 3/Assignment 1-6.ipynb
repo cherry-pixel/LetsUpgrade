{
  "nbformat": 4,
  "nbformat_minor": 0,
  "metadata": {
    "colab": {
      "name": "Assignment 1-6 .ipynb",
      "provenance": [],
      "collapsed_sections": []
    },
    "kernelspec": {
      "name": "python3",
      "display_name": "Python 3"
    }
  },
  "cells": [
    {
      "cell_type": "markdown",
      "metadata": {
        "id": "HCP2dpTts8Hg",
        "colab_type": "text"
      },
      "source": [
        "1. Write a program to subtract two complex numbers in Python."
      ]
    },
    {
      "cell_type": "code",
      "metadata": {
        "id": "aiSEmpIZtg9e",
        "colab_type": "code",
        "colab": {
          "base_uri": "https://localhost:8080/",
          "height": 50
        },
        "outputId": "069e2a6e-b561-404a-910d-fd331fef7a82"
      },
      "source": [
        "num1,num2=input(\"Enter two complex numbers: \").split(',')\n",
        "print(complex (num1)-complex (num2))"
      ],
      "execution_count": null,
      "outputs": [
        {
          "output_type": "stream",
          "text": [
            "Enter two complex numbers: 3+6j,6+9j\n",
            "(-3-3j)\n"
          ],
          "name": "stdout"
        }
      ]
    },
    {
      "cell_type": "markdown",
      "metadata": {
        "id": "xZ2HBmqgthlq",
        "colab_type": "text"
      },
      "source": [
        "2. Write a program to find the fourth root of a number\n"
      ]
    },
    {
      "cell_type": "code",
      "metadata": {
        "id": "aOarPZeXt9Oy",
        "colab_type": "code",
        "colab": {
          "base_uri": "https://localhost:8080/",
          "height": 50
        },
        "outputId": "927fea73-2bb3-4f45-abdc-a365b046f826"
      },
      "source": [
        "num=int (input(\"Enter your number: \"))\n",
        "print(num**(1/4)) "
      ],
      "execution_count": 40,
      "outputs": [
        {
          "output_type": "stream",
          "text": [
            "Enter your number: 16\n",
            "2.0\n"
          ],
          "name": "stdout"
        }
      ]
    },
    {
      "cell_type": "markdown",
      "metadata": {
        "id": "1Qjkkzgft9-D",
        "colab_type": "text"
      },
      "source": [
        "3. Write a program to swap two numbers in Python with help of a temporary variable."
      ]
    },
    {
      "cell_type": "code",
      "metadata": {
        "id": "TSq_bFsTswRZ",
        "colab_type": "code",
        "colab": {
          "base_uri": "https://localhost:8080/",
          "height": 84
        },
        "outputId": "6cc309a4-311b-42f2-a0b6-4b701d5c1213"
      },
      "source": [
        "a,b=33,66\n",
        "print(f\"Before Swapping\\na = {a}, b = {b}\")\n",
        "c,a,b=a,b,c\n",
        "print(f\"After Swapping\\na = {a}, b = {b}\")"
      ],
      "execution_count": 39,
      "outputs": [
        {
          "output_type": "stream",
          "text": [
            "Before Swapping\n",
            "a = 33, b = 66\n",
            "After Swapping\n",
            "a = 66, b = 33\n"
          ],
          "name": "stdout"
        }
      ]
    },
    {
      "cell_type": "markdown",
      "metadata": {
        "id": "3gHTtTvIuvUS",
        "colab_type": "text"
      },
      "source": [
        "4. Write a program to swap two numbers in Python using without a temporary variable."
      ]
    },
    {
      "cell_type": "code",
      "metadata": {
        "id": "RIhKxeTnve1h",
        "colab_type": "code",
        "colab": {
          "base_uri": "https://localhost:8080/",
          "height": 84
        },
        "outputId": "94000466-184d-49b9-a143-cb70f5a354b9"
      },
      "source": [
        "x,y=33,66\n",
        "print(f\"Before Swapping\\nx = {x}, y = {y}\")\n",
        "x,y=y,x\n",
        "print(f\"After Swapping\\nx = {x}, y = {y}\")"
      ],
      "execution_count": 37,
      "outputs": [
        {
          "output_type": "stream",
          "text": [
            "Before Swapping\n",
            "x = 33, y = 66\n",
            "After Swapping\n",
            "x = 66, y = 33\n"
          ],
          "name": "stdout"
        }
      ]
    },
    {
      "cell_type": "markdown",
      "metadata": {
        "id": "zgCKRZP8vgfU",
        "colab_type": "text"
      },
      "source": [
        "5. Write a program to convert farenheit to Kelvin and celsius both."
      ]
    },
    {
      "cell_type": "code",
      "metadata": {
        "id": "jNJ5wFR5wgLl",
        "colab_type": "code",
        "colab": {
          "base_uri": "https://localhost:8080/",
          "height": 67
        },
        "outputId": "46469fc2-dc2d-4c2a-d36f-934df8fca1fb"
      },
      "source": [
        "F=int (input(\"Enter temperature in Farenheit: \"))\n",
        "K,C = int (273.5 + ((F - 32.0) * (5.0/9.0))),int (((F - 32) * (5/9))) \n",
        "print(f\"Temperature in Kelvin: {K}°\\n Temperature in Celsius: {C}°\")"
      ],
      "execution_count": 38,
      "outputs": [
        {
          "output_type": "stream",
          "text": [
            "Enter temperature in Farenheit: 99\n",
            "Temperature in Kelvin: 310°\n",
            " Temperature in Celsius: 37°\n"
          ],
          "name": "stdout"
        }
      ]
    },
    {
      "cell_type": "markdown",
      "metadata": {
        "id": "S4oAA6u5whku",
        "colab_type": "text"
      },
      "source": [
        "6. Write a program to demonstrate all the available data types in Python."
      ]
    },
    {
      "cell_type": "code",
      "metadata": {
        "id": "m9kv76dtusuM",
        "colab_type": "code",
        "colab": {
          "base_uri": "https://localhost:8080/",
          "height": 67
        },
        "outputId": "eb32525d-7eb7-4030-dd35-729d49f14d64"
      },
      "source": [
        "name,num,decimal,comp=input(\"Enter your variables: \").split(',')\n",
        "num,decimal,comp=int (num),float (decimal),complex (comp)\n",
        "lst,tpl,dct=['a','b','c'],('d','e','f'),{1:'c',2:'h',3:'e',4:'r',5:'r',6:'y'}\n",
        "print(\"Variables :\",name,num,decimal,comp,lst,tpl,dct,\"\\n\",\"Type :\",type (name),type (num),type (decimal),type (comp),type (lst),type (tpl),type (dct))"
      ],
      "execution_count": 28,
      "outputs": [
        {
          "output_type": "stream",
          "text": [
            "Enter your variables: Cherry,66,99.9,6+9j\n",
            "Variables : Cherry 66 99.9 (6+9j) ['a', 'b', 'c'] ('d', 'e', 'f') {1: 'c', 2: 'h', 3: 'e', 4: 'r', 5: 'r', 6: 'y'} \n",
            " Type : <class 'str'> <class 'int'> <class 'float'> <class 'complex'> <class 'list'> <class 'tuple'> <class 'dict'>\n"
          ],
          "name": "stdout"
        }
      ]
    }
  ]
}