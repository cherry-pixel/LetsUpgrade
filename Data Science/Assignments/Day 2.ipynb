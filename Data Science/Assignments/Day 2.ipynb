{
 "cells": [
  {
   "cell_type": "markdown",
   "metadata": {},
   "source": [
    "# Assignment\n",
    "\n",
    "Create an empty list. Accept 10 numbers from the user and append to it the list if it is an even number."
   ]
  },
  {
   "cell_type": "code",
   "execution_count": 24,
   "metadata": {},
   "outputs": [
    {
     "name": "stdout",
     "output_type": "stream",
     "text": [
      "1\n",
      "2\n",
      "3\n",
      "4\n",
      "5\n",
      "6\n",
      "7\n",
      "8\n",
      "9\n",
      "10\n",
      "[0, 2, 4, 6, 8]\n"
     ]
    }
   ],
   "source": [
    "lst = []\n",
    "for val in range(10):\n",
    "    var = input()\n",
    "    if (val%2)==0:\n",
    "        lst.append(val)\n",
    "print(lst)"
   ]
  },
  {
   "cell_type": "markdown",
   "metadata": {},
   "source": [
    "# Assignment\n",
    "Create a notebook on LIST COMPREHENSION. This exercise is to put you in a Self learning mode"
   ]
  },
  {
   "cell_type": "code",
   "execution_count": 29,
   "metadata": {},
   "outputs": [
    {
     "name": "stdout",
     "output_type": "stream",
     "text": [
      "['Cherry', 'Apple', 'Mango'] [5, 3, 7, 6, 1, 9, 3] [99.9, 33.3]\n"
     ]
    }
   ],
   "source": [
    "#Creation of Lists\n",
    "Fruits=['Cherry','Apple','Mango']\n",
    "Integers=[5,3,7,6,1,9,3]\n",
    "Float=list([99.9,33.3])\n",
    "\n",
    "print(Fruits,Integers,Float)"
   ]
  },
  {
   "cell_type": "code",
   "execution_count": 30,
   "metadata": {},
   "outputs": [
    {
     "name": "stdout",
     "output_type": "stream",
     "text": [
      "[1, 3, 3, 5, 6, 7, 9]\n"
     ]
    }
   ],
   "source": [
    "#sort method\n",
    "Integers.sort()\n",
    "print(Integers)"
   ]
  },
  {
   "cell_type": "code",
   "execution_count": 32,
   "metadata": {},
   "outputs": [
    {
     "name": "stdout",
     "output_type": "stream",
     "text": [
      "[99.9, 33.3]\n"
     ]
    }
   ],
   "source": [
    "#copy method\n",
    "Decimal=Float.copy()\n",
    "print(Decimal)"
   ]
  },
  {
   "cell_type": "code",
   "execution_count": 33,
   "metadata": {},
   "outputs": [
    {
     "name": "stdout",
     "output_type": "stream",
     "text": [
      "[]\n"
     ]
    }
   ],
   "source": [
    "#clear method\n",
    "Float.clear()\n",
    "print(Float)"
   ]
  },
  {
   "cell_type": "code",
   "execution_count": 34,
   "metadata": {},
   "outputs": [
    {
     "name": "stdout",
     "output_type": "stream",
     "text": [
      "2\n"
     ]
    }
   ],
   "source": [
    "#count method\n",
    "Count=Integers.count(3)\n",
    "print(Count)"
   ]
  },
  {
   "cell_type": "code",
   "execution_count": 35,
   "metadata": {},
   "outputs": [
    {
     "name": "stdout",
     "output_type": "stream",
     "text": [
      "[99.9, 33.3, 'Cherry', 'Apple', 'Mango']\n"
     ]
    }
   ],
   "source": [
    "#extend method\n",
    "Decimal.extend(Fruits)\n",
    "print(Decimal)"
   ]
  },
  {
   "cell_type": "code",
   "execution_count": 36,
   "metadata": {},
   "outputs": [
    {
     "name": "stdout",
     "output_type": "stream",
     "text": [
      "0\n"
     ]
    }
   ],
   "source": [
    "#index method\n",
    "ind=Decimal.index(99.9)\n",
    "print(ind)"
   ]
  },
  {
   "cell_type": "code",
   "execution_count": 37,
   "metadata": {},
   "outputs": [
    {
     "name": "stdout",
     "output_type": "stream",
     "text": [
      "[1, 3, 66.6, 3, 5, 6, 7, 9]\n"
     ]
    }
   ],
   "source": [
    "#insert method\n",
    "Integers.insert(2,66.6)\n",
    "print(Integers)"
   ]
  },
  {
   "cell_type": "code",
   "execution_count": 38,
   "metadata": {},
   "outputs": [
    {
     "name": "stdout",
     "output_type": "stream",
     "text": [
      "[1, 3, 3, 5, 6, 7, 9]\n"
     ]
    }
   ],
   "source": [
    "#pop method\n",
    "Integers.pop(2)\n",
    "print(Integers)"
   ]
  },
  {
   "cell_type": "code",
   "execution_count": 39,
   "metadata": {},
   "outputs": [
    {
     "name": "stdout",
     "output_type": "stream",
     "text": [
      "[1, 3, 5, 6, 7, 9]\n"
     ]
    }
   ],
   "source": [
    "#remove method\n",
    "Integers.remove(3)\n",
    "print(Integers)"
   ]
  },
  {
   "cell_type": "code",
   "execution_count": 40,
   "metadata": {},
   "outputs": [
    {
     "name": "stdout",
     "output_type": "stream",
     "text": [
      "[9, 7, 6, 5, 3, 1]\n"
     ]
    }
   ],
   "source": [
    "#reverse method\n",
    "Integers.reverse()\n",
    "print(Integers)"
   ]
  },
  {
   "cell_type": "markdown",
   "metadata": {},
   "source": [
    "# Assignment\n",
    "\n",
    "You have seen in the videos how powerful dictionary data structure is.\n",
    "<br>\n",
    "In this assignment, given a number n, you have to write a program that generates a dictionary d which\n",
    "contains (i, i*i), where i is from 1 to n (both included).<br>\n",
    "Then you have to just print this dictionary d.\n",
    "<br>\n",
    "Example:<br>\n",
    "\n",
    "**Input:** 4<br>\n",
    "**Output:** {1: 1, 2: 4, 3: 9, 4: 16}<br><br>\n",
    "**Input Format:**<br>\n",
    "Take the number n in a single line.<br><br>\n",
    "**Output Format:**<br>\n",
    "Print the dictionary d in a single line."
   ]
  },
  {
   "cell_type": "code",
   "execution_count": 42,
   "metadata": {},
   "outputs": [
    {
     "name": "stdout",
     "output_type": "stream",
     "text": [
      "8\n",
      "{1: 1, 2: 4, 3: 9, 4: 16, 5: 25, 6: 36, 7: 49, 8: 64}\n"
     ]
    }
   ],
   "source": [
    "num = int(input())\n",
    "sqr = {}\n",
    "for val in range(1,num+1):\n",
    "    sqr[val]=val**2\n",
    "print(sqr)"
   ]
  },
  {
   "cell_type": "markdown",
   "metadata": {},
   "source": [
    "# Assignment\n",
    "There is a robot which wants to go the charging point to charge itself.<br>\n",
    "The robot moves in a 2-D plane from the original point (0,0). The robot can\n",
    "move toward UP, DOWN, LEFT and RIGHT with given steps.<br><br>\n",
    "**The trace of robot movement is shown as the following:**<br>\n",
    "UP 5<br>\n",
    "DOWN 3<br>\n",
    "LEFT 3<br>\n",
    "RIGHT 2<br><br>\n",
    "**Then, the output of the program should be:**<br>\n",
    "2<br>\n",
    "The numbers after the direction are steps.<br>\n",
    "Write a program to compute the distance between the current position after\n",
    "a sequence of movement and original point. If the distance is a float, then\n",
    "just print the nearest integer (use round() function for that and then convert\n",
    "it into an integer).<br><br>\n",
    "**Input Format:**<br>\n",
    "The first line of the input contains a number n which implies the number of\n",
    "directions to be given.<br>\n",
    "The next n lines contain the direction and the step separated by a space.<br><br>\n",
    "**Output Format:**<br>\n",
    "Print the distance from the original position to the current position.<br><br>\n",
    "**Example:**<br>\n",
    "**Input:**<br>\n",
    "4<br>\n",
    "UP 5<br>\n",
    "DOWN 3<br>\n",
    "LEFT 3<br>\n",
    "RIGHT 2<br>\n",
    "**Output:**<br>\n",
    "2"
   ]
  },
  {
   "cell_type": "code",
   "execution_count": 43,
   "metadata": {},
   "outputs": [
    {
     "name": "stdout",
     "output_type": "stream",
     "text": [
      "4\n",
      "UP 5\n",
      "DOWN 3\n",
      "LEFT 3\n",
      "RIGHT 2\n",
      "2\n"
     ]
    }
   ],
   "source": [
    "pos = {\"x\":0,\"y\":0}\n",
    "num = int(input())\n",
    "\n",
    "for _ in range (num):\n",
    "    command =  input().split(\" \")      # ACCEPT MOVEMENT COMMAND AND STORE AS A LIST\n",
    "    if command[0] == \"UP\":             # EXTRACT DIRECTION AND COMPARE\n",
    "        pos[\"y\"] += int(command[1])    # INCREMENT/DECREMENT APPROPRIATE CO-ORDINATES\n",
    "    if command[0] == \"DOWN\":\n",
    "        pos[\"y\"] -= int(command[1])\n",
    "    if command[0] == \"LEFT\":\n",
    "        pos[\"x\"] -= int(command[1])\n",
    "    if command[0] == \"RIGHT\":\n",
    "        pos[\"x\"] += int(command[1])\n",
    "\n",
    "print(int(round((pos[\"x\"]**2 + pos[\"y\"]**2)**0.5)))   # DISTANCE FROM ORIGIN"
   ]
  }
 ],
 "metadata": {
  "kernelspec": {
   "display_name": "Python 3",
   "language": "python",
   "name": "python3"
  },
  "language_info": {
   "codemirror_mode": {
    "name": "ipython",
    "version": 3
   },
   "file_extension": ".py",
   "mimetype": "text/x-python",
   "name": "python",
   "nbconvert_exporter": "python",
   "pygments_lexer": "ipython3",
   "version": "3.7.4"
  },
  "toc": {
   "base_numbering": 1,
   "nav_menu": {},
   "number_sections": true,
   "sideBar": true,
   "skip_h1_title": false,
   "title_cell": "Table of Contents",
   "title_sidebar": "Contents",
   "toc_cell": false,
   "toc_position": {},
   "toc_section_display": true,
   "toc_window_display": false
  }
 },
 "nbformat": 4,
 "nbformat_minor": 2
}
