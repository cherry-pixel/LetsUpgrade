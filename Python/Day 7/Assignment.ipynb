{
 "cells": [
  {
   "cell_type": "markdown",
   "metadata": {},
   "source": [
    "## Assignment 1\n",
    "### Python\n",
    "\n",
    "- Python is an object oriented programming language <bI>\n",
    "    \n",
    "- Almost everything in Python is an Object,with its properties and methods<bI>\n",
    "    \n",
    "### OOPS in Python\n",
    "#### Classes\n",
    "\n",
    "- A Class is like an object constructor,or a   **Blueprint**\n",
    "\n",
    "- Class is like a collection of objects. Iy is logical entity that has some specific attributes and methods.\n",
    "\n",
    "<font color=red>Example:</font> if u havea student class,then it should contain an attribute and method viz name,standard,age etc.\n",
    "\n",
    "#### Objects\n",
    "\n",
    "- Object is anything in real world that has some **unique characteristics**.It has a State and Behaviour\n",
    "\n",
    "<font color=red>Example:</font> Mouse,Keyboard,chair,tab\n",
    "\n",
    "**Inheritance**\n",
    ">One Object acquires properties and behaviour of the parent object<br>\n",
    "\n",
    ">Derived class -- The new class <br>\n",
    "\n",
    ">Base class or Parent class -- From which inherited the properties<br>\n",
    "\n",
    ">Inheritance provides reuseability of the code\n",
    "\n",
    "**Polymorphism**\n",
    ">One Object Many Forms\n",
    "\n",
    "**Data Abstraction**\n",
    ">Data Hiding\n",
    "\n",
    "**Data Encapsulation**\n",
    ">Data Binding\n",
    "\n",
    "#### Class Syntax"
   ]
  },
  {
   "cell_type": "raw",
   "metadata": {},
   "source": [
    "Class definition\n",
    "\n",
    "class class_name:\n",
    "    stmt 1\n",
    "    stmt 2\n",
    "     ...\n",
    "    stmt n"
   ]
  },
  {
   "cell_type": "code",
   "execution_count": 1,
   "metadata": {},
   "outputs": [
    {
     "name": "stdout",
     "output_type": "stream",
     "text": [
      "Hello from SJIT\n",
      "\n",
      "Welcome to SJIT\n"
     ]
    }
   ],
   "source": [
    "#simple class demonstration program\n",
    "\n",
    "class SJIT:\n",
    "    def show(self):\n",
    "        print(\"Hello from SJIT\",end='\\n\\n')\n",
    "    def msg(self):\n",
    "        print(\"Welcome to SJIT\")\n",
    "        \n",
    "s1=s2= SJIT()\n",
    "s1.show()\n",
    "s2.msg()"
   ]
  },
  {
   "cell_type": "markdown",
   "metadata": {},
   "source": [
    "#### Self Attribute \n",
    "\n",
    ">The first argument of every class method is always a referance to the current instance of the class\n",
    "\n",
    ">By convention,this argument is always named as '**self**'\n",
    "\n",
    ">It's a part of Python syntax to access members of objects\n",
    "\n",
    "> **However,self is not a reserved keyword in Python,it is just a strong convention**\n",
    "\n",
    "#### Private Variables\n",
    ">Private means he attribute are only available for the members of the class **not outisde the class**\n",
    "\n",
    ">A Private variablecan only be changed within a class method and not outside of a class method\n",
    "\n",
    ">In Python,private varaibles begin with **double underscores**\n",
    "\n",
    ">Unlike other programming languages,Python private variables are not strict they **can be accessed outside of the class**"
   ]
  },
  {
   "cell_type": "code",
   "execution_count": 2,
   "metadata": {},
   "outputs": [
    {
     "name": "stdout",
     "output_type": "stream",
     "text": [
      "Hi Cherry!!!\n",
      "2\n"
     ]
    },
    {
     "ename": "AttributeError",
     "evalue": "'abc' object has no attribute '__v'",
     "output_type": "error",
     "traceback": [
      "\u001b[1;31m---------------------------------------------------------------------------\u001b[0m",
      "\u001b[1;31mAttributeError\u001b[0m                            Traceback (most recent call last)",
      "\u001b[1;32m<ipython-input-2-404d27e45455>\u001b[0m in \u001b[0;36m<module>\u001b[1;34m\u001b[0m\n\u001b[0;32m      9\u001b[0m \u001b[0ms\u001b[0m\u001b[1;33m.\u001b[0m\u001b[0mshow\u001b[0m\u001b[1;33m(\u001b[0m\u001b[1;33m)\u001b[0m\u001b[1;33m\u001b[0m\u001b[1;33m\u001b[0m\u001b[0m\n\u001b[0;32m     10\u001b[0m \u001b[0mprint\u001b[0m\u001b[1;33m(\u001b[0m\u001b[0ms\u001b[0m\u001b[1;33m.\u001b[0m\u001b[0my\u001b[0m\u001b[1;33m)\u001b[0m\u001b[1;33m\u001b[0m\u001b[1;33m\u001b[0m\u001b[0m\n\u001b[1;32m---> 11\u001b[1;33m \u001b[0mprint\u001b[0m\u001b[1;33m(\u001b[0m\u001b[0ms\u001b[0m\u001b[1;33m.\u001b[0m\u001b[0m__v\u001b[0m\u001b[1;33m)\u001b[0m\u001b[1;33m\u001b[0m\u001b[1;33m\u001b[0m\u001b[0m\n\u001b[0m",
      "\u001b[1;31mAttributeError\u001b[0m: 'abc' object has no attribute '__v'"
     ]
    }
   ],
   "source": [
    "#program to use private variables\n",
    "class abc:\n",
    "    y=2\n",
    "    __v=4\n",
    "    def show(self):\n",
    "        print(\"Hi Cherry!!!\")\n",
    "\n",
    "s=abc()\n",
    "s.show()\n",
    "print(s.y)\n",
    "print(s.__v)"
   ]
  },
  {
   "cell_type": "code",
   "execution_count": 3,
   "metadata": {},
   "outputs": [
    {
     "name": "stdout",
     "output_type": "stream",
     "text": [
      "Name: Cherry\n",
      "Mark: 99\n",
      "NAME  MARKS GRADE\n",
      "Cherry 99   A\n"
     ]
    }
   ],
   "source": [
    "class Students:\n",
    "    def __init__(self,name,mark):\n",
    "        self.name=name\n",
    "        self.mark=mark\n",
    "    def results(self):\n",
    "        if mark>=90 and mark<=100:\n",
    "            result='A'\n",
    "        elif mark>=80 and mark<90:\n",
    "            result='B'\n",
    "        elif mark>=70 and mark<80:\n",
    "            result='C'\n",
    "        elif mark>=50 and mark<70:\n",
    "            result='D'\n",
    "        elif mark>=0 and mark<50:\n",
    "            result='Fail'\n",
    "        else:\n",
    "            print(\"Invalid Input\")\n",
    "        print(f\"NAME  MARKS GRADE\\n{name} {mark}   {result}\")       \n",
    "\n",
    "name=input(\"Name: \")\n",
    "mark=int(input(\"Mark: \"))\n",
    "stud1=Students(name,mark)\n",
    "stud1.results()   "
   ]
  },
  {
   "cell_type": "markdown",
   "metadata": {},
   "source": [
    "## Assignment 2"
   ]
  },
  {
   "cell_type": "code",
   "execution_count": 4,
   "metadata": {},
   "outputs": [
    {
     "name": "stdout",
     "output_type": "stream",
     "text": [
      "Enter a number: 48\n",
      "12\n",
      "3\n",
      "3\n"
     ]
    }
   ],
   "source": [
    "def countdigs(num):\n",
    "    add=count=0\n",
    "    while num>0:\n",
    "        rem=num%10\n",
    "        add+=rem\n",
    "        num=num//10\n",
    "        count+=1\n",
    "    print(add)\n",
    "    if count!=1:\n",
    "        countdigs(add)\n",
    "        \n",
    "num=int(input(\"Enter a number: \"))\n",
    "countdigs(num)"
   ]
  },
  {
   "cell_type": "markdown",
   "metadata": {},
   "source": [
    "## Assignment 3"
   ]
  },
  {
   "cell_type": "code",
   "execution_count": 5,
   "metadata": {},
   "outputs": [
    {
     "name": "stdout",
     "output_type": "stream",
     "text": [
      "Binary Digits: 11\n",
      "NO\n"
     ]
    }
   ],
   "source": [
    "def count(D):\n",
    "    ocnt=zcnt=totcnt=0\n",
    "    while D>0:\n",
    "        rem=D%10\n",
    "        D=D//10\n",
    "        totcnt+=1\n",
    "        if rem==1:\n",
    "            ocnt+=1\n",
    "        if rem==0:\n",
    "            zcnt+=1\n",
    "    checkip(zcnt,ocnt,totcnt)\n",
    "    \n",
    "def checkip(zcnt,ocnt,totcnt):\n",
    "    if(zcnt==totcnt-1 or ocnt==totcnt-1):\n",
    "        print(\"YES\")\n",
    "    else:\n",
    "        print(\"NO\")\n",
    "\n",
    "D=int(input(\"Binary Digits: \"))\n",
    "count(D)"
   ]
  }
 ],
 "metadata": {
  "kernelspec": {
   "display_name": "Python 3",
   "language": "python",
   "name": "python3"
  },
  "language_info": {
   "codemirror_mode": {
    "name": "ipython",
    "version": 3
   },
   "file_extension": ".py",
   "mimetype": "text/x-python",
   "name": "python",
   "nbconvert_exporter": "python",
   "pygments_lexer": "ipython3",
   "version": "3.7.4"
  },
  "toc": {
   "base_numbering": 1,
   "nav_menu": {},
   "number_sections": true,
   "sideBar": true,
   "skip_h1_title": false,
   "title_cell": "Table of Contents",
   "title_sidebar": "Contents",
   "toc_cell": false,
   "toc_position": {},
   "toc_section_display": true,
   "toc_window_display": false
  }
 },
 "nbformat": 4,
 "nbformat_minor": 2
}
