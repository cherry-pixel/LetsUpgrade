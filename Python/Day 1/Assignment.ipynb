{
 "cells": [
  {
   "cell_type": "markdown",
   "metadata": {},
   "source": [
    "## LIST "
   ]
  },
  {
   "cell_type": "code",
   "execution_count": 1,
   "metadata": {},
   "outputs": [
    {
     "name": "stdout",
     "output_type": "stream",
     "text": [
      "['Cherry', 'Apple', 'Mango'] [5, 3, 7, 6, 1, 9, 3] [99.9, 33.3]\n"
     ]
    }
   ],
   "source": [
    "#Creation of Lists\n",
    "Fruits=['Cherry','Apple','Mango']\n",
    "Integers=[5,3,7,6,1,9,3]\n",
    "Float=list([99.9,33.3])\n",
    "\n",
    "print(Fruits,Integers,Float)"
   ]
  },
  {
   "cell_type": "code",
   "execution_count": 2,
   "metadata": {},
   "outputs": [
    {
     "name": "stdout",
     "output_type": "stream",
     "text": [
      "[1, 3, 3, 5, 6, 7, 9]\n"
     ]
    }
   ],
   "source": [
    "#sort method\n",
    "Integers.sort()\n",
    "print(Integers)"
   ]
  },
  {
   "cell_type": "code",
   "execution_count": 3,
   "metadata": {},
   "outputs": [
    {
     "name": "stdout",
     "output_type": "stream",
     "text": [
      "['Cherry', 'Apple', 'Mango', 'Banana']\n"
     ]
    }
   ],
   "source": [
    "#append method\n",
    "Fruits.append('Banana')\n",
    "print(Fruits)"
   ]
  },
  {
   "cell_type": "code",
   "execution_count": 4,
   "metadata": {},
   "outputs": [
    {
     "name": "stdout",
     "output_type": "stream",
     "text": [
      "[99.9, 33.3]\n"
     ]
    }
   ],
   "source": [
    "#copy method\n",
    "Decimal=Float.copy()\n",
    "print(Decimal)"
   ]
  },
  {
   "cell_type": "code",
   "execution_count": 5,
   "metadata": {},
   "outputs": [
    {
     "name": "stdout",
     "output_type": "stream",
     "text": [
      "[]\n"
     ]
    }
   ],
   "source": [
    "#clear method\n",
    "Float.clear()\n",
    "print(Float)"
   ]
  },
  {
   "cell_type": "code",
   "execution_count": 6,
   "metadata": {},
   "outputs": [
    {
     "name": "stdout",
     "output_type": "stream",
     "text": [
      "2\n"
     ]
    }
   ],
   "source": [
    "#count method\n",
    "Count=Integers.count(3)\n",
    "print(Count)"
   ]
  },
  {
   "cell_type": "code",
   "execution_count": 7,
   "metadata": {},
   "outputs": [
    {
     "name": "stdout",
     "output_type": "stream",
     "text": [
      "[99.9, 33.3, 'Cherry', 'Apple', 'Mango', 'Banana']\n"
     ]
    }
   ],
   "source": [
    "#extend method\n",
    "Decimal.extend(Fruits)\n",
    "print(Decimal)"
   ]
  },
  {
   "cell_type": "code",
   "execution_count": 8,
   "metadata": {},
   "outputs": [
    {
     "name": "stdout",
     "output_type": "stream",
     "text": [
      "0\n"
     ]
    }
   ],
   "source": [
    "#index method\n",
    "ind=Decimal.index(99.9)\n",
    "print(ind)"
   ]
  },
  {
   "cell_type": "code",
   "execution_count": 9,
   "metadata": {},
   "outputs": [
    {
     "name": "stdout",
     "output_type": "stream",
     "text": [
      "[1, 3, 66.6, 3, 5, 6, 7, 9]\n"
     ]
    }
   ],
   "source": [
    "#insert method\n",
    "Integers.insert(2,66.6)\n",
    "print(Integers)"
   ]
  },
  {
   "cell_type": "code",
   "execution_count": 10,
   "metadata": {},
   "outputs": [
    {
     "name": "stdout",
     "output_type": "stream",
     "text": [
      "[1, 3, 3, 5, 6, 7, 9]\n"
     ]
    }
   ],
   "source": [
    "#pop method\n",
    "Integers.pop(2)\n",
    "print(Integers)\n"
   ]
  },
  {
   "cell_type": "code",
   "execution_count": 11,
   "metadata": {},
   "outputs": [
    {
     "name": "stdout",
     "output_type": "stream",
     "text": [
      "[1, 3, 5, 6, 7, 9]\n"
     ]
    }
   ],
   "source": [
    "#remove method\n",
    "Integers.remove(3)\n",
    "print(Integers)"
   ]
  },
  {
   "cell_type": "code",
   "execution_count": 12,
   "metadata": {},
   "outputs": [
    {
     "name": "stdout",
     "output_type": "stream",
     "text": [
      "[9, 7, 6, 5, 3, 1]\n"
     ]
    }
   ],
   "source": [
    "#reverse method\n",
    "Integers.reverse()\n",
    "print(Integers)"
   ]
  },
  {
   "cell_type": "markdown",
   "metadata": {},
   "source": [
    "## DICTIONARY"
   ]
  },
  {
   "cell_type": "code",
   "execution_count": 13,
   "metadata": {},
   "outputs": [
    {
     "name": "stdout",
     "output_type": "stream",
     "text": [
      "{'A': 31, 'B': 28, 'C': 20, 'D': 30, 'E': 31, 'F': 39} \n",
      " {'Name': 'Cherry', 'ID': 'C', 'Gender': 'Female'}\n"
     ]
    }
   ],
   "source": [
    "#Creating Dictionaries\n",
    "Age={'A':31, 'B':28, 'C':20, 'D':30, 'E':31, 'F':39}\n",
    "Stud={'Name':'Cherry','ID':'C','Gender':'Female'}\n",
    "print(Age,'\\n',Stud)"
   ]
  },
  {
   "cell_type": "code",
   "execution_count": 14,
   "metadata": {},
   "outputs": [
    {
     "name": "stdout",
     "output_type": "stream",
     "text": [
      "{'Name': 'Cherry', 'ID': 'C', 'Gender': 'Female'}\n"
     ]
    }
   ],
   "source": [
    "#Copy method - Returns a copy of the dictionary\n",
    "Stud1=Stud.copy()\n",
    "print(Stud1)"
   ]
  },
  {
   "cell_type": "code",
   "execution_count": 15,
   "metadata": {},
   "outputs": [
    {
     "name": "stdout",
     "output_type": "stream",
     "text": [
      "Cherry\n"
     ]
    }
   ],
   "source": [
    "#get method - Returns the value of the specified key\n",
    "print(Stud1.get('Name'))"
   ]
  },
  {
   "cell_type": "code",
   "execution_count": 16,
   "metadata": {},
   "outputs": [
    {
     "name": "stdout",
     "output_type": "stream",
     "text": [
      "{}\n"
     ]
    }
   ],
   "source": [
    "#Clear method - Removes all the elements from the dictionary\n",
    "Stud1.clear()\n",
    "print(Stud1)"
   ]
  },
  {
   "cell_type": "code",
   "execution_count": 17,
   "metadata": {},
   "outputs": [
    {
     "name": "stdout",
     "output_type": "stream",
     "text": [
      "dict_items([('Name', 'Cherry'), ('ID', 'C'), ('Gender', 'Female')])\n"
     ]
    }
   ],
   "source": [
    "#items method - Returns a list containing a tuple for each key value pair\n",
    "print(Stud.items())"
   ]
  },
  {
   "cell_type": "code",
   "execution_count": 18,
   "metadata": {},
   "outputs": [
    {
     "name": "stdout",
     "output_type": "stream",
     "text": [
      "Name ID Gender\n"
     ]
    }
   ],
   "source": [
    "#keys method - Returns a list containing the dictionary's keys\n",
    "print(*Stud.keys())"
   ]
  },
  {
   "cell_type": "code",
   "execution_count": 19,
   "metadata": {},
   "outputs": [
    {
     "name": "stdout",
     "output_type": "stream",
     "text": [
      "Cherry C Female\n"
     ]
    }
   ],
   "source": [
    "#values method - Returns a list of all the values in the dictionary\n",
    "print(*Stud.values())"
   ]
  },
  {
   "cell_type": "code",
   "execution_count": 20,
   "metadata": {},
   "outputs": [
    {
     "name": "stdout",
     "output_type": "stream",
     "text": [
      "{'Jamuna': 'Female', 'Cherry': 'Female', 'Sruthi': 'Female'}\n"
     ]
    }
   ],
   "source": [
    "#fromKeys method - Returns a dictionary with the specified keys and value\n",
    "Names=['Jamuna','Cherry','Sruthi']\n",
    "Gender='Female'\n",
    "Details=dict.fromkeys(Names,Gender)\n",
    "print(Details)"
   ]
  },
  {
   "cell_type": "code",
   "execution_count": 21,
   "metadata": {},
   "outputs": [
    {
     "name": "stdout",
     "output_type": "stream",
     "text": [
      "Male\n",
      "{'Jamuna': 'Female', 'Cherry': 'Female', 'Sruthi': 'Female', 'Ram': 'Male'}\n"
     ]
    }
   ],
   "source": [
    "#setDefault method - Returns the value of the specified key. If the key does not exist: insert the key, with the specified value\n",
    "x = Details.setdefault(\"Ram\", \"Male\")\n",
    "print(x)\n",
    "print(Details)"
   ]
  },
  {
   "cell_type": "code",
   "execution_count": 22,
   "metadata": {},
   "outputs": [
    {
     "name": "stdout",
     "output_type": "stream",
     "text": [
      "Female\n",
      "{'Jamuna': 'Female', 'Cherry': 'Female', 'Ram': 'Male'}\n"
     ]
    }
   ],
   "source": [
    "#pop method - Removes the element with the specified key\n",
    "print(Details.pop('Sruthi'))\n",
    "print(Details)"
   ]
  },
  {
   "cell_type": "code",
   "execution_count": 23,
   "metadata": {},
   "outputs": [
    {
     "name": "stdout",
     "output_type": "stream",
     "text": [
      "('Ram', 'Male')\n",
      "{'Jamuna': 'Female', 'Cherry': 'Female'}\n"
     ]
    }
   ],
   "source": [
    "#popitem method - Removes the last inserted key-value pair\n",
    "print(Details.popitem())\n",
    "print(Details)"
   ]
  },
  {
   "cell_type": "code",
   "execution_count": 24,
   "metadata": {},
   "outputs": [
    {
     "name": "stdout",
     "output_type": "stream",
     "text": [
      "{'Jamuna': 'Female', 'Cherry': 'Female', 'Raj': 'Male'}\n"
     ]
    }
   ],
   "source": [
    "#update method - Updates the dictionary with the specified key-value pairs\n",
    "Details.update({'Raj':'Male'})\n",
    "print(Details)"
   ]
  },
  {
   "cell_type": "markdown",
   "metadata": {},
   "source": [
    "## SET"
   ]
  },
  {
   "cell_type": "code",
   "execution_count": 25,
   "metadata": {},
   "outputs": [
    {
     "name": "stdout",
     "output_type": "stream",
     "text": [
      "{70, 10, 50, 20, 60, 30}\n"
     ]
    }
   ],
   "source": [
    "#creating set\n",
    "RollNo={10,20,30,50,60,70}\n",
    "print(RollNo)"
   ]
  },
  {
   "cell_type": "code",
   "execution_count": 26,
   "metadata": {},
   "outputs": [
    {
     "name": "stdout",
     "output_type": "stream",
     "text": [
      "{70, 10, 50, 20, 90, 60, 30}\n"
     ]
    }
   ],
   "source": [
    "#add method - Adds an element to the set\n",
    "RollNo.add(90)\n",
    "print(RollNo)"
   ]
  },
  {
   "cell_type": "code",
   "execution_count": 27,
   "metadata": {},
   "outputs": [
    {
     "name": "stdout",
     "output_type": "stream",
     "text": [
      "{50, 20, 90, 70, 10, 60, 30}\n"
     ]
    }
   ],
   "source": [
    "#copy method - Returns a copy of the set\n",
    "RegNum=RollNo.copy()\n",
    "print(RegNum)"
   ]
  },
  {
   "cell_type": "code",
   "execution_count": 28,
   "metadata": {},
   "outputs": [
    {
     "name": "stdout",
     "output_type": "stream",
     "text": [
      "{50, 20, 90, 10, 60, 30}\n"
     ]
    }
   ],
   "source": [
    "#discard method - Remove the specified item\n",
    "RegNum.discard(70)\n",
    "print(RegNum)"
   ]
  },
  {
   "cell_type": "code",
   "execution_count": 29,
   "metadata": {},
   "outputs": [
    {
     "name": "stdout",
     "output_type": "stream",
     "text": [
      "\n"
     ]
    }
   ],
   "source": [
    "#clear method - Removes all the elements from the set\n",
    "RollNo.clear()\n",
    "print(*RollNo)"
   ]
  },
  {
   "cell_type": "code",
   "execution_count": 30,
   "metadata": {},
   "outputs": [
    {
     "name": "stdout",
     "output_type": "stream",
     "text": [
      "{1, 3, 7}\n"
     ]
    }
   ],
   "source": [
    "#difference method - Returns a set containing the difference between two or more sets\n",
    "Nums=set({1,2,3,4,6,7,8})\n",
    "Nums2=set({2,4,6,8,0})\n",
    "Diff=Nums.difference(Nums2)\n",
    "print(Diff)"
   ]
  },
  {
   "cell_type": "code",
   "execution_count": 31,
   "metadata": {},
   "outputs": [
    {
     "name": "stdout",
     "output_type": "stream",
     "text": [
      "0\n",
      "{2, 4, 6, 8}\n"
     ]
    }
   ],
   "source": [
    "#pop method - Removes an element from the set\n",
    "print(Nums2.pop())\n",
    "print(Nums2)"
   ]
  },
  {
   "cell_type": "code",
   "execution_count": 32,
   "metadata": {},
   "outputs": [
    {
     "name": "stdout",
     "output_type": "stream",
     "text": [
      "None\n",
      "{2, 4, 6}\n"
     ]
    }
   ],
   "source": [
    "#remove method - Removes the specified element\n",
    "print(Nums2.remove(8))\n",
    "print(Nums2)"
   ]
  },
  {
   "cell_type": "code",
   "execution_count": 33,
   "metadata": {},
   "outputs": [
    {
     "name": "stdout",
     "output_type": "stream",
     "text": [
      "{'abc', 'xyz'}\n"
     ]
    }
   ],
   "source": [
    "#difference_update method - Removes the items in this set that are also included in another, specified set\n",
    "A={'abc','xyz','ghi'}\n",
    "B={'ghi','mno','rst'}\n",
    "A.difference_update(B)\n",
    "print(A)"
   ]
  },
  {
   "cell_type": "code",
   "execution_count": 34,
   "metadata": {},
   "outputs": [
    {
     "name": "stdout",
     "output_type": "stream",
     "text": [
      "{'ghi'}\n"
     ]
    }
   ],
   "source": [
    "#intersection method - Returns a set, that is the intersection of two other sets\n",
    "A={'abc','xyz','ghi'}\n",
    "B={'ghi','mno','rst'}\n",
    "X=A.intersection(B)\n",
    "print(X)"
   ]
  },
  {
   "cell_type": "code",
   "execution_count": 35,
   "metadata": {},
   "outputs": [
    {
     "name": "stdout",
     "output_type": "stream",
     "text": [
      "{'ghi'}\n"
     ]
    }
   ],
   "source": [
    "#intersection_update method - Removes the items in this set that are not present in other, specified set(s)\n",
    "A.intersection_update(B)\n",
    "print(A)"
   ]
  },
  {
   "cell_type": "code",
   "execution_count": 36,
   "metadata": {},
   "outputs": [
    {
     "name": "stdout",
     "output_type": "stream",
     "text": [
      "{'mno', 'rst', 'ghi'}\n"
     ]
    }
   ],
   "source": [
    "#union method - Return a set containing the union of sets\n",
    "Y=A.union(B)\n",
    "print(Y)"
   ]
  },
  {
   "cell_type": "code",
   "execution_count": 37,
   "metadata": {},
   "outputs": [
    {
     "data": {
      "text/plain": [
       "True"
      ]
     },
     "execution_count": 37,
     "metadata": {},
     "output_type": "execute_result"
    }
   ],
   "source": [
    "#issubset method - Returns whether another set contains this set or not\n",
    "A.issubset(B)"
   ]
  },
  {
   "cell_type": "code",
   "execution_count": 38,
   "metadata": {},
   "outputs": [
    {
     "data": {
      "text/plain": [
       "False"
      ]
     },
     "execution_count": 38,
     "metadata": {},
     "output_type": "execute_result"
    }
   ],
   "source": [
    "#issuperset method - Returns whether this set contains another set or not\n",
    "A.issuperset(B)"
   ]
  },
  {
   "cell_type": "code",
   "execution_count": 39,
   "metadata": {},
   "outputs": [
    {
     "name": "stdout",
     "output_type": "stream",
     "text": [
      "{'mno', 'rst', 'ghi'}\n"
     ]
    }
   ],
   "source": [
    "#update method - Update the set with the union of this set and others\n",
    "A.update(Y)\n",
    "print(A)"
   ]
  },
  {
   "cell_type": "code",
   "execution_count": 40,
   "metadata": {},
   "outputs": [
    {
     "name": "stdout",
     "output_type": "stream",
     "text": [
      "{'abc', 'xyz', 'rst', 'mno'}\n"
     ]
    }
   ],
   "source": [
    "#symmetric_differeence method - Return a set that contains all items from both sets, except items that are present in both sets\n",
    "A={'abc','xyz','ghi'}\n",
    "B={'ghi','mno','rst'}\n",
    "Z=A.symmetric_difference(B)\n",
    "print(Z)"
   ]
  },
  {
   "cell_type": "code",
   "execution_count": 41,
   "metadata": {},
   "outputs": [
    {
     "name": "stdout",
     "output_type": "stream",
     "text": [
      "{'h', 'g', 'c', 'f', 'b', 'a'}\n"
     ]
    }
   ],
   "source": [
    "#symmetric_differeence_update method - Remove the items that are present in both sets, AND insert the items that is not present in both sets\n",
    "A={'a','b','c','d','e'}\n",
    "B={'d','e','f','g','h'}\n",
    "A.symmetric_difference_update(B)\n",
    "print(A)"
   ]
  }
 ],
 "metadata": {
  "kernelspec": {
   "display_name": "Python 3",
   "language": "python",
   "name": "python3"
  },
  "language_info": {
   "codemirror_mode": {
    "name": "ipython",
    "version": 3
   },
   "file_extension": ".py",
   "mimetype": "text/x-python",
   "name": "python",
   "nbconvert_exporter": "python",
   "pygments_lexer": "ipython3",
   "version": "3.7.4"
  },
  "toc": {
   "base_numbering": 1,
   "nav_menu": {},
   "number_sections": true,
   "sideBar": true,
   "skip_h1_title": false,
   "title_cell": "Table of Contents",
   "title_sidebar": "Contents",
   "toc_cell": false,
   "toc_position": {},
   "toc_section_display": true,
   "toc_window_display": false
  }
 },
 "nbformat": 4,
 "nbformat_minor": 2
}
