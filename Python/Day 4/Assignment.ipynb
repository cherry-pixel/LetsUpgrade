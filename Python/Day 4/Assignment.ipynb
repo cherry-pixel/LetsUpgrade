{
 "cells": [
  {
   "cell_type": "code",
   "execution_count": 10,
   "metadata": {},
   "outputs": [
    {
     "name": "stdout",
     "output_type": "stream",
     "text": [
      "No. of elements in the list: 8\n",
      "Element 1: 2\n",
      "Element 2: 1\n",
      "Element 3: 3\n",
      "Element 4: 5\n",
      "Element 5: 7\n",
      "Element 6: 1\n",
      "Element 7: 9\n",
      "Element 8: 5\n",
      "[2, 1, 3, 5, 7, 1, 9, 5]\n",
      "It's a Match\n"
     ]
    }
   ],
   "source": [
    "#Assignment 1\n",
    "\n",
    "#creation of list\n",
    "def listCreation(n):\n",
    "    list1=[]\n",
    "    for i in range(1,n+1):\n",
    "        elem=int(input(f\"Element {i}: \"))\n",
    "        list1.append(elem)\n",
    "    print(list1)\n",
    "    checkElements(list1)\n",
    "\n",
    "#Checking sublist\n",
    "def checkElements(list1):\n",
    "    list2=[1,1,5]\n",
    "    for J in range(len(list1)):\n",
    "        if list1[J]==list2[0]:\n",
    "            list2.pop(0)\n",
    "    if len(list2)==0:\n",
    "        print(\"It's a Match\")\n",
    "    else:\n",
    "        print(\"It's Gone\")\n",
    "        \n",
    "n=int(input('No. of elements in the list: '))\n",
    "listCreation(n)"
   ]
  }
 ],
 "metadata": {
  "kernelspec": {
   "display_name": "Python 3",
   "language": "python",
   "name": "python3"
  },
  "language_info": {
   "codemirror_mode": {
    "name": "ipython",
    "version": 3
   },
   "file_extension": ".py",
   "mimetype": "text/x-python",
   "name": "python",
   "nbconvert_exporter": "python",
   "pygments_lexer": "ipython3",
   "version": "3.7.4"
  },
  "toc": {
   "base_numbering": 1,
   "nav_menu": {},
   "number_sections": true,
   "sideBar": true,
   "skip_h1_title": false,
   "title_cell": "Table of Contents",
   "title_sidebar": "Contents",
   "toc_cell": false,
   "toc_position": {},
   "toc_section_display": true,
   "toc_window_display": false
  }
 },
 "nbformat": 4,
 "nbformat_minor": 2
}
