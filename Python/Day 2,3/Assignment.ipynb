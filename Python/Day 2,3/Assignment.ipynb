{
 "cells": [
  {
   "cell_type": "code",
   "execution_count": 1,
   "metadata": {},
   "outputs": [
    {
     "data": {
      "text/plain": [
       "'C:\\\\Users\\\\cherr\\\\Python'"
      ]
     },
     "execution_count": 1,
     "metadata": {},
     "output_type": "execute_result"
    }
   ],
   "source": [
    "import os\n",
    "os.getcwd()"
   ]
  },
  {
   "cell_type": "code",
   "execution_count": 2,
   "metadata": {},
   "outputs": [
    {
     "data": {
      "text/plain": [
       "'C:\\\\Users\\\\cherr\\\\Python'"
      ]
     },
     "execution_count": 2,
     "metadata": {},
     "output_type": "execute_result"
    }
   ],
   "source": [
    "pwd"
   ]
  },
  {
   "cell_type": "code",
   "execution_count": 3,
   "metadata": {},
   "outputs": [
    {
     "name": "stdout",
     "output_type": "stream",
     "text": [
      "I love FCS\n"
     ]
    }
   ],
   "source": [
    "#Assignment 1\n",
    "\n",
    "new_file=open('sample.txt','w')\n",
    "new_file.write(\"I love FCS\")\n",
    "new_file.close()\n",
    "new_file=open('sample.txt','r')\n",
    "print(new_file.read())\n",
    "new_file.close()"
   ]
  },
  {
   "cell_type": "code",
   "execution_count": 4,
   "metadata": {},
   "outputs": [
    {
     "name": "stdout",
     "output_type": "stream",
     "text": [
      "Enter your mark: 99\n",
      "Grade A\n"
     ]
    }
   ],
   "source": [
    "#Assignment 2\n",
    "\n",
    "mark=int(input(\"Enter your mark: \"))\n",
    "\n",
    "if mark>=90 and mark<=100:\n",
    "    print(\"Grade A\")\n",
    "elif mark>=80 and mark<90:\n",
    "    print(\"Grade B\")\n",
    "elif mark>=70 and mark<80:\n",
    "    print(\"Grade C\")\n",
    "elif mark>=50 and mark<70:\n",
    "    print(\"Grade E\")\n",
    "elif mark>=0 and mark<50:\n",
    "    print(\"Fail\")\n",
    "else:\n",
    "    print(\"Invalid Input\")"
   ]
  },
  {
   "cell_type": "code",
   "execution_count": 5,
   "metadata": {},
   "outputs": [
    {
     "name": "stdout",
     "output_type": "stream",
     "text": [
      "what do you think will be the Team India score in 20-20 Cricket?\n",
      "200\n",
      "Close By, Your a True Indian Fan!\n"
     ]
    }
   ],
   "source": [
    "#Assignment 3\n",
    "\n",
    "from random import *\n",
    "\n",
    "print(\"what do you think will be the Team India score in 20-20 Cricket?\")\n",
    "Score=int(input())\n",
    "\n",
    "comp_Score=randint(0,250)\n",
    "final_Score=comp_Score-Score\n",
    " \n",
    "if final_Score<=10:\n",
    "    print(\"Close By, Your a True Indian Fan!\")\n",
    "elif final_Score>10:\n",
    "    print(\"You dont watch that much! :P\")\n",
    "else:\n",
    "    print(\"Reduce your expectation for 20-20 Cricket\")"
   ]
  },
  {
   "cell_type": "code",
   "execution_count": 6,
   "metadata": {},
   "outputs": [
    {
     "name": "stdout",
     "output_type": "stream",
     "text": [
      "5599\n",
      "Number of photos: 3\n",
      "\n",
      "Width of photo 1: 5000\n",
      "Height of photo 1: 6000\n",
      "UPLOAD ANOTHER PHOTO\n",
      "\n",
      "Width of photo 2: 7000\n",
      "Height of photo 2: 7000\n",
      "ACCEPTED\n",
      "\n",
      "Width of photo 3: 9000\n",
      "Height of photo 3: 6000\n",
      "CROP IT\n",
      "\n"
     ]
    }
   ],
   "source": [
    "#Assignment 4\n",
    "\n",
    "from random import *\n",
    "\n",
    "length=randint(1,10000)\n",
    "print(length)\n",
    "\n",
    "num=int(input(\"Number of photos: \"))\n",
    "print()\n",
    "\n",
    "for i in range(1,num+1):\n",
    "    width=int(input(f\"Width of photo {i}: \"))\n",
    "    height=int(input(f\"Height of photo {i}: \"))\n",
    "    \n",
    "    if width<length or height<length:\n",
    "        print(\"UPLOAD ANOTHER PHOTO\",end='\\n\\n')\n",
    "    elif (width>length and height>length) and (width==height) :\n",
    "        print(\"ACCEPTED\",end='\\n\\n')\n",
    "    else:\n",
    "        print(\"CROP IT\",end='\\n\\n')"
   ]
  },
  {
   "cell_type": "code",
   "execution_count": 7,
   "metadata": {},
   "outputs": [
    {
     "name": "stdout",
     "output_type": "stream",
     "text": [
      "Follow this Pattern to get out of the maze \n",
      " R R U U R R U U R U U\n",
      "5 6\n",
      "Direction: R\n",
      "1 0\n",
      "Direction: R\n",
      "2 0\n",
      "Direction: U\n",
      "2 1\n",
      "Direction: U\n",
      "2 2\n",
      "Direction: R\n",
      "3 2\n",
      "Direction: R\n",
      "4 2\n",
      "Direction: U\n",
      "4 3\n",
      "Direction: U\n",
      "4 4\n",
      "Direction: R\n",
      "5 4\n",
      "Direction: U\n",
      "5 5\n",
      "Direction: U\n",
      "5 6\n",
      "Congrats!!! Your out of the Maze :)\n"
     ]
    }
   ],
   "source": [
    "#Assignment 5\n",
    "\n",
    "from random import *\n",
    "\n",
    "x=y=0\n",
    "string=['R','R','U','U','R','R','U','U','R','U','U']\n",
    "print(\"Follow this Pattern to get out of the maze \\n\",*string)\n",
    "xf,yf=(5,6)\n",
    "print(xf,yf)\n",
    "for i in range(30):\n",
    "    if x==xf and y==yf:\n",
    "        print(\"Congrats!!! Your out of the Maze :)\")\n",
    "        break\n",
    "    else:\n",
    "        side=input(\"Direction: \")\n",
    "        if side=='L':\n",
    "            x=x-1\n",
    "        elif side=='R':\n",
    "            x=x+1\n",
    "        elif side=='D':\n",
    "            y=y-1\n",
    "        elif side=='U':\n",
    "            y=y+1\n",
    "        else:\n",
    "            print(\"Invalid Input\")\n",
    "        print(x,y)"
   ]
  }
 ],
 "metadata": {
  "kernelspec": {
   "display_name": "Python 3",
   "language": "python",
   "name": "python3"
  },
  "language_info": {
   "codemirror_mode": {
    "name": "ipython",
    "version": 3
   },
   "file_extension": ".py",
   "mimetype": "text/x-python",
   "name": "python",
   "nbconvert_exporter": "python",
   "pygments_lexer": "ipython3",
   "version": "3.7.4"
  },
  "toc": {
   "base_numbering": 1,
   "nav_menu": {},
   "number_sections": true,
   "sideBar": true,
   "skip_h1_title": false,
   "title_cell": "Table of Contents",
   "title_sidebar": "Contents",
   "toc_cell": false,
   "toc_position": {},
   "toc_section_display": true,
   "toc_window_display": false
  }
 },
 "nbformat": 4,
 "nbformat_minor": 2
}
