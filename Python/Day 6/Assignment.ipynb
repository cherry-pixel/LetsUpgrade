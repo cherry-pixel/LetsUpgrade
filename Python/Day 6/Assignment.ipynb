{
 "cells": [
  {
   "cell_type": "markdown",
   "metadata": {},
   "source": [
    "### Assignment 1\n",
    "\n",
    "#### Filter Function\n",
    "\n",
    "**The filter() method takes two parameters:**\n",
    "\n",
    ">function - function that tests if elements of an iterable returns true or false\n",
    "\n",
    ">If None, the function defaults to Identity function - which returns false if any elements are false\n",
    "\n",
    ">iterable - iterable which is to be filtered, could be sets, lists, tuples, or containers of any iterators\n",
    "\n",
    "SYNTAX - <font color=blue>filter(function, iterable)</font>"
   ]
  },
  {
   "cell_type": "code",
   "execution_count": 17,
   "metadata": {},
   "outputs": [
    {
     "name": "stdout",
     "output_type": "stream",
     "text": [
      "<filter object at 0x0000021AAF0CB088>\n",
      "<class 'filter'>\n",
      "[3, 4, 5, 6, 7, 8, 9]\n"
     ]
    }
   ],
   "source": [
    "def sqr(a):\n",
    "    if a>=3:\n",
    "        return a\n",
    "x=filter(sqr,[2,3,4,5,6,7,8,9])\n",
    "print(x,type(x),list(x),sep='\\n')"
   ]
  },
  {
   "cell_type": "code",
   "execution_count": 18,
   "metadata": {},
   "outputs": [
    {
     "name": "stdout",
     "output_type": "stream",
     "text": [
      "[3, 4]\n"
     ]
    }
   ],
   "source": [
    "list1= [1,2,3,4]\n",
    "x=list(filter(lambda x:x>=3,list1))\n",
    "print(x)"
   ]
  },
  {
   "cell_type": "code",
   "execution_count": 19,
   "metadata": {},
   "outputs": [
    {
     "name": "stdout",
     "output_type": "stream",
     "text": [
      "[3, 4]\n"
     ]
    }
   ],
   "source": [
    "list1= [1,2,3,4]\n",
    "print(list(filter(lambda x:x>=3,list1)))"
   ]
  },
  {
   "cell_type": "code",
   "execution_count": 20,
   "metadata": {},
   "outputs": [
    {
     "name": "stdout",
     "output_type": "stream",
     "text": [
      "<filter object at 0x0000021AAF0CAB48>\n",
      "2 4 6 8\n",
      "[2, 4, 6, 8]\n"
     ]
    }
   ],
   "source": [
    "#To find even numbers using filter\n",
    "\n",
    "def is_even(n) :\n",
    "    if n%2==0:\n",
    "        return n\n",
    "\n",
    "nums = [0,1,2,3,4,5,6,7,8,9]\n",
    "even = filter(is_even,nums)\n",
    "print(even)\n",
    "print(*even)\n",
    "even1 = list(filter(is_even,nums))\n",
    "print(even1)"
   ]
  },
  {
   "cell_type": "markdown",
   "metadata": {},
   "source": [
    "#### Lambda Function\n",
    "\n",
    ">A lambda function is a small anonymous functions (i.e) they do not any name(anonymous/nameless functions).\n",
    "\n",
    ">A lambda function can take any number of arguments, but can only have one expression.\n",
    "\n",
    ">Generally provided as input to other functions performing complex operations\n",
    "\n",
    "**SYNTAX** - <font color=blue>lambda arguments : expression</font>\n",
    "\n",
    "**Note:'lambda' is not a name,it's a keyword.**<bI>\n",
    "    \n",
    "**Use of Lambda Function**\n",
    "> **1.One Time Use:** They are used in places where we know that funcs will be required just once.so they are called as *Throw Away Functions*\n",
    "<bI>\n",
    "    \n",
    "> **2.Input/Output to other funcs:** Also passed as inputs or returned as outputs of other higher-order funcs\n",
    "<bI>\n",
    "    \n",
    "> **3.Reduce Code Size:** Body of Lambda funcs is written in a single line"
   ]
  },
  {
   "cell_type": "code",
   "execution_count": 21,
   "metadata": {},
   "outputs": [
    {
     "data": {
      "text/plain": [
       "81"
      ]
     },
     "execution_count": 21,
     "metadata": {},
     "output_type": "execute_result"
    }
   ],
   "source": [
    "#without lambda \n",
    "def sqr(a):\n",
    "    return a*a\n",
    "sqr(9)"
   ]
  },
  {
   "cell_type": "code",
   "execution_count": 22,
   "metadata": {},
   "outputs": [
    {
     "data": {
      "text/plain": [
       "81"
      ]
     },
     "execution_count": 22,
     "metadata": {},
     "output_type": "execute_result"
    }
   ],
   "source": [
    "#with lambda\n",
    "sqr = lambda a: a*a\n",
    "sqr(9)"
   ]
  },
  {
   "cell_type": "code",
   "execution_count": 23,
   "metadata": {},
   "outputs": [
    {
     "name": "stdout",
     "output_type": "stream",
     "text": [
      "<function abc.<locals>.<lambda> at 0x0000021AAF0B7E58>\n",
      "9\n"
     ]
    }
   ],
   "source": [
    "#lambda within user defined functions\n",
    "def abc(x):\n",
    "    return lambda y : x+y\n",
    "\n",
    "t = abc(4)\n",
    "print(t)\n",
    "print(t(5))"
   ]
  },
  {
   "cell_type": "code",
   "execution_count": 24,
   "metadata": {},
   "outputs": [
    {
     "data": {
      "text/plain": [
       "11"
      ]
     },
     "execution_count": 24,
     "metadata": {},
     "output_type": "execute_result"
    }
   ],
   "source": [
    "z = lambda x,y:5*x+3*y\n",
    "z(1,2)"
   ]
  },
  {
   "cell_type": "code",
   "execution_count": 25,
   "metadata": {},
   "outputs": [
    {
     "data": {
      "text/plain": [
       "25"
      ]
     },
     "execution_count": 25,
     "metadata": {},
     "output_type": "execute_result"
    }
   ],
   "source": [
    "z = lambda x,y: (x+y)**2\n",
    "z(2,3)"
   ]
  },
  {
   "cell_type": "code",
   "execution_count": 26,
   "metadata": {},
   "outputs": [
    {
     "data": {
      "text/plain": [
       "[4, 5, 6, 7]"
      ]
     },
     "execution_count": 26,
     "metadata": {},
     "output_type": "execute_result"
    }
   ],
   "source": [
    "list1=[1,2,3,4]\n",
    "list(map(lambda x: x+3,list1))"
   ]
  },
  {
   "cell_type": "code",
   "execution_count": 27,
   "metadata": {},
   "outputs": [
    {
     "name": "stdout",
     "output_type": "stream",
     "text": [
      "[0, 2, 4, 6, 8]\n"
     ]
    }
   ],
   "source": [
    "# Doing the same operation using Lambda function instead of regular function\n",
    "\n",
    "nums = [0,1,2,3,4,5,6,7,8,9]\n",
    "even = list(filter(lambda n : n%2==0,nums))\n",
    "print(even)"
   ]
  },
  {
   "cell_type": "markdown",
   "metadata": {},
   "source": [
    "#### Map Method\n",
    "\n",
    ">The map() method is used to apply a function on every element in an array. A new array is then returned\n",
    "\n",
    "**SYNTAX** - <font color=blue>map(function, iterables)</font>"
   ]
  },
  {
   "cell_type": "code",
   "execution_count": 28,
   "metadata": {},
   "outputs": [
    {
     "name": "stdout",
     "output_type": "stream",
     "text": [
      "36\n"
     ]
    }
   ],
   "source": [
    "#without using map()\n",
    "\n",
    "def sqr(a):\n",
    "    return a*a\n",
    "x=sqr(6)\n",
    "print(x)"
   ]
  },
  {
   "cell_type": "code",
   "execution_count": 29,
   "metadata": {},
   "outputs": [
    {
     "name": "stdout",
     "output_type": "stream",
     "text": [
      "<map object at 0x0000021AAF0DC148>\n",
      "[1, 4, 9, 16, 484]\n"
     ]
    }
   ],
   "source": [
    "#using map function function - map(function, iterables)\n",
    "\n",
    "def sqr(a):\n",
    "    return a*a\n",
    "x=map(sqr,[1,2,3,4,22])\n",
    "print(x)\n",
    "print(list(x))"
   ]
  },
  {
   "cell_type": "code",
   "execution_count": 30,
   "metadata": {},
   "outputs": [
    {
     "name": "stdout",
     "output_type": "stream",
     "text": [
      "[1, 4, 9, 16, 484]\n"
     ]
    }
   ],
   "source": [
    "def sqr(a):\n",
    "    return a*a\n",
    "lst=[1,2,3,4,22]\n",
    "print(list(map(sqr,lst)))"
   ]
  },
  {
   "cell_type": "code",
   "execution_count": 31,
   "metadata": {},
   "outputs": [
    {
     "name": "stdout",
     "output_type": "stream",
     "text": [
      "[1, 1, 1]\n"
     ]
    }
   ],
   "source": [
    "def sub(a,b):\n",
    "    return a-b\n",
    "list1=[2,4,6]\n",
    "list2=[1,3,5]\n",
    "\n",
    "print(list(map(sub, list1,list2)))"
   ]
  },
  {
   "cell_type": "code",
   "execution_count": 32,
   "metadata": {},
   "outputs": [
    {
     "name": "stdout",
     "output_type": "stream",
     "text": [
      "33,66,99,12,45,68,98\n"
     ]
    },
    {
     "data": {
      "text/plain": [
       "[33, 66, 99]"
      ]
     },
     "execution_count": 32,
     "metadata": {},
     "output_type": "execute_result"
    }
   ],
   "source": [
    "list (map (int, input().strip().split(','))) [:3]"
   ]
  },
  {
   "cell_type": "code",
   "execution_count": 33,
   "metadata": {},
   "outputs": [
    {
     "name": "stdout",
     "output_type": "stream",
     "text": [
      "[0, 1, 4, 9, 16, 25, 36, 49, 64, 81]\n",
      "[0, 4, 16, 36, 64]\n"
     ]
    }
   ],
   "source": [
    "# Squaring nums list using map method and lambda function concurrently\n",
    "\n",
    "nums = [0,1,2,3,4,5,6,7,8,9]\n",
    "sqr = list(map(lambda n : n*n,nums))\n",
    "print(sqr)\n",
    "\n",
    "# Making every num in the nums list to even after squaring\n",
    "\n",
    "evensqr = list(filter(lambda n : n%2==0,sqr))\n",
    "print(evensqr)"
   ]
  },
  {
   "cell_type": "markdown",
   "metadata": {},
   "source": [
    "#### Reduce Function\n",
    "\n",
    "The reduce function is used to apply a particular function passed in its argument to all of the list elements mentioned in the sequence passed along. \n",
    ">This function is defined in **“functools”** module.\n",
    "\n",
    ">Working : At first step, first two elements of sequence are picked and the result is obtained.\n",
    "\n",
    ">{It returns only one value i.e it reduces the list elements to only one value based on the condition specified}\n",
    "\n",
    "**SYNTAX :**<br>\n",
    "<font color=blue>from functools import reduce<br>\n",
    "reduce(func, iter)</font>"
   ]
  },
  {
   "cell_type": "code",
   "execution_count": 34,
   "metadata": {},
   "outputs": [
    {
     "name": "stdout",
     "output_type": "stream",
     "text": [
      "10\n"
     ]
    }
   ],
   "source": [
    "from functools import reduce\n",
    "def sqr(a,b):\n",
    "    return a+b\n",
    "lst=[1,2,3,4]\n",
    "x=reduce(sqr,lst)\n",
    "print(x)"
   ]
  },
  {
   "cell_type": "code",
   "execution_count": 35,
   "metadata": {},
   "outputs": [
    {
     "name": "stdout",
     "output_type": "stream",
     "text": [
      "10\n",
      "24\n"
     ]
    }
   ],
   "source": [
    "print(reduce(lambda a,b: a+b,lst))\n",
    "print(reduce(lambda a,b: a*b,lst))"
   ]
  },
  {
   "cell_type": "code",
   "execution_count": 36,
   "metadata": {},
   "outputs": [
    {
     "name": "stdout",
     "output_type": "stream",
     "text": [
      "<map object at 0x0000021AAF0CB548>\n",
      "[6, 8]\n"
     ]
    }
   ],
   "source": [
    "#filter within map\n",
    "\n",
    "x= map(lambda x: x+x, filter(lambda x:x>=3,lst))\n",
    "print(x,list(x),sep='\\n')"
   ]
  },
  {
   "cell_type": "code",
   "execution_count": 37,
   "metadata": {},
   "outputs": [
    {
     "name": "stdout",
     "output_type": "stream",
     "text": [
      "<filter object at 0x0000021AAF0C1308>\n",
      "[5, 6, 7]\n"
     ]
    }
   ],
   "source": [
    "#map within filter\n",
    "\n",
    "x =  filter(lambda x: x>=5, map(lambda x: x+3,lst))\n",
    "print(x,list(x),sep='\\n')"
   ]
  },
  {
   "cell_type": "code",
   "execution_count": 38,
   "metadata": {},
   "outputs": [
    {
     "name": "stdout",
     "output_type": "stream",
     "text": [
      "14\n"
     ]
    }
   ],
   "source": [
    "#map and filter within reduce\n",
    "\n",
    "x = reduce(lambda x,y: x+y, map(lambda x:x+x, filter(lambda x:x>=3, (1,2,3,4))))\n",
    "print(x)"
   ]
  },
  {
   "cell_type": "code",
   "execution_count": 39,
   "metadata": {},
   "outputs": [
    {
     "name": "stdout",
     "output_type": "stream",
     "text": [
      "[0, 1, 4, 9, 16, 25, 36, 49, 64, 81]\n"
     ]
    },
    {
     "ename": "TypeError",
     "evalue": "'int' object is not iterable",
     "output_type": "error",
     "traceback": [
      "\u001b[1;31m---------------------------------------------------------------------------\u001b[0m",
      "\u001b[1;31mTypeError\u001b[0m                                 Traceback (most recent call last)",
      "\u001b[1;32m<ipython-input-39-6577da4c7408>\u001b[0m in \u001b[0;36m<module>\u001b[1;34m\u001b[0m\n\u001b[0;32m      5\u001b[0m \u001b[0mprint\u001b[0m\u001b[1;33m(\u001b[0m\u001b[0msqr\u001b[0m\u001b[1;33m)\u001b[0m\u001b[1;33m\u001b[0m\u001b[1;33m\u001b[0m\u001b[0m\n\u001b[0;32m      6\u001b[0m \u001b[0msum\u001b[0m\u001b[1;33m=\u001b[0m\u001b[1;36m0\u001b[0m\u001b[1;33m\u001b[0m\u001b[1;33m\u001b[0m\u001b[0m\n\u001b[1;32m----> 7\u001b[1;33m \u001b[0msumsqr\u001b[0m \u001b[1;33m=\u001b[0m \u001b[0mlist\u001b[0m\u001b[1;33m(\u001b[0m\u001b[0mreduce\u001b[0m\u001b[1;33m(\u001b[0m\u001b[1;32mlambda\u001b[0m \u001b[0msum\u001b[0m\u001b[1;33m,\u001b[0m\u001b[0mb\u001b[0m \u001b[1;33m:\u001b[0m\u001b[0msum\u001b[0m\u001b[1;33m+\u001b[0m\u001b[0mb\u001b[0m\u001b[1;33m,\u001b[0m\u001b[0mnums\u001b[0m\u001b[1;33m)\u001b[0m\u001b[1;33m)\u001b[0m\u001b[1;33m\u001b[0m\u001b[1;33m\u001b[0m\u001b[0m\n\u001b[0m\u001b[0;32m      8\u001b[0m \u001b[0mprint\u001b[0m\u001b[1;33m(\u001b[0m\u001b[0msumsqr\u001b[0m\u001b[1;33m)\u001b[0m\u001b[1;33m\u001b[0m\u001b[1;33m\u001b[0m\u001b[0m\n",
      "\u001b[1;31mTypeError\u001b[0m: 'int' object is not iterable"
     ]
    }
   ],
   "source": [
    "from functools import reduce\n",
    "\n",
    "nums = [0,1,2,3,4,5,6,7,8,9]\n",
    "sqr = list(map(lambda n : n*n,nums))\n",
    "print(sqr)\n",
    "sum=0\n",
    "sumsqr = list(reduce(lambda sum,b :sum+b,nums))\n",
    "print(sumsqr)"
   ]
  },
  {
   "cell_type": "markdown",
   "metadata": {},
   "source": [
    "This previous code throws an error because reduce cant be a list because it returns only one value \n",
    "(i.e) **it reduces the list to one value**\n",
    "\n",
    "The below code is the right way to represent reduce"
   ]
  },
  {
   "cell_type": "code",
   "execution_count": 40,
   "metadata": {},
   "outputs": [
    {
     "name": "stdout",
     "output_type": "stream",
     "text": [
      "[0, 1, 4, 9, 16, 25, 36, 49, 64, 81]\n",
      "45\n"
     ]
    }
   ],
   "source": [
    "from functools import reduce\n",
    "\n",
    "nums = [0,1,2,3,4,5,6,7,8,9]\n",
    "sqr = list(map(lambda n : n*n,nums))\n",
    "print(sqr)\n",
    "sum=0\n",
    "sumsqr = reduce(lambda sum,b :sum+b,nums)\n",
    "print(sumsqr)"
   ]
  },
  {
   "cell_type": "markdown",
   "metadata": {},
   "source": [
    "### Assignment 2\n",
    "\n",
    "*Logic :*\n",
    "\n",
    "B 66 --2 \n",
    "\n",
    "A 65 D 68 OPQR 79-82 --1  \n",
    "\n",
    "C 67 EFGHIJKLMN 69-78 STUVWXYZ 83-90 --0  "
   ]
  },
  {
   "cell_type": "code",
   "execution_count": 16,
   "metadata": {},
   "outputs": [
    {
     "name": "stdout",
     "output_type": "stream",
     "text": [
      "Enter a string: hello cherry how are you\n",
      "HELLOCHERRYHOWAREYOU\n",
      "Region Count =  7\n"
     ]
    }
   ],
   "source": [
    "def checkip(string):\n",
    "    count=0\n",
    "    if(string.isupper()==False):\n",
    "        string=string.upper()\n",
    "        string=string.replace(' ','')\n",
    "    print(string)\n",
    "    regs(string,count)\n",
    "\n",
    "def regs(string,count):\n",
    "    res=[ord(i) for i in string]\n",
    "    for i in res :\n",
    "        if i==66:\n",
    "            count+=2\n",
    "        elif(i==67 or i==68 or (i>=79 and i<=82)):\n",
    "            count+=1\n",
    "        else:\n",
    "            pass\n",
    "    print(\"Region Count = \",count)\n",
    "    \n",
    "string = input(\"Enter a string: \")\n",
    "checkip(string)\n"
   ]
  }
 ],
 "metadata": {
  "kernelspec": {
   "display_name": "Python 3",
   "language": "python",
   "name": "python3"
  },
  "language_info": {
   "codemirror_mode": {
    "name": "ipython",
    "version": 3
   },
   "file_extension": ".py",
   "mimetype": "text/x-python",
   "name": "python",
   "nbconvert_exporter": "python",
   "pygments_lexer": "ipython3",
   "version": "3.7.4"
  },
  "toc": {
   "base_numbering": 1,
   "nav_menu": {},
   "number_sections": true,
   "sideBar": true,
   "skip_h1_title": false,
   "title_cell": "Table of Contents",
   "title_sidebar": "Contents",
   "toc_cell": false,
   "toc_position": {},
   "toc_section_display": true,
   "toc_window_display": false
  }
 },
 "nbformat": 4,
 "nbformat_minor": 2
}
